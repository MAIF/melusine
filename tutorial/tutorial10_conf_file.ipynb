{
 "cells": [
  {
   "cell_type": "code",
   "execution_count": null,
   "metadata": {},
   "outputs": [],
   "source": [
    "# Allow logging in the terminal output\n",
    "import logging\n",
    "import sys\n",
    "\n",
    "logging.basicConfig(stream=sys.stdout, level=logging.INFO)"
   ]
  },
  {
   "cell_type": "markdown",
   "metadata": {},
   "source": [
    "# Configuration file tutorial"
   ]
  },
  {
   "cell_type": "markdown",
   "metadata": {},
   "source": [
    "To optimize Melusine for your needs, a custom configuration file may be used.\n",
    "\n",
    "Through a custom configuration file, the user can specify parameters such as:\n",
    "- keywords : List of keywords that Melusine should focus on\n",
    "        - Example: extract keywords with the KeywordExtractor\n",
    "- Custom stopwords : List of stopwords that Melusine should ignore\n",
    "        - Example: tokenize sentences with a Tokenizer\n",
    "- Custom regular expressions (regex) : regex used in the melusine functions\n",
    "        - Example: Regex to detect that a message is a reply"
   ]
  },
  {
   "cell_type": "markdown",
   "metadata": {},
   "source": [
    "# Loading the default configurations\n",
    "The default Melusine configurations can be loaded simply using:  \n",
    "`from melusine import config`"
   ]
  },
  {
   "cell_type": "code",
   "execution_count": null,
   "metadata": {},
   "outputs": [],
   "source": [
    "from melusine import config"
   ]
  },
  {
   "cell_type": "code",
   "execution_count": null,
   "metadata": {},
   "outputs": [],
   "source": [
    "config.keys()"
   ]
  },
  {
   "cell_type": "markdown",
   "metadata": {},
   "source": [
    "Expected results : `dict_keys(['words_list', 'regex', 'tensorboard_callback'])`"
   ]
  },
  {
   "cell_type": "code",
   "execution_count": null,
   "metadata": {},
   "outputs": [],
   "source": [
    "config[\"words_list\"][\"keywords\"]"
   ]
  },
  {
   "cell_type": "markdown",
   "metadata": {},
   "source": [
    "Expected results : `['keyword']`"
   ]
  },
  {
   "cell_type": "markdown",
   "metadata": {},
   "source": [
    "# Using custom configurations\n",
    "Adding custom configurations to Melusine is straightforward.  \n",
    "All you need is to place json or yaml files in a directory and set the environment variable `MELUSINE_CONFIG_DIR`.  \n",
    "\n",
    "The default configurations are loaded anyway but they will be overwritten by the custom configurations  \n",
    "(for the fields that are re-defined in the custom conf)"
   ]
  },
  {
   "cell_type": "markdown",
   "metadata": {},
   "source": [
    "### Create a custom configuration file"
   ]
  },
  {
   "cell_type": "code",
   "execution_count": null,
   "metadata": {},
   "outputs": [],
   "source": [
    "import os, yaml"
   ]
  },
  {
   "cell_type": "code",
   "execution_count": null,
   "metadata": {},
   "outputs": [],
   "source": [
    "# Create a custom config dict\n",
    "custom_conf = {\n",
    "    \"custom_field\": \"custom_value\",\n",
    "    \"words_list\": {\n",
    "        \"keywords\": [\"custom_keyword1\", \"custom_keyword2\"]\n",
    "    }\n",
    "}"
   ]
  },
  {
   "cell_type": "code",
   "execution_count": null,
   "metadata": {},
   "outputs": [],
   "source": [
    "# Create a directory for the custom configuration files\n",
    "custom_conf_dir = os.path.join(os.getcwd(), \"custom_conf\")\n",
    "if not os.path.exists(custom_conf_dir):\n",
    "    os.mkdir(custom_conf_dir)"
   ]
  },
  {
   "cell_type": "code",
   "execution_count": null,
   "metadata": {},
   "outputs": [],
   "source": [
    "# Save the conf to a YAML file\n",
    "custom_conf_file = os.path.join(custom_conf_dir, \"custom_conf.yml\")\n",
    "with open(custom_conf_file, 'w') as outfile:\n",
    "    yaml.dump(custom_conf, outfile, default_flow_style=False)"
   ]
  },
  {
   "cell_type": "markdown",
   "metadata": {},
   "source": [
    "### Load the custom configuration file\n",
    "You just need to set the MELUSINE_CONFIG_DIR variable and next time you import the Melusine config, the custom conf will be available."
   ]
  },
  {
   "cell_type": "code",
   "execution_count": null,
   "metadata": {},
   "outputs": [],
   "source": [
    "os.environ[\"MELUSINE_CONFIG_DIR\"] = custom_conf_dir"
   ]
  },
  {
   "cell_type": "code",
   "execution_count": null,
   "metadata": {},
   "outputs": [],
   "source": [
    "# Reload the configurations\n",
    "# WARNING : In practice you don't need to instanciate the `MelusineConfig` class.\n",
    "# It is instanciated automatically when running `from melusine import config` for the first time.\n",
    "# You just need to update the environement variable BEFORE running `from melusine import config` !\n",
    "from melusine.config.config import MelusineConfig\n",
    "custom_config = MelusineConfig()"
   ]
  },
  {
   "cell_type": "code",
   "execution_count": null,
   "metadata": {},
   "outputs": [],
   "source": [
    "custom_config.keys()"
   ]
  },
  {
   "cell_type": "markdown",
   "metadata": {},
   "source": [
    "Expected results : `dict_keys(['words_list', 'regex', 'tensorboard_callback', 'custom_field'])`"
   ]
  },
  {
   "cell_type": "code",
   "execution_count": null,
   "metadata": {},
   "outputs": [],
   "source": [
    "custom_config[\"words_list\"][\"keywords\"]"
   ]
  },
  {
   "cell_type": "markdown",
   "metadata": {},
   "source": [
    "Expected results : `['custom_keyword1', 'custom_keyword2']`"
   ]
  },
  {
   "cell_type": "markdown",
   "metadata": {},
   "source": [
    "## Setting back the original configurations\n",
    "To reset the configurations, all you need to do is to unset the MELUSINE_CONFIG_DIR environment variable.  "
   ]
  },
  {
   "cell_type": "code",
   "execution_count": null,
   "metadata": {},
   "outputs": [],
   "source": [
    "os.environ[\"MELUSINE_CONFIG_DIR\"] = \"\""
   ]
  },
  {
   "cell_type": "code",
   "execution_count": null,
   "metadata": {},
   "outputs": [],
   "source": [
    "# Reload the configurations\n",
    "# WARNING : In practice you don't need the `load_melusine_conf` function\n",
    "# You just need to update the environement variable BEFORE running `from melusine import config` !\n",
    "original_config = MelusineConfig()"
   ]
  },
  {
   "cell_type": "code",
   "execution_count": null,
   "metadata": {},
   "outputs": [],
   "source": [
    "original_config.keys()"
   ]
  },
  {
   "cell_type": "markdown",
   "metadata": {},
   "source": [
    "Expected results : `dict_keys(['words_list', 'regex', 'tensorboard_callback'])`"
   ]
  },
  {
   "cell_type": "code",
   "execution_count": null,
   "metadata": {},
   "outputs": [],
   "source": [
    "original_config[\"words_list\"][\"keywords\"]"
   ]
  },
  {
   "cell_type": "markdown",
   "metadata": {},
   "source": [
    "Expected results : `['keyword']`"
   ]
  },
  {
   "cell_type": "code",
   "execution_count": null,
   "metadata": {},
   "outputs": [],
   "source": []
  }
 ],
 "metadata": {
  "kernelspec": {
   "display_name": "melusine_perso",
   "language": "python",
   "name": "melusine_perso"
  },
  "language_info": {
   "codemirror_mode": {
    "name": "ipython",
    "version": 3
   },
   "file_extension": ".py",
   "mimetype": "text/x-python",
   "name": "python",
   "nbconvert_exporter": "python",
   "pygments_lexer": "ipython3",
   "version": "3.7.11"
  }
 },
 "nbformat": 4,
 "nbformat_minor": 4
}
