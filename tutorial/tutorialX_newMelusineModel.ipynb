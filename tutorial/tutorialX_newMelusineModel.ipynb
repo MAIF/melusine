{
 "cells": [
  {
   "cell_type": "markdown",
   "id": "bcf8701a-23b8-4c46-a3e3-b43bb11fc547",
   "metadata": {},
   "source": [
    "# Import"
   ]
  },
  {
   "cell_type": "code",
   "execution_count": null,
   "id": "91dd5501-be02-4fd8-909d-a111feccd594",
   "metadata": {},
   "outputs": [],
   "source": [
    "import logging\n",
    "import sys\n",
    "\n",
    "import pandas as pd\n",
    "from melusine.nlp_tools.embedding import Embedding"
   ]
  },
  {
   "cell_type": "markdown",
   "id": "6f9449df-0f61-4364-a28f-3c11317a4e40",
   "metadata": {},
   "source": [
    "# Setup logging"
   ]
  },
  {
   "cell_type": "code",
   "execution_count": null,
   "id": "b355c3f4-ac54-4645-a5f3-16819fd5bf3f",
   "metadata": {},
   "outputs": [],
   "source": [
    "logging.basicConfig(stream=sys.stdout, level=logging.INFO)\n",
    "logging.getLogger(\"gensim\").setLevel(logging.WARNING)"
   ]
  },
  {
   "cell_type": "markdown",
   "id": "cbae4caf-144a-4259-917c-48b4c9232b1a",
   "metadata": {},
   "source": [
    "# Load data"
   ]
  },
  {
   "cell_type": "code",
   "execution_count": null,
   "id": "fab3071f-e252-41b0-a68f-ad358f5b9064",
   "metadata": {},
   "outputs": [],
   "source": [
    "df_emails_clean = pd.read_csv('../tutorial/data/emails_preprocessed.csv', encoding='utf-8', sep=';')\n",
    "# Artificially increase df size by duplication\n",
    "df_emails_clean = pd.concat([df_emails_clean] * 100, ignore_index=True) \n",
    "df_emails_clean['clean_body'] = df_emails_clean['clean_body'].astype(str)"
   ]
  },
  {
   "cell_type": "markdown",
   "id": "763fe684-9e53-4398-9797-b8bc2495b33c",
   "metadata": {},
   "source": [
    "# Metadata preprocessing"
   ]
  },
  {
   "cell_type": "code",
   "execution_count": null,
   "id": "2fd1996d-e6ad-4b32-90d5-2656c830597d",
   "metadata": {},
   "outputs": [],
   "source": [
    "from sklearn.pipeline import Pipeline\n",
    "from melusine.prepare_email.metadata_engineering import MetaExtension\n",
    "from melusine.prepare_email.metadata_engineering import MetaDate\n",
    "from melusine.prepare_email.metadata_engineering import MetaAttachmentType\n",
    "from melusine.prepare_email.metadata_engineering import Dummifier\n",
    "\n",
    "# Pipeline to extract dummified metadata\n",
    "MetadataPipeline = Pipeline([\n",
    "    ('MetaExtension', MetaExtension()),\n",
    "    ('MetaDate', MetaDate()),\n",
    "    ('MetaAttachmentType',MetaAttachmentType()),\n",
    "    ('Dummifier', Dummifier())\n",
    "])\n",
    "df_meta = MetadataPipeline.fit_transform(df_emails_clean)"
   ]
  },
  {
   "cell_type": "code",
   "execution_count": null,
   "id": "da203a42-7671-46a6-9c1b-1f7d440ffaa4",
   "metadata": {},
   "outputs": [],
   "source": [
    "X = pd.concat([df_emails_clean['clean_body'],df_meta],axis=1)\n",
    "y = df_emails_clean['label']"
   ]
  },
  {
   "cell_type": "markdown",
   "id": "7e993a00-81e6-4c0a-a84c-900a3ca9e417",
   "metadata": {},
   "source": [
    "# Tokenizer "
   ]
  },
  {
   "cell_type": "code",
   "execution_count": null,
   "id": "26cb0050-38f8-455c-a073-e8b4aedc20ff",
   "metadata": {},
   "outputs": [],
   "source": [
    "from melusine.nlp_tools.tokenizer import WordLevelTokenizer"
   ]
  },
  {
   "cell_type": "code",
   "execution_count": null,
   "id": "b2587f71-25fa-483f-bfac-eaac54809a85",
   "metadata": {},
   "outputs": [],
   "source": [
    "tokenizer = WordLevelTokenizer()"
   ]
  },
  {
   "cell_type": "code",
   "execution_count": null,
   "id": "be101ede-07cd-4948-bd6a-9092a260ba35",
   "metadata": {},
   "outputs": [],
   "source": [
    "df_emails_clean['tokens'] = df_emails_clean['clean_body'].apply(tokenizer.tokenize)"
   ]
  },
  {
   "cell_type": "markdown",
   "id": "4d5d99c1-40f3-4c6f-afc2-874fbeaaae44",
   "metadata": {},
   "source": [
    "# Train word embeddings"
   ]
  },
  {
   "cell_type": "code",
   "execution_count": null,
   "id": "7a06419c-7fbf-45fd-b7ec-61acbe97be7f",
   "metadata": {},
   "outputs": [],
   "source": [
    "from gensim.models import Word2Vec\n",
    "\n",
    "vector_size = 50\n",
    "min_count = 2\n",
    "epochs = 2\n",
    "\n",
    "embedding = Word2Vec(\n",
    "    size=vector_size,\n",
    "    min_count=min_count,\n",
    ")\n",
    "\n",
    "\n",
    "embedding.build_vocab(df_emails_clean['tokens'])\n",
    "embedding.train(\n",
    "    df_emails_clean['tokens'],\n",
    "    total_examples=embedding.corpus_count,\n",
    "    epochs=epochs,\n",
    ")"
   ]
  },
  {
   "cell_type": "markdown",
   "id": "c70e7be6-325d-4566-8b68-ffdab7189798",
   "metadata": {},
   "source": [
    "# Classification using a CnnMelusineModel"
   ]
  },
  {
   "cell_type": "code",
   "execution_count": null,
   "id": "fa19d3a3-ed92-46ad-b1be-a926ba8cd2b7",
   "metadata": {},
   "outputs": [],
   "source": [
    "from melusine.models.models_v2.cnn_model import CnnMelusineModel"
   ]
  },
  {
   "cell_type": "code",
   "execution_count": null,
   "id": "1ce98acc-1132-43da-bc95-ec61f4cc0076",
   "metadata": {},
   "outputs": [],
   "source": [
    "model = CnnMelusineModel(  \n",
    "    tokenizer=tokenizer,\n",
    "    text_column=\"clean_body\",\n",
    "    seq_max=128,\n",
    "    pretrained_embedding=embedding.wv,\n",
    "    meta_input_list=['extension', 'dayofweek','hour', 'min', 'attachment_type'],\n",
    "    # meta_input_list=None,\n",
    ")"
   ]
  },
  {
   "cell_type": "markdown",
   "id": "f3e31cf9-b20c-4522-99ff-f8e314058c9f",
   "metadata": {},
   "source": [
    "# Melusine Trainer"
   ]
  },
  {
   "cell_type": "code",
   "execution_count": null,
   "id": "b8feade0-c278-4f18-9556-34bdebb3346c",
   "metadata": {},
   "outputs": [],
   "source": [
    "from melusine.models.models_v2.trainer import MelusineTrainer"
   ]
  },
  {
   "cell_type": "code",
   "execution_count": null,
   "id": "e48e8fdf-0a79-4be1-971d-de73a98e6465",
   "metadata": {},
   "outputs": [],
   "source": [
    "trainer = MelusineTrainer(model, epochs=2, batch_size=256)"
   ]
  },
  {
   "cell_type": "code",
   "execution_count": null,
   "id": "8a575b7d-7603-42c9-89f1-7e550f459dc5",
   "metadata": {},
   "outputs": [],
   "source": [
    "trainer.train(X, y)"
   ]
  },
  {
   "cell_type": "markdown",
   "id": "3ec620d2-8b49-4a5a-abda-f782db251358",
   "metadata": {},
   "source": [
    "# Classification using a Transformer model"
   ]
  },
  {
   "cell_type": "code",
   "execution_count": null,
   "id": "5a7c85c0-7486-4a31-999d-46ce396ae95e",
   "metadata": {},
   "outputs": [],
   "source": [
    "from melusine.models.models_v2.transformers_model import TransformersMelusineModel"
   ]
  },
  {
   "cell_type": "code",
   "execution_count": null,
   "id": "30ecb7f7-00cb-4b3c-a25d-1d19c974c87f",
   "metadata": {},
   "outputs": [],
   "source": [
    "model = TransformersMelusineModel(  \n",
    "    text_column=\"clean_body\",\n",
    "    model_name_or_path=\"camembert-base\",\n",
    "    seq_max=128,\n",
    "    meta_input_list=['extension', 'dayofweek','hour', 'min', 'attachment_type'],\n",
    ")"
   ]
  },
  {
   "cell_type": "code",
   "execution_count": null,
   "id": "3c8177d6-8004-41dc-8e30-19d44c81ed08",
   "metadata": {},
   "outputs": [],
   "source": [
    "trainer = MelusineTrainer(model, epochs=2, batch_size=256)"
   ]
  },
  {
   "cell_type": "code",
   "execution_count": null,
   "id": "aa217eec-1f17-441b-86cb-5e7107395671",
   "metadata": {},
   "outputs": [],
   "source": [
    "trainer.train(X, y)"
   ]
  },
  {
   "cell_type": "code",
   "execution_count": null,
   "id": "eb401d7f-d273-498b-be49-1fdbb5fa2821",
   "metadata": {},
   "outputs": [],
   "source": []
  }
 ],
 "metadata": {
  "kernelspec": {
   "display_name": "melusine_perso38",
   "language": "python",
   "name": "melusine_perso38"
  },
  "language_info": {
   "codemirror_mode": {
    "name": "ipython",
    "version": 3
   },
   "file_extension": ".py",
   "mimetype": "text/x-python",
   "name": "python",
   "nbconvert_exporter": "python",
   "pygments_lexer": "ipython3",
   "version": "3.8.11"
  }
 },
 "nbformat": 4,
 "nbformat_minor": 5
}
