{
 "cells": [
  {
   "cell_type": "markdown",
   "metadata": {},
   "source": [
    "# Full pipeline (detailed)"
   ]
  },
  {
   "cell_type": "markdown",
   "metadata": {},
   "source": [
    "This notebook explains the full pipeline in a detailed manner, including the preprocessing steps, the summerization steps and the classification ones."
   ]
  },
  {
   "cell_type": "markdown",
   "metadata": {},
   "source": [
    "## Loading the dataset under the Pandas Dataframe format"
   ]
  },
  {
   "cell_type": "markdown",
   "metadata": {},
   "source": [
    "Because Melusine operates Pandas Dataframes by applying functions to certain columns to produce new columns, the initial columns have to follow a strict naming.\n",
    "\n",
    "The basic requirement to use Melusine is to have an input e-mail DataFrame with the following columns :\n",
    "- body : Body of an email (single message or conversation historic)\n",
    "- header : Header of an email\n",
    "- date : Reception date of an email\n",
    "- from : Email address of the sender\n",
    "- to (optional): Email address of the recipient\n",
    "- attachment (optional) : List of filenames attached to the email\n",
    "- label (optional): Label of the email for a classification task (examples: Business, Spam, Finance or Family)\n",
    "\n",
    "Each row correspond to a unique email."
   ]
  },
  {
   "cell_type": "code",
   "execution_count": 1,
   "metadata": {
    "ExecuteTime": {
     "end_time": "2019-12-17T09:41:54.408281Z",
     "start_time": "2019-12-17T09:41:53.883080Z"
    }
   },
   "outputs": [],
   "source": [
    "from melusine.data.data_loader import load_email_data\n",
    "\n",
    "df_emails = load_email_data()"
   ]
  },
  {
   "cell_type": "code",
   "execution_count": 2,
   "metadata": {
    "ExecuteTime": {
     "end_time": "2019-12-17T09:41:54.434223Z",
     "start_time": "2019-12-17T09:41:54.412573Z"
    }
   },
   "outputs": [
    {
     "data": {
      "text/plain": [
       "Index(['body', 'header', 'date', 'from', 'to', 'attachment', 'sexe', 'age',\n",
       "       'label'],\n",
       "      dtype='object')"
      ]
     },
     "execution_count": 2,
     "metadata": {},
     "output_type": "execute_result"
    }
   ],
   "source": [
    "df_emails.columns"
   ]
  },
  {
   "cell_type": "code",
   "execution_count": 3,
   "metadata": {
    "ExecuteTime": {
     "end_time": "2019-12-17T09:41:54.462713Z",
     "start_time": "2019-12-17T09:41:54.437143Z"
    }
   },
   "outputs": [
    {
     "name": "stdout",
     "output_type": "stream",
     "text": [
      "Body :\n",
      " \n",
      "  \n",
      "  \n",
      "  \n",
      " ----- Transféré par Conseiller le 25/05/2018 08:20 ----- \n",
      "  \n",
      " De :\tDupont <monsieurdupont@extensiona.com> \n",
      " A :\tconseiller@Societeimaginaire.fr \n",
      " Date :\t24/05/2018 19:37 \n",
      " Objet :\tImmatriculation voiture \n",
      "  \n",
      "  \n",
      "  \n",
      " Bonsoir madame, \n",
      "  \n",
      " Je vous informe que la nouvelle immatriculation est enfin \n",
      " faite. Je vous remercie bien pour votre patience. \n",
      " Je vous prie de trouver donc la carte grise ainsi que la \n",
      " nouvelle immatriculation. Je vous demanderai de faire les changements \n",
      " nécessaires concernant l’assurance. \n",
      " Je vous remercie encore pour tout. \n",
      " Cordialement, \n",
      " Monsieur Dupont (See attached file: pj.pdf)\n",
      "\n",
      "\n",
      "Header :\n",
      "Tr : Immatriculation voiture\n",
      "Date :\n",
      "vendredi 25 mai 2018 06 h 21 CEST\n",
      "From :\n",
      "conseiller1@societeimaginaire.fr\n",
      "To :\n",
      "demandes@societeimaginaire.fr\n",
      "Attachment :\n",
      "[\"pj.pdf\"]\n",
      "Label :\n",
      "vehicule\n"
     ]
    }
   ],
   "source": [
    "print('Body :')\n",
    "print(df_emails.body[1])\n",
    "print('\\n')\n",
    "print('Header :')\n",
    "print(df_emails.header[1])\n",
    "print('Date :')\n",
    "print(df_emails.date[1])\n",
    "print('From :')\n",
    "print(df_emails.loc[1,\"from\"])\n",
    "print('To :')\n",
    "print(df_emails.to[1])\n",
    "print('Attachment :')\n",
    "print(df_emails.attachment[1])\n",
    "print('Label :')\n",
    "print(df_emails.label[1])"
   ]
  },
  {
   "cell_type": "markdown",
   "metadata": {},
   "source": [
    "## Pipeline to manage transfers and replies"
   ]
  },
  {
   "cell_type": "markdown",
   "metadata": {},
   "source": [
    "A single email can contain several replies or transfers in its body.\n",
    "\n",
    "In this pipeline the functions applied are :\n",
    "- **check_mail_begin_by_transfer :** returns True if an email is a direct transfer, else False.\n",
    "- **update_info_for_transfer_mail :** update the columns body, header, date, from and to if the email is a direct transfer.\n",
    "- **add_boolean_answer :** returns True if an email is an answer, else False.\n",
    "- **add_boolean_transfer :** returns True if an email is transferred, else False.\n",
    "\n",
    "This pipeline will create the following new columns :\n",
    "- **is_begin_by_transfer (boolean) :** indicates if the email is a direct transfer, meaning the person whe tranfered a previous email has not written anything on his own. If it is the case, the body, header, date, from and to columns will be updated with the information of the transfered email.\n",
    "- **is_answer (boolean) :** indicates if the body contains replies from previous emails.\n",
    "- **is_transfer (boolean) :** indicates if the body contains transfered emails (not necesseraly a direct transfer)."
   ]
  },
  {
   "cell_type": "markdown",
   "metadata": {},
   "source": [
    "#### An example of a direct tranfer"
   ]
  },
  {
   "cell_type": "code",
   "execution_count": 4,
   "metadata": {
    "ExecuteTime": {
     "end_time": "2019-12-17T09:41:54.481838Z",
     "start_time": "2019-12-17T09:41:54.465012Z"
    }
   },
   "outputs": [
    {
     "name": "stdout",
     "output_type": "stream",
     "text": [
      "Tr : Devis habitation\n",
      "jeudi 24 mai 2018 11 h 49 CEST\n",
      "conseiller1@societeimaginaire.fr\n",
      "demandes@societeimaginaire.fr\n",
      " \n",
      "  \n",
      "  \n",
      "  \n",
      " ----- Transféré par Conseiller le 24/05/2018 11:49 ----- \n",
      "  \n",
      " De :\tDupont <monsieurdupont@extensiona.com> \n",
      " A :\tconseiller@Societeimaginaire.fr \n",
      " Cc :\tSociete@www.Societe.fr \n",
      " Date :\t24/05/2018 11:36 \n",
      " Objet :\tDevis habitation \n",
      "  \n",
      "  \n",
      "  \n",
      " Bonjour \n",
      " Je suis client chez vous \n",
      " Pouvez vous m établir un devis pour mon fils qui souhaite \n",
      " louer l’appartement suivant : \n",
      " 25 rue du rueimaginaire 77000 \n",
      " Merci \n",
      " Envoyé de mon iPhone\n"
     ]
    }
   ],
   "source": [
    "print(df_emails.loc[0,'header'])\n",
    "print(df_emails.loc[0,'date'])\n",
    "print(df_emails.loc[0,'from'])\n",
    "print(df_emails.loc[0,'to'])\n",
    "print(df_emails.loc[0,'body'])"
   ]
  },
  {
   "cell_type": "markdown",
   "metadata": {},
   "source": [
    "#### The pipeline "
   ]
  },
  {
   "cell_type": "code",
   "execution_count": 5,
   "metadata": {
    "ExecuteTime": {
     "end_time": "2019-12-17T09:41:54.792213Z",
     "start_time": "2019-12-17T09:41:54.486313Z"
    }
   },
   "outputs": [],
   "source": [
    "from melusine.utils.transformer_scheduler import TransformerScheduler\n",
    "\n",
    "from melusine.prepare_email.manage_transfer_reply import check_mail_begin_by_transfer\n",
    "from melusine.prepare_email.manage_transfer_reply import update_info_for_transfer_mail\n",
    "from melusine.prepare_email.manage_transfer_reply import add_boolean_transfer\n",
    "from melusine.prepare_email.manage_transfer_reply import add_boolean_answer"
   ]
  },
  {
   "cell_type": "code",
   "execution_count": 6,
   "metadata": {
    "ExecuteTime": {
     "end_time": "2019-12-17T09:41:54.812223Z",
     "start_time": "2019-12-17T09:41:54.794291Z"
    }
   },
   "outputs": [],
   "source": [
    "ManageTransferReplyTransformer = TransformerScheduler(\n",
    "    functions_scheduler=[\n",
    "        (check_mail_begin_by_transfer, None, ['is_begin_by_transfer']),\n",
    "        (update_info_for_transfer_mail, None, None),\n",
    "        (add_boolean_answer, None, ['is_answer']),\n",
    "        (add_boolean_transfer, None, ['is_transfer'])\n",
    "    ]\n",
    ")"
   ]
  },
  {
   "cell_type": "code",
   "execution_count": 7,
   "metadata": {
    "ExecuteTime": {
     "end_time": "2019-12-17T09:41:54.851049Z",
     "start_time": "2019-12-17T09:41:54.814194Z"
    }
   },
   "outputs": [],
   "source": [
    "df_emails = ManageTransferReplyTransformer.fit_transform(df_emails)"
   ]
  },
  {
   "cell_type": "code",
   "execution_count": 8,
   "metadata": {
    "ExecuteTime": {
     "end_time": "2019-12-17T09:41:54.869943Z",
     "start_time": "2019-12-17T09:41:54.853054Z"
    }
   },
   "outputs": [
    {
     "data": {
      "text/plain": [
       "Index(['body', 'header', 'date', 'from', 'to', 'attachment', 'sexe', 'age',\n",
       "       'label', 'is_begin_by_transfer', 'is_answer', 'is_transfer'],\n",
       "      dtype='object')"
      ]
     },
     "execution_count": 8,
     "metadata": {},
     "output_type": "execute_result"
    }
   ],
   "source": [
    "df_emails.columns"
   ]
  },
  {
   "cell_type": "markdown",
   "metadata": {},
   "source": [
    "#### An emails previously transfered directly after it has been updated"
   ]
  },
  {
   "cell_type": "code",
   "execution_count": 9,
   "metadata": {
    "ExecuteTime": {
     "end_time": "2019-12-17T09:41:54.903694Z",
     "start_time": "2019-12-17T09:41:54.875162Z"
    }
   },
   "outputs": [
    {
     "name": "stdout",
     "output_type": "stream",
     "text": [
      "True\n",
      "Devis habitation\n",
      "24/05/2018 11:36\n",
      "Dupont <monsieurdupont@extensiona.com>\n",
      "conseiller@Societeimaginaire.fr\n",
      " \n",
      "  \n",
      "  \n",
      "  \n",
      " Bonjour \n",
      " Je suis client chez vous \n",
      " Pouvez vous m établir un devis pour mon fils qui souhaite \n",
      " louer l’appartement suivant : \n",
      " 25 rue du rueimaginaire 77000 \n",
      " Merci \n",
      " Envoyé de mon iPhone\n"
     ]
    }
   ],
   "source": [
    "print(df_emails.loc[0,'is_begin_by_transfer'])\n",
    "print(df_emails.loc[0,'header'])\n",
    "print(df_emails.loc[0,'date'])\n",
    "print(df_emails.loc[0,'from'])\n",
    "print(df_emails.loc[0,'to'])\n",
    "print(df_emails.loc[0,'body'])"
   ]
  },
  {
   "cell_type": "markdown",
   "metadata": {},
   "source": [
    "#### Headers of emails containing replies"
   ]
  },
  {
   "cell_type": "code",
   "execution_count": 10,
   "metadata": {
    "ExecuteTime": {
     "end_time": "2019-12-17T09:41:54.932236Z",
     "start_time": "2019-12-17T09:41:54.909109Z"
    }
   },
   "outputs": [
    {
     "data": {
      "text/plain": [
       "2     Re: Envoi d'un document de la Société Imaginaire\n",
       "3           Re: Votre adhésion à la Société Imaginaire\n",
       "8                                         Re: Virement\n",
       "10                                         Re: Demande\n",
       "14        Re:  Correspondance de La Societe Imaginaire\n",
       "19                  Re: Suppression assurance logement\n",
       "27        Re: Confirmation de votre assurance véhicule\n",
       "Name: header, dtype: object"
      ]
     },
     "execution_count": 10,
     "metadata": {},
     "output_type": "execute_result"
    }
   ],
   "source": [
    "test = df_emails[df_emails['is_answer']==True]\n",
    "test.header"
   ]
  },
  {
   "cell_type": "markdown",
   "metadata": {},
   "source": [
    "#### Headers of emails containing transfers"
   ]
  },
  {
   "cell_type": "code",
   "execution_count": 11,
   "metadata": {
    "ExecuteTime": {
     "end_time": "2019-12-17T09:41:54.956675Z",
     "start_time": "2019-12-17T09:41:54.935461Z"
    }
   },
   "outputs": [
    {
     "data": {
      "text/plain": [
       "12                      Tr : Re: Vos documents demandés\n",
       "21                          Fwd: Changement de vehicule\n",
       "25                              Tr : Re: Interrogations\n",
       "31    Tr : résiliation couverture véhicule suite ces...\n",
       "39        Tr : Message de votre conseillère personnelle\n",
       "Name: header, dtype: object"
      ]
     },
     "execution_count": 11,
     "metadata": {},
     "output_type": "execute_result"
    }
   ],
   "source": [
    "test = df_emails[df_emails['is_transfer']==True]\n",
    "test.header"
   ]
  },
  {
   "cell_type": "markdown",
   "metadata": {},
   "source": [
    "## Email segmenting pipeline"
   ]
  },
  {
   "cell_type": "markdown",
   "metadata": {},
   "source": [
    "Each email will be segmented according to :\n",
    "- the different messages\n",
    "- the metadata, the header and the  text of each messages\n",
    "- the type of metadata (date, from, to)\n",
    "- the different partos of each text (hello, greetings, footer..)\n",
    "\n",
    "In this pipeline the functions applied are :\n",
    "- **build_historic :** segments the different messages of the body and returns a list of dictionaries, one per message. Each dictionary has a key 'meta' to access the metadata and a key 'text' to access the text of the body.\n",
    "- **structure_email :** splits parts of each messages in historic, tags them (tags: Hello, Body, Greetings, etc) and segments each part of the metadata (date, from, to). The result is returned as a list of dictionaries, one per message. Each dictionary has a key 'meta' to access the metadata (itself a dictionary with keys 'date', 'from' and 'to') and a key 'text' to access the text of the body (itself a dictionary with keys 'header' and 'structured_text').\n",
    "\n",
    "This pipeline creates the following new columns :\n",
    "- **structured_historic :** the list of dictionaries returned by **build_historic** function.\n",
    "- **structured_body :** the list of dictionaries returned by **structure_email** function."
   ]
  },
  {
   "cell_type": "code",
   "execution_count": 12,
   "metadata": {
    "ExecuteTime": {
     "end_time": "2019-12-17T09:41:55.117210Z",
     "start_time": "2019-12-17T09:41:54.959041Z"
    }
   },
   "outputs": [],
   "source": [
    "from melusine.prepare_email.build_historic import build_historic\n",
    "from melusine.prepare_email.mail_segmenting import structure_email"
   ]
  },
  {
   "cell_type": "code",
   "execution_count": 13,
   "metadata": {
    "ExecuteTime": {
     "end_time": "2019-12-17T09:41:55.136505Z",
     "start_time": "2019-12-17T09:41:55.118954Z"
    }
   },
   "outputs": [],
   "source": [
    "SegmentingTransformer = TransformerScheduler(\n",
    "    functions_scheduler=[\n",
    "        (build_historic, None, ['structured_historic']),\n",
    "        (structure_email, None, ['structured_body'])\n",
    "    ]\n",
    ")"
   ]
  },
  {
   "cell_type": "code",
   "execution_count": 14,
   "metadata": {
    "ExecuteTime": {
     "end_time": "2019-12-17T09:41:55.268524Z",
     "start_time": "2019-12-17T09:41:55.138000Z"
    }
   },
   "outputs": [],
   "source": [
    "df_emails = SegmentingTransformer.fit_transform(df_emails)"
   ]
  },
  {
   "cell_type": "code",
   "execution_count": 15,
   "metadata": {
    "ExecuteTime": {
     "end_time": "2019-12-17T09:41:55.289349Z",
     "start_time": "2019-12-17T09:41:55.270513Z"
    }
   },
   "outputs": [
    {
     "data": {
      "text/plain": [
       "Index(['body', 'header', 'date', 'from', 'to', 'attachment', 'sexe', 'age',\n",
       "       'label', 'is_begin_by_transfer', 'is_answer', 'is_transfer',\n",
       "       'structured_historic', 'structured_body'],\n",
       "      dtype='object')"
      ]
     },
     "execution_count": 15,
     "metadata": {},
     "output_type": "execute_result"
    }
   ],
   "source": [
    "df_emails.columns"
   ]
  },
  {
   "cell_type": "code",
   "execution_count": 16,
   "metadata": {
    "ExecuteTime": {
     "end_time": "2019-12-17T09:41:55.316153Z",
     "start_time": "2019-12-17T09:41:55.291891Z"
    }
   },
   "outputs": [
    {
     "name": "stdout",
     "output_type": "stream",
     "text": [
      " \n",
      "  \n",
      "  \n",
      " Bonjours, \n",
      "  \n",
      " Suite a notre conversation téléphonique de Mardi , pourriez vous me dire la \n",
      " somme que je vous dois afin d'être en régularisation . \n",
      "  \n",
      " Merci bonne journée \n",
      "  \n",
      " Le mar. 22 mai 2018 à 10:20,  <conseiller@Societeimaginaire.fr> a écrit : \n",
      " Bonjour. \n",
      "  \n",
      " Merci de bien vouloir prendre connaissance du document ci-joint : \n",
      " 1 - Relevé d'identité postal (contrats) \n",
      "  \n",
      " Cordialement. \n",
      "  \n",
      " La Mututelle Imaginaire \n",
      "  \n",
      " La visualisation des fichiers PDF nécessite Adobe Reader. \n",
      "  \n"
     ]
    }
   ],
   "source": [
    "print(df_emails.body[2])"
   ]
  },
  {
   "cell_type": "code",
   "execution_count": 17,
   "metadata": {
    "ExecuteTime": {
     "end_time": "2019-12-17T09:41:55.339306Z",
     "start_time": "2019-12-17T09:41:55.319242Z"
    }
   },
   "outputs": [
    {
     "data": {
      "text/plain": [
       "[{'text': \" \\n  \\n  \\n Bonjours, \\n  \\n Suite a notre conversation téléphonique de Mardi , pourriez vous me dire la \\n somme que je vous dois afin d'être en régularisation . \\n  \\n Merci bonne journée\",\n",
       "  'meta': ''},\n",
       " {'text': \" \\n Bonjour. \\n  \\n Merci de bien vouloir prendre connaissance du document ci-joint : \\n 1 - Relevé d'identité postal (contrats) \\n  \\n Cordialement. \\n  \\n La Mututelle Imaginaire \\n  \\n La visualisation des fichiers PDF nécessite Adobe Reader. \\n  \",\n",
       "  'meta': ' \\n  \\n Le mar. 22 mai 2018 à 10:20,  <conseiller@Societeimaginaire.fr> a écrit\\xa0:'}]"
      ]
     },
     "execution_count": 17,
     "metadata": {},
     "output_type": "execute_result"
    }
   ],
   "source": [
    "df_emails.structured_historic[2]"
   ]
  },
  {
   "cell_type": "code",
   "execution_count": 18,
   "metadata": {
    "ExecuteTime": {
     "end_time": "2019-12-17T09:41:55.362569Z",
     "start_time": "2019-12-17T09:41:55.340970Z"
    }
   },
   "outputs": [
    {
     "data": {
      "text/plain": [
       "[{'meta': {'date': None, 'from': None, 'to': None},\n",
       "  'structured_text': {'header': None,\n",
       "   'text': [{'part': 'Bonjours,', 'tags': 'HELLO'},\n",
       "    {'part': \" Suite a notre conversation téléphonique de Mardi , pourriez vous me dire la somme que je vous dois afin d'être en régularisation .\",\n",
       "     'tags': 'BODY'},\n",
       "    {'part': 'Merci bonne journée', 'tags': 'GREETINGS'}]}},\n",
       " {'meta': {'date': ' mar. 22 mai 2018 à 10:20',\n",
       "   'from': '  <conseiller@Societeimaginaire.fr> ',\n",
       "   'to': None},\n",
       "  'structured_text': {'header': None,\n",
       "   'text': [{'part': 'Bonjour.', 'tags': 'HELLO'},\n",
       "    {'part': \"Merci de bien vouloir prendre connaissance du document ci-joint : 1 - Relevé d'identité postal (contrats) \",\n",
       "     'tags': 'BODY'},\n",
       "    {'part': 'Cordialement.', 'tags': 'GREETINGS'},\n",
       "    {'part': 'La Mututelle Imaginaire ', 'tags': 'BODY'},\n",
       "    {'part': 'La visualisation des fichiers PDF nécessite Adobe Reader.',\n",
       "     'tags': 'FOOTER'}]}}]"
      ]
     },
     "execution_count": 18,
     "metadata": {},
     "output_type": "execute_result"
    }
   ],
   "source": [
    "df_emails.structured_body[2]"
   ]
  },
  {
   "cell_type": "markdown",
   "metadata": {},
   "source": [
    "## Extraction and cleaning of the body of the last message"
   ]
  },
  {
   "cell_type": "markdown",
   "metadata": {},
   "source": [
    "Once each email segmented, the body of the last message will be extracted and cleaned.\n",
    "\n",
    "In this pipeline the functions applied are :\n",
    "- **extract_last_body :** returns the body of the last message of the email.\n",
    "- **clean_body :** returns the body of the last message of the email after cleaning.\n",
    "\n",
    "This pipeline returns the following columns : \n",
    "- **last_body :** the body of the last message of the email returned by **extract_last_body** function.\n",
    "- **clean_body :** the cleaned body of the last message of the email returned by **clean_body** function."
   ]
  },
  {
   "cell_type": "code",
   "execution_count": 19,
   "metadata": {
    "ExecuteTime": {
     "end_time": "2019-12-17T09:41:55.382932Z",
     "start_time": "2019-12-17T09:41:55.364719Z"
    }
   },
   "outputs": [],
   "source": [
    "from melusine.prepare_email.body_header_extraction import extract_last_body\n",
    "from melusine.prepare_email.cleaning import clean_body"
   ]
  },
  {
   "cell_type": "code",
   "execution_count": 20,
   "metadata": {
    "ExecuteTime": {
     "end_time": "2019-12-17T09:41:55.402654Z",
     "start_time": "2019-12-17T09:41:55.386126Z"
    }
   },
   "outputs": [],
   "source": [
    "LastBodyHeaderCleaningTransformer = TransformerScheduler(\n",
    "    functions_scheduler=[\n",
    "        (extract_last_body, None, ['last_body']),\n",
    "        (clean_body, None, ['clean_body'])\n",
    "    ]\n",
    ")"
   ]
  },
  {
   "cell_type": "code",
   "execution_count": 21,
   "metadata": {
    "ExecuteTime": {
     "end_time": "2019-12-17T09:41:55.434264Z",
     "start_time": "2019-12-17T09:41:55.405203Z"
    }
   },
   "outputs": [],
   "source": [
    "df_emails = LastBodyHeaderCleaningTransformer.fit_transform(df_emails)"
   ]
  },
  {
   "cell_type": "code",
   "execution_count": 22,
   "metadata": {
    "ExecuteTime": {
     "end_time": "2019-12-17T09:41:55.451596Z",
     "start_time": "2019-12-17T09:41:55.435517Z"
    }
   },
   "outputs": [
    {
     "data": {
      "text/plain": [
       "Index(['body', 'header', 'date', 'from', 'to', 'attachment', 'sexe', 'age',\n",
       "       'label', 'is_begin_by_transfer', 'is_answer', 'is_transfer',\n",
       "       'structured_historic', 'structured_body', 'last_body', 'clean_body'],\n",
       "      dtype='object')"
      ]
     },
     "execution_count": 22,
     "metadata": {},
     "output_type": "execute_result"
    }
   ],
   "source": [
    "df_emails.columns"
   ]
  },
  {
   "cell_type": "code",
   "execution_count": 23,
   "metadata": {
    "ExecuteTime": {
     "end_time": "2019-12-17T09:41:55.471445Z",
     "start_time": "2019-12-17T09:41:55.453544Z"
    }
   },
   "outputs": [
    {
     "name": "stdout",
     "output_type": "stream",
     "text": [
      " \n",
      "  \n",
      "  \n",
      " Bonjours, \n",
      "  \n",
      " Suite a notre conversation téléphonique de Mardi , pourriez vous me dire la \n",
      " somme que je vous dois afin d'être en régularisation . \n",
      "  \n",
      " Merci bonne journée \n",
      "  \n",
      " Le mar. 22 mai 2018 à 10:20,  <conseiller@Societeimaginaire.fr> a écrit : \n",
      " Bonjour. \n",
      "  \n",
      " Merci de bien vouloir prendre connaissance du document ci-joint : \n",
      " 1 - Relevé d'identité postal (contrats) \n",
      "  \n",
      " Cordialement. \n",
      "  \n",
      " La Mututelle Imaginaire \n",
      "  \n",
      " La visualisation des fichiers PDF nécessite Adobe Reader. \n",
      "  \n"
     ]
    }
   ],
   "source": [
    "print(df_emails.body[2])"
   ]
  },
  {
   "cell_type": "code",
   "execution_count": 24,
   "metadata": {
    "ExecuteTime": {
     "end_time": "2019-12-17T09:41:55.491551Z",
     "start_time": "2019-12-17T09:41:55.473608Z"
    }
   },
   "outputs": [
    {
     "name": "stdout",
     "output_type": "stream",
     "text": [
      " Suite a notre conversation téléphonique de Mardi , pourriez vous me dire la somme que je vous dois afin d'être en régularisation . \n"
     ]
    }
   ],
   "source": [
    "print(df_emails.last_body[2])"
   ]
  },
  {
   "cell_type": "code",
   "execution_count": 25,
   "metadata": {
    "ExecuteTime": {
     "end_time": "2019-12-17T09:41:55.511284Z",
     "start_time": "2019-12-17T09:41:55.493368Z"
    }
   },
   "outputs": [
    {
     "name": "stdout",
     "output_type": "stream",
     "text": [
      "suite a notre conversation telephonique de mardi , pourriez vous me dire la somme que je vous dois afin d'etre en regularisation .\n"
     ]
    }
   ],
   "source": [
    "print(df_emails.clean_body[2])"
   ]
  },
  {
   "cell_type": "markdown",
   "metadata": {},
   "source": [
    "## Applying a phraser"
   ]
  },
  {
   "cell_type": "markdown",
   "metadata": {},
   "source": [
    "A phraser can be passed on the body. However it first need to be trained "
   ]
  },
  {
   "cell_type": "code",
   "execution_count": 26,
   "metadata": {
    "ExecuteTime": {
     "end_time": "2019-12-17T09:41:56.001930Z",
     "start_time": "2019-12-17T09:41:55.513942Z"
    }
   },
   "outputs": [],
   "source": [
    "from melusine.nlp_tools.phraser import Phraser\n",
    "from melusine.nlp_tools.phraser import phraser_on_body"
   ]
  },
  {
   "cell_type": "markdown",
   "metadata": {},
   "source": [
    "#### Training a phraser"
   ]
  },
  {
   "cell_type": "code",
   "execution_count": 27,
   "metadata": {
    "ExecuteTime": {
     "end_time": "2019-12-17T09:41:56.072445Z",
     "start_time": "2019-12-17T09:41:56.003842Z"
    }
   },
   "outputs": [],
   "source": [
    "phraser = Phraser()"
   ]
  },
  {
   "cell_type": "code",
   "execution_count": 28,
   "metadata": {
    "ExecuteTime": {
     "end_time": "2019-12-17T09:41:56.125737Z",
     "start_time": "2019-12-17T09:41:56.074432Z"
    }
   },
   "outputs": [],
   "source": [
    "phraser.train(df_emails)"
   ]
  },
  {
   "cell_type": "markdown",
   "metadata": {},
   "source": [
    "#### Applying a phraser"
   ]
  },
  {
   "cell_type": "markdown",
   "metadata": {},
   "source": [
    "The **phraser_on_body** function applies a phraser on the clean_body of an email."
   ]
  },
  {
   "cell_type": "code",
   "execution_count": 29,
   "metadata": {
    "ExecuteTime": {
     "end_time": "2019-12-17T09:41:56.147321Z",
     "start_time": "2019-12-17T09:41:56.128200Z"
    }
   },
   "outputs": [],
   "source": [
    "PhraserTransformer = TransformerScheduler(\n",
    "    functions_scheduler=[\n",
    "        (phraser_on_body, (phraser,), ['clean_body'])\n",
    "    ]\n",
    ")"
   ]
  },
  {
   "cell_type": "code",
   "execution_count": 30,
   "metadata": {
    "ExecuteTime": {
     "end_time": "2019-12-17T09:41:56.180963Z",
     "start_time": "2019-12-17T09:41:56.149500Z"
    }
   },
   "outputs": [],
   "source": [
    "df_emails = PhraserTransformer.fit_transform(df_emails)"
   ]
  },
  {
   "cell_type": "markdown",
   "metadata": {},
   "source": [
    "## Applying a tokenizer"
   ]
  },
  {
   "cell_type": "code",
   "execution_count": 31,
   "metadata": {
    "ExecuteTime": {
     "end_time": "2019-12-17T09:41:56.202046Z",
     "start_time": "2019-12-17T09:41:56.182420Z"
    }
   },
   "outputs": [],
   "source": [
    "from melusine.nlp_tools.tokenizer import Tokenizer"
   ]
  },
  {
   "cell_type": "code",
   "execution_count": 32,
   "metadata": {
    "ExecuteTime": {
     "end_time": "2019-12-17T09:41:56.225853Z",
     "start_time": "2019-12-17T09:41:56.204330Z"
    }
   },
   "outputs": [],
   "source": [
    "tokenizer = Tokenizer(input_column=\"clean_body\")"
   ]
  },
  {
   "cell_type": "code",
   "execution_count": 33,
   "metadata": {
    "ExecuteTime": {
     "end_time": "2019-12-17T09:41:56.256166Z",
     "start_time": "2019-12-17T09:41:56.228322Z"
    }
   },
   "outputs": [],
   "source": [
    "df_emails = tokenizer.fit_transform(df_emails)"
   ]
  },
  {
   "cell_type": "code",
   "execution_count": 34,
   "metadata": {
    "ExecuteTime": {
     "end_time": "2019-12-17T09:41:56.279132Z",
     "start_time": "2019-12-17T09:41:56.258175Z"
    }
   },
   "outputs": [
    {
     "data": {
      "text/plain": [
       "Index(['body', 'header', 'date', 'from', 'to', 'attachment', 'sexe', 'age',\n",
       "       'label', 'is_begin_by_transfer', 'is_answer', 'is_transfer',\n",
       "       'structured_historic', 'structured_body', 'last_body', 'clean_body',\n",
       "       'tokens'],\n",
       "      dtype='object')"
      ]
     },
     "execution_count": 34,
     "metadata": {},
     "output_type": "execute_result"
    }
   ],
   "source": [
    "df_emails.columns"
   ]
  },
  {
   "cell_type": "code",
   "execution_count": 35,
   "metadata": {
    "ExecuteTime": {
     "end_time": "2019-12-17T09:41:56.305575Z",
     "start_time": "2019-12-17T09:41:56.281622Z"
    }
   },
   "outputs": [
    {
     "name": "stdout",
     "output_type": "stream",
     "text": [
      "suite a notre conversation telephonique de mardi , pourriez vous me dire la somme que je vous dois afin d'etre en regularisation .\n"
     ]
    }
   ],
   "source": [
    "print(df_emails.clean_body[2])"
   ]
  },
  {
   "cell_type": "code",
   "execution_count": 36,
   "metadata": {
    "ExecuteTime": {
     "end_time": "2019-12-17T09:41:56.328017Z",
     "start_time": "2019-12-17T09:41:56.307957Z"
    }
   },
   "outputs": [
    {
     "name": "stdout",
     "output_type": "stream",
     "text": [
      "['suite', 'a', 'conversation', 'telephonique', 'flag_date_', 'pourriez', 'dire', 'somme', 'dois', 'afin', 'etre', 'regularisation']\n"
     ]
    }
   ],
   "source": [
    "print(df_emails.tokens[2])"
   ]
  },
  {
   "cell_type": "markdown",
   "metadata": {},
   "source": [
    "### Metadata preprocessing"
   ]
  },
  {
   "cell_type": "markdown",
   "metadata": {},
   "source": [
    "The metadata have to be extracted before being dummified.\n",
    "\n",
    "This pipeline extractes the following metadata :\n",
    "- **extension :** from the \"from\" column.\n",
    "- **dayofweek :** from the date.\n",
    "- **hour :** from the date.\n",
    "- **min :** from the date."
   ]
  },
  {
   "cell_type": "code",
   "execution_count": 37,
   "metadata": {
    "ExecuteTime": {
     "end_time": "2019-12-17T09:41:56.430369Z",
     "start_time": "2019-12-17T09:41:56.330334Z"
    }
   },
   "outputs": [],
   "source": [
    "from sklearn.pipeline import Pipeline\n",
    "import ast\n",
    "from melusine.prepare_email.metadata_engineering import MetaExtension\n",
    "from melusine.prepare_email.metadata_engineering import MetaDate\n",
    "from melusine.prepare_email.metadata_engineering import MetaAttachmentType\n",
    "from melusine.prepare_email.metadata_engineering import Dummifier"
   ]
  },
  {
   "cell_type": "code",
   "execution_count": 38,
   "metadata": {},
   "outputs": [
    {
     "data": {
      "text/html": [
       "<div>\n",
       "<style scoped>\n",
       "    .dataframe tbody tr th:only-of-type {\n",
       "        vertical-align: middle;\n",
       "    }\n",
       "\n",
       "    .dataframe tbody tr th {\n",
       "        vertical-align: top;\n",
       "    }\n",
       "\n",
       "    .dataframe thead th {\n",
       "        text-align: right;\n",
       "    }\n",
       "</style>\n",
       "<table border=\"1\" class=\"dataframe\">\n",
       "  <thead>\n",
       "    <tr style=\"text-align: right;\">\n",
       "      <th></th>\n",
       "      <th>body</th>\n",
       "      <th>header</th>\n",
       "      <th>date</th>\n",
       "      <th>from</th>\n",
       "      <th>to</th>\n",
       "      <th>attachment</th>\n",
       "      <th>sexe</th>\n",
       "      <th>age</th>\n",
       "      <th>label</th>\n",
       "      <th>is_begin_by_transfer</th>\n",
       "      <th>is_answer</th>\n",
       "      <th>is_transfer</th>\n",
       "      <th>structured_historic</th>\n",
       "      <th>structured_body</th>\n",
       "      <th>last_body</th>\n",
       "      <th>clean_body</th>\n",
       "      <th>tokens</th>\n",
       "    </tr>\n",
       "  </thead>\n",
       "  <tbody>\n",
       "    <tr>\n",
       "      <th>0</th>\n",
       "      <td>\\n  \\n  \\n  \\n Bonjour \\n Je suis client chez...</td>\n",
       "      <td>Devis habitation</td>\n",
       "      <td>24/05/2018 11:36</td>\n",
       "      <td>Dupont &lt;monsieurdupont@extensiona.com&gt;</td>\n",
       "      <td>conseiller@Societeimaginaire.fr</td>\n",
       "      <td>[]</td>\n",
       "      <td>F</td>\n",
       "      <td>35</td>\n",
       "      <td>habitation</td>\n",
       "      <td>True</td>\n",
       "      <td>False</td>\n",
       "      <td>False</td>\n",
       "      <td>[{'text': ' \n",
       "  \n",
       "  \n",
       "  \n",
       " Bonjour \n",
       " Je suis clien...</td>\n",
       "      <td>[{'meta': {'date': None, 'from': None, 'to': N...</td>\n",
       "      <td>Je suis client chez vous Pouvez vous m établir...</td>\n",
       "      <td>je suis client chez vous pouvez vous m etablir...</td>\n",
       "      <td>[client, chez, pouvez, etablir, devis, fils, s...</td>\n",
       "    </tr>\n",
       "    <tr>\n",
       "      <th>1</th>\n",
       "      <td>\\n  \\n  \\n  \\n Bonsoir madame, \\n  \\n Je vous...</td>\n",
       "      <td>Immatriculation voiture</td>\n",
       "      <td>24/05/2018 19:37</td>\n",
       "      <td>Dupont &lt;monsieurdupont@extensiona.com&gt;</td>\n",
       "      <td>conseiller@Societeimaginaire.fr</td>\n",
       "      <td>[pj.pdf]</td>\n",
       "      <td>M</td>\n",
       "      <td>32</td>\n",
       "      <td>vehicule</td>\n",
       "      <td>True</td>\n",
       "      <td>False</td>\n",
       "      <td>False</td>\n",
       "      <td>[{'text': ' \n",
       "  \n",
       "  \n",
       "  \n",
       " Bonsoir madame, \n",
       "  \n",
       " Je...</td>\n",
       "      <td>[{'meta': {'date': None, 'from': None, 'to': N...</td>\n",
       "      <td>Je vous informe que la nouvelle immatriculati...</td>\n",
       "      <td>je vous informe que la nouvelle immatriculatio...</td>\n",
       "      <td>[informe, nouvelle, immatriculation, enfin, fa...</td>\n",
       "    </tr>\n",
       "    <tr>\n",
       "      <th>2</th>\n",
       "      <td>\\n  \\n  \\n Bonjours, \\n  \\n Suite a notre con...</td>\n",
       "      <td>Re: Envoi d'un document de la Société Imaginaire</td>\n",
       "      <td>vendredi 25 mai 2018 06 h 45 CEST</td>\n",
       "      <td>Monsieur Dupont &lt;monsieurdupont@extensiona.com&gt;</td>\n",
       "      <td>demandes@societeimaginaire.fr</td>\n",
       "      <td>[]</td>\n",
       "      <td>M</td>\n",
       "      <td>66</td>\n",
       "      <td>compte</td>\n",
       "      <td>False</td>\n",
       "      <td>True</td>\n",
       "      <td>False</td>\n",
       "      <td>[{'text': ' \n",
       "  \n",
       "  \n",
       " Bonjours, \n",
       "  \n",
       " Suite a not...</td>\n",
       "      <td>[{'meta': {'date': None, 'from': None, 'to': N...</td>\n",
       "      <td>Suite a notre conversation téléphonique de Ma...</td>\n",
       "      <td>suite a notre conversation telephonique de mar...</td>\n",
       "      <td>[suite, a, conversation, telephonique, flag_da...</td>\n",
       "    </tr>\n",
       "    <tr>\n",
       "      <th>3</th>\n",
       "      <td>\\n  \\n  \\n  \\n  \\n Bonjour, \\n  \\n  \\n Je fai...</td>\n",
       "      <td>Re: Votre adhésion à la Société Imaginaire</td>\n",
       "      <td>vendredi 25 mai 2018 10 h 15 CEST</td>\n",
       "      <td>Monsieur Dupont &lt;monsieurdupont@extensiond.com&gt;</td>\n",
       "      <td>demandes@societeimaginaire.fr</td>\n",
       "      <td>[fichedepaie.png]</td>\n",
       "      <td>M</td>\n",
       "      <td>50</td>\n",
       "      <td>adhesion</td>\n",
       "      <td>False</td>\n",
       "      <td>True</td>\n",
       "      <td>False</td>\n",
       "      <td>[{'text': ' \n",
       "  \n",
       "  \n",
       "  \n",
       "  \n",
       " Bonjour, \n",
       "  \n",
       "  \n",
       " Je ...</td>\n",
       "      <td>[{'meta': {'date': None, 'from': None, 'to': N...</td>\n",
       "      <td>Je fais suite à  votre mail. J'ai envoyé mon...</td>\n",
       "      <td>je fais suite a votre mail. j'ai envoye mon bu...</td>\n",
       "      <td>[fais, suite, a, mail, envoye, bulletin, salai...</td>\n",
       "    </tr>\n",
       "    <tr>\n",
       "      <th>4</th>\n",
       "      <td>\\n  \\n  \\n Bonjour, \\n Voici ci joint mon bul...</td>\n",
       "      <td>Bulletin de salaire</td>\n",
       "      <td>vendredi 25 mai 2018 17 h 30 CEST</td>\n",
       "      <td>Monsieur Dupont &lt;monsieurdupont@extensiona.com&gt;</td>\n",
       "      <td>demandes@societeimaginaire.fr</td>\n",
       "      <td>[pj.pdf]</td>\n",
       "      <td>M</td>\n",
       "      <td>15</td>\n",
       "      <td>adhesion</td>\n",
       "      <td>False</td>\n",
       "      <td>False</td>\n",
       "      <td>False</td>\n",
       "      <td>[{'text': ' \n",
       "  \n",
       "  \n",
       " Bonjour, \n",
       " Voici ci joint ...</td>\n",
       "      <td>[{'meta': {'date': None, 'from': None, 'to': N...</td>\n",
       "      <td>Voici ci joint mon bulletin de salaire comme d...</td>\n",
       "      <td>voici ci joint mon bulletin de salaire comme d...</td>\n",
       "      <td>[voici, ci, joint, bulletin, salaire, comme, d...</td>\n",
       "    </tr>\n",
       "  </tbody>\n",
       "</table>\n",
       "</div>"
      ],
      "text/plain": [
       "                                                body  \\\n",
       "0   \\n  \\n  \\n  \\n Bonjour \\n Je suis client chez...   \n",
       "1   \\n  \\n  \\n  \\n Bonsoir madame, \\n  \\n Je vous...   \n",
       "2   \\n  \\n  \\n Bonjours, \\n  \\n Suite a notre con...   \n",
       "3   \\n  \\n  \\n  \\n  \\n Bonjour, \\n  \\n  \\n Je fai...   \n",
       "4   \\n  \\n  \\n Bonjour, \\n Voici ci joint mon bul...   \n",
       "\n",
       "                                             header  \\\n",
       "0                                  Devis habitation   \n",
       "1                           Immatriculation voiture   \n",
       "2  Re: Envoi d'un document de la Société Imaginaire   \n",
       "3        Re: Votre adhésion à la Société Imaginaire   \n",
       "4                               Bulletin de salaire   \n",
       "\n",
       "                                date  \\\n",
       "0                   24/05/2018 11:36   \n",
       "1                   24/05/2018 19:37   \n",
       "2  vendredi 25 mai 2018 06 h 45 CEST   \n",
       "3  vendredi 25 mai 2018 10 h 15 CEST   \n",
       "4  vendredi 25 mai 2018 17 h 30 CEST   \n",
       "\n",
       "                                              from  \\\n",
       "0           Dupont <monsieurdupont@extensiona.com>   \n",
       "1           Dupont <monsieurdupont@extensiona.com>   \n",
       "2  Monsieur Dupont <monsieurdupont@extensiona.com>   \n",
       "3  Monsieur Dupont <monsieurdupont@extensiond.com>   \n",
       "4  Monsieur Dupont <monsieurdupont@extensiona.com>   \n",
       "\n",
       "                                to         attachment sexe  age       label  \\\n",
       "0  conseiller@Societeimaginaire.fr                 []    F   35  habitation   \n",
       "1  conseiller@Societeimaginaire.fr           [pj.pdf]    M   32    vehicule   \n",
       "2    demandes@societeimaginaire.fr                 []    M   66      compte   \n",
       "3    demandes@societeimaginaire.fr  [fichedepaie.png]    M   50    adhesion   \n",
       "4    demandes@societeimaginaire.fr           [pj.pdf]    M   15    adhesion   \n",
       "\n",
       "   is_begin_by_transfer  is_answer  is_transfer  \\\n",
       "0                  True      False        False   \n",
       "1                  True      False        False   \n",
       "2                 False       True        False   \n",
       "3                 False       True        False   \n",
       "4                 False      False        False   \n",
       "\n",
       "                                 structured_historic  \\\n",
       "0  [{'text': ' \n",
       "  \n",
       "  \n",
       "  \n",
       " Bonjour \n",
       " Je suis clien...   \n",
       "1  [{'text': ' \n",
       "  \n",
       "  \n",
       "  \n",
       " Bonsoir madame, \n",
       "  \n",
       " Je...   \n",
       "2  [{'text': ' \n",
       "  \n",
       "  \n",
       " Bonjours, \n",
       "  \n",
       " Suite a not...   \n",
       "3  [{'text': ' \n",
       "  \n",
       "  \n",
       "  \n",
       "  \n",
       " Bonjour, \n",
       "  \n",
       "  \n",
       " Je ...   \n",
       "4  [{'text': ' \n",
       "  \n",
       "  \n",
       " Bonjour, \n",
       " Voici ci joint ...   \n",
       "\n",
       "                                     structured_body  \\\n",
       "0  [{'meta': {'date': None, 'from': None, 'to': N...   \n",
       "1  [{'meta': {'date': None, 'from': None, 'to': N...   \n",
       "2  [{'meta': {'date': None, 'from': None, 'to': N...   \n",
       "3  [{'meta': {'date': None, 'from': None, 'to': N...   \n",
       "4  [{'meta': {'date': None, 'from': None, 'to': N...   \n",
       "\n",
       "                                           last_body  \\\n",
       "0  Je suis client chez vous Pouvez vous m établir...   \n",
       "1   Je vous informe que la nouvelle immatriculati...   \n",
       "2   Suite a notre conversation téléphonique de Ma...   \n",
       "3    Je fais suite à  votre mail. J'ai envoyé mon...   \n",
       "4  Voici ci joint mon bulletin de salaire comme d...   \n",
       "\n",
       "                                          clean_body  \\\n",
       "0  je suis client chez vous pouvez vous m etablir...   \n",
       "1  je vous informe que la nouvelle immatriculatio...   \n",
       "2  suite a notre conversation telephonique de mar...   \n",
       "3  je fais suite a votre mail. j'ai envoye mon bu...   \n",
       "4  voici ci joint mon bulletin de salaire comme d...   \n",
       "\n",
       "                                              tokens  \n",
       "0  [client, chez, pouvez, etablir, devis, fils, s...  \n",
       "1  [informe, nouvelle, immatriculation, enfin, fa...  \n",
       "2  [suite, a, conversation, telephonique, flag_da...  \n",
       "3  [fais, suite, a, mail, envoye, bulletin, salai...  \n",
       "4  [voici, ci, joint, bulletin, salaire, comme, d...  "
      ]
     },
     "execution_count": 38,
     "metadata": {},
     "output_type": "execute_result"
    }
   ],
   "source": [
    "df_emails['attachment'] = df_emails['attachment'].apply(ast.literal_eval)\n",
    "df_emails.head()"
   ]
  },
  {
   "cell_type": "code",
   "execution_count": 39,
   "metadata": {
    "ExecuteTime": {
     "end_time": "2019-12-17T09:41:56.452324Z",
     "start_time": "2019-12-17T09:41:56.432124Z"
    }
   },
   "outputs": [],
   "source": [
    "# Pipeline to extract dummified metadata\n",
    "MetadataPipeline = Pipeline([\n",
    "    ('MetaExtension', MetaExtension()),\n",
    "    ('MetaDate', MetaDate()),\n",
    "    ('MetaAttachmentType', MetaAttachmentType()),\n",
    "    ('Dummifier', Dummifier())\n",
    "])"
   ]
  },
  {
   "cell_type": "code",
   "execution_count": 40,
   "metadata": {
    "ExecuteTime": {
     "end_time": "2019-12-17T09:41:56.504109Z",
     "start_time": "2019-12-17T09:41:56.454148Z"
    }
   },
   "outputs": [],
   "source": [
    "df_meta = MetadataPipeline.fit_transform(df_emails)"
   ]
  },
  {
   "cell_type": "code",
   "execution_count": 41,
   "metadata": {
    "ExecuteTime": {
     "end_time": "2019-12-17T09:41:56.528115Z",
     "start_time": "2019-12-17T09:41:56.506250Z"
    }
   },
   "outputs": [
    {
     "data": {
      "text/plain": [
       "Index(['extension__0', 'extension__1', 'extension__2', 'extension__3',\n",
       "       'extension__4', 'extension__5', 'extension__6', 'extension__7',\n",
       "       'extension__8', 'extension__9', 'dayofweek__0', 'dayofweek__1',\n",
       "       'dayofweek__2', 'dayofweek__3', 'dayofweek__4', 'dayofweek__5',\n",
       "       'hour__6', 'hour__8', 'hour__9', 'hour__10', 'hour__11', 'hour__12',\n",
       "       'hour__14', 'hour__15', 'hour__16', 'hour__17', 'hour__18', 'hour__19',\n",
       "       'hour__20', 'hour__22', 'min__2', 'min__3', 'min__4', 'min__6',\n",
       "       'min__7', 'min__9', 'min__10', 'min__11', 'min__12', 'min__15',\n",
       "       'min__16', 'min__19', 'min__22', 'min__28', 'min__30', 'min__32',\n",
       "       'min__33', 'min__36', 'min__37', 'min__38', 'min__39', 'min__40',\n",
       "       'min__44', 'min__45', 'min__49', 'min__52', 'min__54', 'min__56',\n",
       "       'min__58', 'attachment_type__0', 'attachment_type__1',\n",
       "       'attachment_type__2', 'attachment_type__3', 'attachment_type__4',\n",
       "       'attachment_type__5', 'attachment_type__6'],\n",
       "      dtype='object')"
      ]
     },
     "execution_count": 41,
     "metadata": {},
     "output_type": "execute_result"
    }
   ],
   "source": [
    "df_meta.columns"
   ]
  },
  {
   "cell_type": "code",
   "execution_count": 42,
   "metadata": {
    "ExecuteTime": {
     "end_time": "2019-12-17T09:41:56.565604Z",
     "start_time": "2019-12-17T09:41:56.530473Z"
    }
   },
   "outputs": [
    {
     "data": {
      "text/html": [
       "<div>\n",
       "<style scoped>\n",
       "    .dataframe tbody tr th:only-of-type {\n",
       "        vertical-align: middle;\n",
       "    }\n",
       "\n",
       "    .dataframe tbody tr th {\n",
       "        vertical-align: top;\n",
       "    }\n",
       "\n",
       "    .dataframe thead th {\n",
       "        text-align: right;\n",
       "    }\n",
       "</style>\n",
       "<table border=\"1\" class=\"dataframe\">\n",
       "  <thead>\n",
       "    <tr style=\"text-align: right;\">\n",
       "      <th></th>\n",
       "      <th>extension__0</th>\n",
       "      <th>extension__1</th>\n",
       "      <th>extension__2</th>\n",
       "      <th>extension__3</th>\n",
       "      <th>extension__4</th>\n",
       "      <th>extension__5</th>\n",
       "      <th>extension__6</th>\n",
       "      <th>extension__7</th>\n",
       "      <th>extension__8</th>\n",
       "      <th>extension__9</th>\n",
       "      <th>...</th>\n",
       "      <th>min__54</th>\n",
       "      <th>min__56</th>\n",
       "      <th>min__58</th>\n",
       "      <th>attachment_type__0</th>\n",
       "      <th>attachment_type__1</th>\n",
       "      <th>attachment_type__2</th>\n",
       "      <th>attachment_type__3</th>\n",
       "      <th>attachment_type__4</th>\n",
       "      <th>attachment_type__5</th>\n",
       "      <th>attachment_type__6</th>\n",
       "    </tr>\n",
       "  </thead>\n",
       "  <tbody>\n",
       "    <tr>\n",
       "      <th>0</th>\n",
       "      <td>0</td>\n",
       "      <td>1</td>\n",
       "      <td>0</td>\n",
       "      <td>0</td>\n",
       "      <td>0</td>\n",
       "      <td>0</td>\n",
       "      <td>0</td>\n",
       "      <td>0</td>\n",
       "      <td>0</td>\n",
       "      <td>0</td>\n",
       "      <td>...</td>\n",
       "      <td>0</td>\n",
       "      <td>0</td>\n",
       "      <td>0</td>\n",
       "      <td>0</td>\n",
       "      <td>0</td>\n",
       "      <td>0</td>\n",
       "      <td>0</td>\n",
       "      <td>1</td>\n",
       "      <td>0</td>\n",
       "      <td>0</td>\n",
       "    </tr>\n",
       "    <tr>\n",
       "      <th>1</th>\n",
       "      <td>0</td>\n",
       "      <td>1</td>\n",
       "      <td>0</td>\n",
       "      <td>0</td>\n",
       "      <td>0</td>\n",
       "      <td>0</td>\n",
       "      <td>0</td>\n",
       "      <td>0</td>\n",
       "      <td>0</td>\n",
       "      <td>0</td>\n",
       "      <td>...</td>\n",
       "      <td>0</td>\n",
       "      <td>0</td>\n",
       "      <td>0</td>\n",
       "      <td>0</td>\n",
       "      <td>0</td>\n",
       "      <td>0</td>\n",
       "      <td>0</td>\n",
       "      <td>0</td>\n",
       "      <td>1</td>\n",
       "      <td>0</td>\n",
       "    </tr>\n",
       "    <tr>\n",
       "      <th>2</th>\n",
       "      <td>0</td>\n",
       "      <td>1</td>\n",
       "      <td>0</td>\n",
       "      <td>0</td>\n",
       "      <td>0</td>\n",
       "      <td>0</td>\n",
       "      <td>0</td>\n",
       "      <td>0</td>\n",
       "      <td>0</td>\n",
       "      <td>0</td>\n",
       "      <td>...</td>\n",
       "      <td>0</td>\n",
       "      <td>0</td>\n",
       "      <td>0</td>\n",
       "      <td>0</td>\n",
       "      <td>0</td>\n",
       "      <td>0</td>\n",
       "      <td>0</td>\n",
       "      <td>1</td>\n",
       "      <td>0</td>\n",
       "      <td>0</td>\n",
       "    </tr>\n",
       "    <tr>\n",
       "      <th>3</th>\n",
       "      <td>0</td>\n",
       "      <td>0</td>\n",
       "      <td>0</td>\n",
       "      <td>0</td>\n",
       "      <td>1</td>\n",
       "      <td>0</td>\n",
       "      <td>0</td>\n",
       "      <td>0</td>\n",
       "      <td>0</td>\n",
       "      <td>0</td>\n",
       "      <td>...</td>\n",
       "      <td>0</td>\n",
       "      <td>0</td>\n",
       "      <td>0</td>\n",
       "      <td>0</td>\n",
       "      <td>0</td>\n",
       "      <td>0</td>\n",
       "      <td>0</td>\n",
       "      <td>0</td>\n",
       "      <td>0</td>\n",
       "      <td>1</td>\n",
       "    </tr>\n",
       "    <tr>\n",
       "      <th>4</th>\n",
       "      <td>0</td>\n",
       "      <td>1</td>\n",
       "      <td>0</td>\n",
       "      <td>0</td>\n",
       "      <td>0</td>\n",
       "      <td>0</td>\n",
       "      <td>0</td>\n",
       "      <td>0</td>\n",
       "      <td>0</td>\n",
       "      <td>0</td>\n",
       "      <td>...</td>\n",
       "      <td>0</td>\n",
       "      <td>0</td>\n",
       "      <td>0</td>\n",
       "      <td>0</td>\n",
       "      <td>0</td>\n",
       "      <td>0</td>\n",
       "      <td>0</td>\n",
       "      <td>0</td>\n",
       "      <td>1</td>\n",
       "      <td>0</td>\n",
       "    </tr>\n",
       "  </tbody>\n",
       "</table>\n",
       "<p>5 rows × 66 columns</p>\n",
       "</div>"
      ],
      "text/plain": [
       "   extension__0  extension__1  extension__2  extension__3  extension__4  \\\n",
       "0             0             1             0             0             0   \n",
       "1             0             1             0             0             0   \n",
       "2             0             1             0             0             0   \n",
       "3             0             0             0             0             1   \n",
       "4             0             1             0             0             0   \n",
       "\n",
       "   extension__5  extension__6  extension__7  extension__8  extension__9  ...  \\\n",
       "0             0             0             0             0             0  ...   \n",
       "1             0             0             0             0             0  ...   \n",
       "2             0             0             0             0             0  ...   \n",
       "3             0             0             0             0             0  ...   \n",
       "4             0             0             0             0             0  ...   \n",
       "\n",
       "   min__54  min__56  min__58  attachment_type__0  attachment_type__1  \\\n",
       "0        0        0        0                   0                   0   \n",
       "1        0        0        0                   0                   0   \n",
       "2        0        0        0                   0                   0   \n",
       "3        0        0        0                   0                   0   \n",
       "4        0        0        0                   0                   0   \n",
       "\n",
       "   attachment_type__2  attachment_type__3  attachment_type__4  \\\n",
       "0                   0                   0                   1   \n",
       "1                   0                   0                   0   \n",
       "2                   0                   0                   1   \n",
       "3                   0                   0                   0   \n",
       "4                   0                   0                   0   \n",
       "\n",
       "   attachment_type__5  attachment_type__6  \n",
       "0                   0                   0  \n",
       "1                   1                   0  \n",
       "2                   0                   0  \n",
       "3                   0                   1  \n",
       "4                   1                   0  \n",
       "\n",
       "[5 rows x 66 columns]"
      ]
     },
     "execution_count": 42,
     "metadata": {},
     "output_type": "execute_result"
    }
   ],
   "source": [
    "df_meta.head()"
   ]
  },
  {
   "cell_type": "markdown",
   "metadata": {},
   "source": [
    "## Keywords extraction"
   ]
  },
  {
   "cell_type": "markdown",
   "metadata": {},
   "source": [
    "Once a tokens column exists, keywords can be extracted."
   ]
  },
  {
   "cell_type": "code",
   "execution_count": 43,
   "metadata": {
    "ExecuteTime": {
     "end_time": "2019-12-17T09:41:56.637969Z",
     "start_time": "2019-12-17T09:41:56.568696Z"
    }
   },
   "outputs": [],
   "source": [
    "from melusine.summarizer.keywords_generator import KeywordsGenerator"
   ]
  },
  {
   "cell_type": "code",
   "execution_count": 44,
   "metadata": {
    "ExecuteTime": {
     "end_time": "2019-12-17T09:41:56.701892Z",
     "start_time": "2019-12-17T09:41:56.667861Z"
    }
   },
   "outputs": [],
   "source": [
    "keywords_generator = KeywordsGenerator(n_max_keywords=4)"
   ]
  },
  {
   "cell_type": "code",
   "execution_count": 45,
   "metadata": {
    "ExecuteTime": {
     "end_time": "2019-12-17T09:42:07.519690Z",
     "start_time": "2019-12-17T09:41:56.713551Z"
    }
   },
   "outputs": [
    {
     "name": "stderr",
     "output_type": "stream",
     "text": [
      "                                                       "
     ]
    }
   ],
   "source": [
    "df_emails = keywords_generator.fit_transform(df_emails)"
   ]
  },
  {
   "cell_type": "code",
   "execution_count": 46,
   "metadata": {
    "ExecuteTime": {
     "end_time": "2019-12-17T09:42:07.567401Z",
     "start_time": "2019-12-17T09:42:07.527003Z"
    }
   },
   "outputs": [
    {
     "data": {
      "text/plain": [
       "'veuillez recevoir le certificat de cession de mon vehicule afin que vous puissiez effectuer la resiliation de mon contrat. je reviendrai vers vous afin dassurer mon nouveau vehicule bientot.'"
      ]
     },
     "execution_count": 46,
     "metadata": {},
     "output_type": "execute_result"
    }
   ],
   "source": [
    "df_emails.clean_body[23]"
   ]
  },
  {
   "cell_type": "code",
   "execution_count": 47,
   "metadata": {
    "ExecuteTime": {
     "end_time": "2019-12-17T09:42:07.605300Z",
     "start_time": "2019-12-17T09:42:07.570400Z"
    }
   },
   "outputs": [
    {
     "data": {
      "text/plain": [
       "['veuillez',\n",
       " 'recevoir',\n",
       " 'certificat',\n",
       " 'cession',\n",
       " 'vehicule',\n",
       " 'afin',\n",
       " 'puissiez',\n",
       " 'effectuer',\n",
       " 'resiliation',\n",
       " 'contrat',\n",
       " 'reviendrai',\n",
       " 'vers',\n",
       " 'afin',\n",
       " 'dassurer',\n",
       " 'nouveau',\n",
       " 'vehicule',\n",
       " 'bientot']"
      ]
     },
     "execution_count": 47,
     "metadata": {},
     "output_type": "execute_result"
    }
   ],
   "source": [
    "df_emails.tokens[23]"
   ]
  },
  {
   "cell_type": "code",
   "execution_count": 48,
   "metadata": {
    "ExecuteTime": {
     "end_time": "2019-12-17T09:42:07.640063Z",
     "start_time": "2019-12-17T09:42:07.609045Z"
    }
   },
   "outputs": [
    {
     "data": {
      "text/plain": [
       "['veuillez', 'vehicule', 'afin', 'nouveau']"
      ]
     },
     "execution_count": 48,
     "metadata": {},
     "output_type": "execute_result"
    }
   ],
   "source": [
    "df_emails.keywords[23]"
   ]
  },
  {
   "cell_type": "markdown",
   "metadata": {},
   "source": [
    "## Classification with neural networks"
   ]
  },
  {
   "cell_type": "markdown",
   "metadata": {},
   "source": [
    "Melusine offers a NeuralModel class to train, save, load and use for prediction any kind of neural networks based on Keras. \n",
    "Predefined architectures of RNN and CNN models using the cleaned body and the metadata of the emails are also offered."
   ]
  },
  {
   "cell_type": "markdown",
   "metadata": {},
   "source": [
    "#### Embeddings training"
   ]
  },
  {
   "cell_type": "markdown",
   "metadata": {},
   "source": [
    "Embeddings have to be pretrained on the data set to be given as arguments of the neural networks."
   ]
  },
  {
   "cell_type": "code",
   "execution_count": 49,
   "metadata": {
    "ExecuteTime": {
     "end_time": "2019-12-17T09:42:07.739655Z",
     "start_time": "2019-12-17T09:42:07.644713Z"
    }
   },
   "outputs": [],
   "source": [
    "from melusine.nlp_tools.embedding import Embedding"
   ]
  },
  {
   "cell_type": "code",
   "execution_count": 50,
   "metadata": {
    "ExecuteTime": {
     "end_time": "2019-12-17T09:42:07.820989Z",
     "start_time": "2019-12-17T09:42:07.742860Z"
    }
   },
   "outputs": [],
   "source": [
    "pretrained_embedding = Embedding(input_column='clean_body',\n",
    "                                 workers=1,\n",
    "                                 min_count=5)"
   ]
  },
  {
   "cell_type": "code",
   "execution_count": 51,
   "metadata": {
    "ExecuteTime": {
     "end_time": "2019-12-17T09:42:07.873784Z",
     "start_time": "2019-12-17T09:42:07.822775Z"
    }
   },
   "outputs": [],
   "source": [
    "pretrained_embedding.train(df_emails) "
   ]
  },
  {
   "cell_type": "markdown",
   "metadata": {},
   "source": [
    "#### Préparation de X et de y"
   ]
  },
  {
   "cell_type": "code",
   "execution_count": 52,
   "metadata": {
    "ExecuteTime": {
     "end_time": "2019-12-17T09:42:07.899835Z",
     "start_time": "2019-12-17T09:42:07.878259Z"
    }
   },
   "outputs": [],
   "source": [
    "import pandas as pd \n",
    "from sklearn.preprocessing import LabelEncoder"
   ]
  },
  {
   "cell_type": "code",
   "execution_count": 53,
   "metadata": {
    "ExecuteTime": {
     "end_time": "2019-12-17T09:42:07.925687Z",
     "start_time": "2019-12-17T09:42:07.902050Z"
    }
   },
   "outputs": [],
   "source": [
    "X = pd.concat([df_emails['clean_body'],df_meta],axis=1)\n",
    "y = df_emails['label']\n",
    "le = LabelEncoder()\n",
    "y = le.fit_transform(y)"
   ]
  },
  {
   "cell_type": "code",
   "execution_count": 54,
   "metadata": {
    "ExecuteTime": {
     "end_time": "2019-12-17T09:42:07.953913Z",
     "start_time": "2019-12-17T09:42:07.927748Z"
    }
   },
   "outputs": [
    {
     "data": {
      "text/plain": [
       "Index(['clean_body', 'extension__0', 'extension__1', 'extension__2',\n",
       "       'extension__3', 'extension__4', 'extension__5', 'extension__6',\n",
       "       'extension__7', 'extension__8', 'extension__9', 'dayofweek__0',\n",
       "       'dayofweek__1', 'dayofweek__2', 'dayofweek__3', 'dayofweek__4',\n",
       "       'dayofweek__5', 'hour__6', 'hour__8', 'hour__9', 'hour__10', 'hour__11',\n",
       "       'hour__12', 'hour__14', 'hour__15', 'hour__16', 'hour__17', 'hour__18',\n",
       "       'hour__19', 'hour__20', 'hour__22', 'min__2', 'min__3', 'min__4',\n",
       "       'min__6', 'min__7', 'min__9', 'min__10', 'min__11', 'min__12',\n",
       "       'min__15', 'min__16', 'min__19', 'min__22', 'min__28', 'min__30',\n",
       "       'min__32', 'min__33', 'min__36', 'min__37', 'min__38', 'min__39',\n",
       "       'min__40', 'min__44', 'min__45', 'min__49', 'min__52', 'min__54',\n",
       "       'min__56', 'min__58', 'attachment_type__0', 'attachment_type__1',\n",
       "       'attachment_type__2', 'attachment_type__3', 'attachment_type__4',\n",
       "       'attachment_type__5', 'attachment_type__6'],\n",
       "      dtype='object')"
      ]
     },
     "execution_count": 54,
     "metadata": {},
     "output_type": "execute_result"
    }
   ],
   "source": [
    "X.columns"
   ]
  },
  {
   "cell_type": "code",
   "execution_count": 55,
   "metadata": {
    "ExecuteTime": {
     "end_time": "2019-12-17T09:42:07.991202Z",
     "start_time": "2019-12-17T09:42:07.956613Z"
    }
   },
   "outputs": [
    {
     "data": {
      "text/html": [
       "<div>\n",
       "<style scoped>\n",
       "    .dataframe tbody tr th:only-of-type {\n",
       "        vertical-align: middle;\n",
       "    }\n",
       "\n",
       "    .dataframe tbody tr th {\n",
       "        vertical-align: top;\n",
       "    }\n",
       "\n",
       "    .dataframe thead th {\n",
       "        text-align: right;\n",
       "    }\n",
       "</style>\n",
       "<table border=\"1\" class=\"dataframe\">\n",
       "  <thead>\n",
       "    <tr style=\"text-align: right;\">\n",
       "      <th></th>\n",
       "      <th>clean_body</th>\n",
       "      <th>extension__0</th>\n",
       "      <th>extension__1</th>\n",
       "      <th>extension__2</th>\n",
       "      <th>extension__3</th>\n",
       "      <th>extension__4</th>\n",
       "      <th>extension__5</th>\n",
       "      <th>extension__6</th>\n",
       "      <th>extension__7</th>\n",
       "      <th>extension__8</th>\n",
       "      <th>...</th>\n",
       "      <th>min__54</th>\n",
       "      <th>min__56</th>\n",
       "      <th>min__58</th>\n",
       "      <th>attachment_type__0</th>\n",
       "      <th>attachment_type__1</th>\n",
       "      <th>attachment_type__2</th>\n",
       "      <th>attachment_type__3</th>\n",
       "      <th>attachment_type__4</th>\n",
       "      <th>attachment_type__5</th>\n",
       "      <th>attachment_type__6</th>\n",
       "    </tr>\n",
       "  </thead>\n",
       "  <tbody>\n",
       "    <tr>\n",
       "      <th>0</th>\n",
       "      <td>je suis client chez vous pouvez vous m etablir...</td>\n",
       "      <td>0</td>\n",
       "      <td>1</td>\n",
       "      <td>0</td>\n",
       "      <td>0</td>\n",
       "      <td>0</td>\n",
       "      <td>0</td>\n",
       "      <td>0</td>\n",
       "      <td>0</td>\n",
       "      <td>0</td>\n",
       "      <td>...</td>\n",
       "      <td>0</td>\n",
       "      <td>0</td>\n",
       "      <td>0</td>\n",
       "      <td>0</td>\n",
       "      <td>0</td>\n",
       "      <td>0</td>\n",
       "      <td>0</td>\n",
       "      <td>1</td>\n",
       "      <td>0</td>\n",
       "      <td>0</td>\n",
       "    </tr>\n",
       "    <tr>\n",
       "      <th>1</th>\n",
       "      <td>je vous informe que la nouvelle immatriculatio...</td>\n",
       "      <td>0</td>\n",
       "      <td>1</td>\n",
       "      <td>0</td>\n",
       "      <td>0</td>\n",
       "      <td>0</td>\n",
       "      <td>0</td>\n",
       "      <td>0</td>\n",
       "      <td>0</td>\n",
       "      <td>0</td>\n",
       "      <td>...</td>\n",
       "      <td>0</td>\n",
       "      <td>0</td>\n",
       "      <td>0</td>\n",
       "      <td>0</td>\n",
       "      <td>0</td>\n",
       "      <td>0</td>\n",
       "      <td>0</td>\n",
       "      <td>0</td>\n",
       "      <td>1</td>\n",
       "      <td>0</td>\n",
       "    </tr>\n",
       "    <tr>\n",
       "      <th>2</th>\n",
       "      <td>suite a notre conversation telephonique de mar...</td>\n",
       "      <td>0</td>\n",
       "      <td>1</td>\n",
       "      <td>0</td>\n",
       "      <td>0</td>\n",
       "      <td>0</td>\n",
       "      <td>0</td>\n",
       "      <td>0</td>\n",
       "      <td>0</td>\n",
       "      <td>0</td>\n",
       "      <td>...</td>\n",
       "      <td>0</td>\n",
       "      <td>0</td>\n",
       "      <td>0</td>\n",
       "      <td>0</td>\n",
       "      <td>0</td>\n",
       "      <td>0</td>\n",
       "      <td>0</td>\n",
       "      <td>1</td>\n",
       "      <td>0</td>\n",
       "      <td>0</td>\n",
       "    </tr>\n",
       "    <tr>\n",
       "      <th>3</th>\n",
       "      <td>je fais suite a votre mail. j'ai envoye mon bu...</td>\n",
       "      <td>0</td>\n",
       "      <td>0</td>\n",
       "      <td>0</td>\n",
       "      <td>0</td>\n",
       "      <td>1</td>\n",
       "      <td>0</td>\n",
       "      <td>0</td>\n",
       "      <td>0</td>\n",
       "      <td>0</td>\n",
       "      <td>...</td>\n",
       "      <td>0</td>\n",
       "      <td>0</td>\n",
       "      <td>0</td>\n",
       "      <td>0</td>\n",
       "      <td>0</td>\n",
       "      <td>0</td>\n",
       "      <td>0</td>\n",
       "      <td>0</td>\n",
       "      <td>0</td>\n",
       "      <td>1</td>\n",
       "    </tr>\n",
       "    <tr>\n",
       "      <th>4</th>\n",
       "      <td>voici ci joint mon bulletin de salaire comme d...</td>\n",
       "      <td>0</td>\n",
       "      <td>1</td>\n",
       "      <td>0</td>\n",
       "      <td>0</td>\n",
       "      <td>0</td>\n",
       "      <td>0</td>\n",
       "      <td>0</td>\n",
       "      <td>0</td>\n",
       "      <td>0</td>\n",
       "      <td>...</td>\n",
       "      <td>0</td>\n",
       "      <td>0</td>\n",
       "      <td>0</td>\n",
       "      <td>0</td>\n",
       "      <td>0</td>\n",
       "      <td>0</td>\n",
       "      <td>0</td>\n",
       "      <td>0</td>\n",
       "      <td>1</td>\n",
       "      <td>0</td>\n",
       "    </tr>\n",
       "  </tbody>\n",
       "</table>\n",
       "<p>5 rows × 67 columns</p>\n",
       "</div>"
      ],
      "text/plain": [
       "                                          clean_body  extension__0  \\\n",
       "0  je suis client chez vous pouvez vous m etablir...             0   \n",
       "1  je vous informe que la nouvelle immatriculatio...             0   \n",
       "2  suite a notre conversation telephonique de mar...             0   \n",
       "3  je fais suite a votre mail. j'ai envoye mon bu...             0   \n",
       "4  voici ci joint mon bulletin de salaire comme d...             0   \n",
       "\n",
       "   extension__1  extension__2  extension__3  extension__4  extension__5  \\\n",
       "0             1             0             0             0             0   \n",
       "1             1             0             0             0             0   \n",
       "2             1             0             0             0             0   \n",
       "3             0             0             0             1             0   \n",
       "4             1             0             0             0             0   \n",
       "\n",
       "   extension__6  extension__7  extension__8  ...  min__54  min__56  min__58  \\\n",
       "0             0             0             0  ...        0        0        0   \n",
       "1             0             0             0  ...        0        0        0   \n",
       "2             0             0             0  ...        0        0        0   \n",
       "3             0             0             0  ...        0        0        0   \n",
       "4             0             0             0  ...        0        0        0   \n",
       "\n",
       "   attachment_type__0  attachment_type__1  attachment_type__2  \\\n",
       "0                   0                   0                   0   \n",
       "1                   0                   0                   0   \n",
       "2                   0                   0                   0   \n",
       "3                   0                   0                   0   \n",
       "4                   0                   0                   0   \n",
       "\n",
       "   attachment_type__3  attachment_type__4  attachment_type__5  \\\n",
       "0                   0                   1                   0   \n",
       "1                   0                   0                   1   \n",
       "2                   0                   1                   0   \n",
       "3                   0                   0                   0   \n",
       "4                   0                   0                   1   \n",
       "\n",
       "   attachment_type__6  \n",
       "0                   0  \n",
       "1                   0  \n",
       "2                   0  \n",
       "3                   1  \n",
       "4                   0  \n",
       "\n",
       "[5 rows x 67 columns]"
      ]
     },
     "execution_count": 55,
     "metadata": {},
     "output_type": "execute_result"
    }
   ],
   "source": [
    "X.head()"
   ]
  },
  {
   "cell_type": "code",
   "execution_count": 56,
   "metadata": {
    "ExecuteTime": {
     "end_time": "2019-12-17T09:42:08.015958Z",
     "start_time": "2019-12-17T09:42:07.993878Z"
    }
   },
   "outputs": [
    {
     "data": {
      "text/plain": [
       "array([ 4, 10,  3,  0,  0,  4,  7, 10,  1, 10,  2,  5, 10, 10,  4,  7,  7,\n",
       "       10,  0,  9,  4, 10,  4,  7, 10, 10,  6,  7,  3,  8, 10, 10, 10,  4,\n",
       "        7,  3,  5,  4,  4, 10])"
      ]
     },
     "execution_count": 56,
     "metadata": {},
     "output_type": "execute_result"
    }
   ],
   "source": [
    "y"
   ]
  },
  {
   "cell_type": "markdown",
   "metadata": {},
   "source": [
    "#### Entraînement et prédictions avec un CNN"
   ]
  },
  {
   "cell_type": "code",
   "execution_count": 57,
   "metadata": {
    "ExecuteTime": {
     "end_time": "2019-12-17T09:42:09.195894Z",
     "start_time": "2019-12-17T09:42:08.017738Z"
    }
   },
   "outputs": [],
   "source": [
    "from melusine.models.neural_architectures import cnn_model\n",
    "from melusine.models.train import NeuralModel"
   ]
  },
  {
   "cell_type": "code",
   "execution_count": 58,
   "metadata": {
    "ExecuteTime": {
     "end_time": "2019-12-17T09:42:09.245860Z",
     "start_time": "2019-12-17T09:42:09.198093Z"
    }
   },
   "outputs": [],
   "source": [
    "nn_model = NeuralModel(architecture_function=cnn_model,\n",
    "                       pretrained_embedding=pretrained_embedding,\n",
    "                       text_input_column=\"clean_body\",\n",
    "                       meta_input_list=['extension', 'dayofweek','hour', 'min', 'attachment_type'],\n",
    "                       n_epochs=10)"
   ]
  },
  {
   "cell_type": "code",
   "execution_count": 59,
   "metadata": {
    "ExecuteTime": {
     "end_time": "2019-12-17T09:42:13.200236Z",
     "start_time": "2019-12-17T09:42:09.249731Z"
    }
   },
   "outputs": [
    {
     "name": "stderr",
     "output_type": "stream",
     "text": [
      "2021-09-17 15:53:31.533021: I tensorflow/core/platform/cpu_feature_guard.cc:142] This TensorFlow binary is optimized with oneAPI Deep Neural Network Library (oneDNN) to use the following CPU instructions in performance-critical operations:  AVX2 FMA\n",
      "To enable them in other operations, rebuild TensorFlow with the appropriate compiler flags.\n",
      "2021-09-17 15:53:31.687168: I tensorflow/compiler/mlir/mlir_graph_optimization_pass.cc:185] None of the MLIR Optimization Passes are enabled (registered 2)\n"
     ]
    },
    {
     "name": "stdout",
     "output_type": "stream",
     "text": [
      "Epoch 1/10\n",
      "1/1 [==============================] - 1s 1s/step - loss: 2.4169 - accuracy: 0.0250\n",
      "Epoch 2/10\n",
      "1/1 [==============================] - 0s 67ms/step - loss: 2.3566 - accuracy: 0.2250\n",
      "Epoch 3/10\n",
      "1/1 [==============================] - 0s 70ms/step - loss: 2.2940 - accuracy: 0.3250\n",
      "Epoch 4/10\n",
      "1/1 [==============================] - 0s 60ms/step - loss: 2.2110 - accuracy: 0.3250\n",
      "Epoch 5/10\n",
      "1/1 [==============================] - 0s 63ms/step - loss: 2.1974 - accuracy: 0.3250\n",
      "Epoch 6/10\n",
      "1/1 [==============================] - 0s 69ms/step - loss: 2.0280 - accuracy: 0.3250\n",
      "Epoch 7/10\n",
      "1/1 [==============================] - 0s 56ms/step - loss: 2.1274 - accuracy: 0.3500\n",
      "Epoch 8/10\n",
      "1/1 [==============================] - 0s 64ms/step - loss: 2.0176 - accuracy: 0.3250\n",
      "Epoch 9/10\n",
      "1/1 [==============================] - 0s 59ms/step - loss: 1.9275 - accuracy: 0.4000\n",
      "Epoch 10/10\n",
      "1/1 [==============================] - 0s 78ms/step - loss: 2.0264 - accuracy: 0.3250\n"
     ]
    }
   ],
   "source": [
    "nn_model.fit(X,y)"
   ]
  },
  {
   "cell_type": "code",
   "execution_count": 60,
   "metadata": {
    "ExecuteTime": {
     "end_time": "2019-12-17T09:42:13.439946Z",
     "start_time": "2019-12-17T09:42:13.202560Z"
    }
   },
   "outputs": [
    {
     "data": {
      "text/plain": [
       "array(['vehicule', 'vehicule', 'vehicule', 'vehicule', 'vehicule',\n",
       "       'vehicule', 'vehicule', 'vehicule', 'vehicule', 'vehicule',\n",
       "       'vehicule', 'vehicule', 'vehicule', 'vehicule', 'vehicule',\n",
       "       'vehicule', 'vehicule', 'vehicule', 'vehicule', 'vehicule',\n",
       "       'vehicule', 'vehicule', 'vehicule', 'vehicule', 'vehicule',\n",
       "       'vehicule', 'vehicule', 'vehicule', 'vehicule', 'vehicule',\n",
       "       'vehicule', 'vehicule', 'vehicule', 'vehicule', 'vehicule',\n",
       "       'vehicule', 'vehicule', 'vehicule', 'vehicule', 'vehicule'],\n",
       "      dtype=object)"
      ]
     },
     "execution_count": 60,
     "metadata": {},
     "output_type": "execute_result"
    }
   ],
   "source": [
    "y_res = nn_model.predict(X)\n",
    "y_res = le.inverse_transform(y_res)\n",
    "y_res"
   ]
  },
  {
   "cell_type": "markdown",
   "metadata": {},
   "source": [
    "#### Using a dict instead of a Dataframe as input (performance optimization)\n",
    "\n",
    "In an industrialized context, a trained model might be fed input data one by one.  \n",
    "In this case, creating a pandas DataFrame with a single row is overkill and massive performed gain can be obtained by using a dict instead of a DataFrame.  \n",
    "\n",
    "\n",
    "Melusine is developped to ensure dict compatibility as described in the code below."
   ]
  },
  {
   "cell_type": "code",
   "execution_count": 61,
   "metadata": {
    "ExecuteTime": {
     "end_time": "2019-12-17T09:42:25.562424Z",
     "start_time": "2019-12-17T09:42:25.466318Z"
    }
   },
   "outputs": [
    {
     "name": "stderr",
     "output_type": "stream",
     "text": [
      "/Users/hperrier/opt/anaconda3/envs/melusine_perso38/lib/python3.8/site-packages/sklearn/utils/validation.py:63: DataConversionWarning: A column-vector y was passed when a 1d array was expected. Please change the shape of y to (n_samples, ), for example using ravel().\n",
      "  return f(*args, **kwargs)\n"
     ]
    }
   ],
   "source": [
    "import copy\n",
    "\n",
    "# ============== Test dict compatibility ==============\n",
    "dict_emails = df_emails.to_dict(orient='records')[0]\n",
    "dict_meta = MetadataPipeline.transform(dict_emails)\n",
    "dict_keywords = keywords_generator.transform(dict_emails)\n",
    "\n",
    "dict_input = copy.deepcopy(dict_meta)\n",
    "dict_input['clean_body'] = dict_emails['clean_body']\n",
    "\n",
    "dict_result = nn_model.predict(dict_input)"
   ]
  },
  {
   "cell_type": "code",
   "execution_count": 62,
   "metadata": {},
   "outputs": [
    {
     "data": {
      "text/plain": [
       "array([10])"
      ]
     },
     "execution_count": 62,
     "metadata": {},
     "output_type": "execute_result"
    }
   ],
   "source": [
    "dict_result"
   ]
  }
 ],
 "metadata": {
  "kernelspec": {
   "display_name": "melusine_perso38",
   "language": "python",
   "name": "melusine_perso38"
  },
  "language_info": {
   "codemirror_mode": {
    "name": "ipython",
    "version": 3
   },
   "file_extension": ".py",
   "mimetype": "text/x-python",
   "name": "python",
   "nbconvert_exporter": "python",
   "pygments_lexer": "ipython3",
   "version": "3.8.11"
  },
  "toc": {
   "base_numbering": 1,
   "nav_menu": {},
   "number_sections": true,
   "sideBar": true,
   "skip_h1_title": false,
   "title_cell": "Table of Contents",
   "title_sidebar": "Contents",
   "toc_cell": false,
   "toc_position": {},
   "toc_section_display": true,
   "toc_window_display": false
  },
  "varInspector": {
   "cols": {
    "lenName": 16,
    "lenType": 16,
    "lenVar": 40
   },
   "kernels_config": {
    "python": {
     "delete_cmd_postfix": "",
     "delete_cmd_prefix": "del ",
     "library": "var_list.py",
     "varRefreshCmd": "print(var_dic_list())"
    },
    "r": {
     "delete_cmd_postfix": ") ",
     "delete_cmd_prefix": "rm(",
     "library": "var_list.r",
     "varRefreshCmd": "cat(var_dic_list()) "
    }
   },
   "types_to_exclude": [
    "module",
    "function",
    "builtin_function_or_method",
    "instance",
    "_Feature"
   ],
   "window_display": false
  }
 },
 "nbformat": 4,
 "nbformat_minor": 4
}
