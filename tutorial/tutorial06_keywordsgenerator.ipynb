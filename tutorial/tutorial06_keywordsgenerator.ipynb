{
 "cells": [
  {
   "cell_type": "markdown",
   "metadata": {},
   "source": [
    "# KeywordsGenerator class"
   ]
  },
  {
   "cell_type": "markdown",
   "metadata": {},
   "source": [
    "The KeywordGenerator class extracts relevant keywords in the text data **based on a tf-idf score computed on the training dataset**."
   ]
  },
  {
   "cell_type": "markdown",
   "metadata": {},
   "source": [
    "#### The input dataframe"
   ]
  },
  {
   "cell_type": "markdown",
   "metadata": {},
   "source": [
    "KeywordGenerator **requires a *tokens* column** fow which iach elements is a list of strings. The *tokens* column can be generated with a Tokenizer object"
   ]
  },
  {
   "cell_type": "code",
   "execution_count": 1,
   "metadata": {},
   "outputs": [],
   "source": [
    "from melusine.data.data_loader import load_email_data\n",
    "df_emails_preprocessed = load_email_data(type=\"preprocessed\")"
   ]
  },
  {
   "cell_type": "code",
   "execution_count": 2,
   "metadata": {},
   "outputs": [],
   "source": [
    "# Create a tokens column\n",
    "from melusine.nlp_tools.tokenizer import WordLevelTokenizer\n",
    "tokenizer = WordLevelTokenizer()\n",
    "df_emails_preprocessed[\"tokens\"] = df_emails_preprocessed[\"clean_body\"].apply(tokenizer.tokenize)"
   ]
  },
  {
   "cell_type": "code",
   "execution_count": 3,
   "metadata": {},
   "outputs": [
    {
     "data": {
      "text/plain": [
       "['client',\n",
       " 'chez',\n",
       " 'pouvez',\n",
       " 'etablir',\n",
       " 'devis',\n",
       " 'fils',\n",
       " 'souhaite',\n",
       " 'louer',\n",
       " 'lappartement',\n",
       " 'suivant',\n",
       " '25',\n",
       " 'rue',\n",
       " 'rueimaginaire',\n",
       " 'flag_cp_']"
      ]
     },
     "execution_count": 3,
     "metadata": {},
     "output_type": "execute_result"
    }
   ],
   "source": [
    "df_emails_preprocessed.tokens[0]"
   ]
  },
  {
   "cell_type": "markdown",
   "metadata": {},
   "source": [
    "#### Arguments "
   ]
  },
  {
   "cell_type": "markdown",
   "metadata": {},
   "source": [
    "The specific parameters of the KeywordGenerator class are:\n",
    "- max_tfidf_features : size of vocabulary for tfidf\n",
    "- keywords : list of keyword to be extracted in priority (this list can be defined in the conf file)\n",
    "- stopwords : list of keywords to be ignored (this list can be defined in the conf file)\n",
    "- resample : when DataFrame contains a ‘label’ column, balance the dataset by resampling\n",
    "- n_max_keywords : maximum number of keywords to be returned for each email\n",
    "- n_min_keywords : minimum number of keywords to be returned for each email\n",
    "- threshold_keywords : minimum tf-idf score for a word to be selected as keyword"
   ]
  },
  {
   "cell_type": "code",
   "execution_count": 4,
   "metadata": {},
   "outputs": [],
   "source": [
    "keywords = ['devis', 'contrat', 'resilitation']"
   ]
  },
  {
   "cell_type": "code",
   "execution_count": 5,
   "metadata": {},
   "outputs": [],
   "source": [
    "stopwords = [\"au\", \"aux\", \"avec\", \"ce\", \"ces\", \"dans\", \"de\", \"des\", \"du\",\n",
    "        \"elle\", \"en\", \"et\", \"eux\", \"il\", \"je\", \"la\", \"le\", \"leur\", \"lui\", \"ma\",\n",
    "        \"mais\", \"me\", \"même\", \"mes\", \"moi\", \"mon\", \"ne\", \"nos\", \"notre\", \"nous\",\n",
    "        \"on\", \"ou\",\"par\", \"pas\", \"pour\", \"qu\", \"que\", \"qui\", \"sa\", \"se\", \"ses\",\n",
    "        \"son\", \"sur\",\"ta\", \"te\", \"tes\", \"toi\", \"ton\", \"tu\", \"un\", \"une\", \"vos\",\n",
    "        \"votre\", \"vous\", \"c\", \"d\", \"j\", \"l\", \"à\", \"m\", \"n\", \"s\", \"t\", \"y\", \"été\",\n",
    "        \"étée\", \"étées\", \"étés\", \"étant\", \"étante\", \"étants\", \"étantes\", \"suis\",\n",
    "        \"es\", \"est\", \"sommes\", \"êtes\", \"sont\", \"serai\", \"seras\", \"sera\", \"serons\",\n",
    "        \"serez\", \"seront\", \"serais\", \"serait\", \"serions\", \"seriez\", \"seraient\",\n",
    "        \"étais\", \"était\", \"étions\", \"étiez\", \"étaient\", \"fus\", \"fut\", \"fûmes\",\n",
    "        \"fûtes\", \"furent\", \"sois\", \"soit\", \"soyons\", \"soyez\", \"soient\", \"fusse\",\n",
    "        \"fusses\", \"fût\", \"fussions\", \"fussiez\", \"fussent\", \"ayant\", \"ayante\",\n",
    "        \"ayantes\", \"ayants\", \"eu\", \"eue\", \"eues\", \"eus\", \"ai\", \"as\", \"avons\",\n",
    "        \"avez\", \"ont\", \"aurai\", \"auras\", \"aura\", \"aurons\", \"aurez\", \"auront\",\n",
    "        \"aurais\", \"aurait\", \"aurions\", \"auriez\", \"auraient\", \"avais\", \"avait\",\n",
    "        \"avions\", \"aviez\", \"avaient\", \"eut\", \"eûmes\", \"eûtes\", \"eurent\", \"aie\",\n",
    "        \"aies\", \"ait\", \"ayons\", \"ayez\", \"aient\", \"eusse\", \"eusses\", \"eût\",\n",
    "        \"eussions\", \"eussiez\", \"eussent\", \"suivant\"],"
   ]
  },
  {
   "cell_type": "markdown",
   "metadata": {},
   "source": [
    "#### Defining the KeywordsGenerator"
   ]
  },
  {
   "cell_type": "code",
   "execution_count": 6,
   "metadata": {},
   "outputs": [],
   "source": [
    "from melusine.summarizer.keywords_generator import KeywordsGenerator\n",
    "\n",
    "keywords_generator = KeywordsGenerator(keywords = keywords,\n",
    "                                       stopwords = stopwords,\n",
    "                                       n_max_keywords=5,\n",
    "                                       n_min_keywords=0,\n",
    "                                       threshold_keywords=0.1,\n",
    "                                       keywords_coef=10)"
   ]
  },
  {
   "cell_type": "markdown",
   "metadata": {},
   "source": [
    "#### Training the KeywordsGenerator"
   ]
  },
  {
   "cell_type": "code",
   "execution_count": 7,
   "metadata": {},
   "outputs": [
    {
     "data": {
      "text/plain": [
       "KeywordsGenerator(keywords=['devis', 'contrat', 'resilitation'],\n",
       "                  n_max_keywords=5,\n",
       "                  stopwords=(['au', 'aux', 'avec', 'ce', 'ces', 'dans', 'de',\n",
       "                              'des', 'du', 'elle', 'en', 'et', 'eux', 'il',\n",
       "                              'je', 'la', 'le', 'leur', 'lui', 'ma', 'mais',\n",
       "                              'me', 'même', 'mes', 'moi', 'mon', 'ne', 'nos',\n",
       "                              'notre', 'nous', ...],),\n",
       "                  threshold_keywords=0.1)"
      ]
     },
     "execution_count": 7,
     "metadata": {},
     "output_type": "execute_result"
    }
   ],
   "source": [
    "keywords_generator.fit(df_emails_preprocessed) "
   ]
  },
  {
   "cell_type": "markdown",
   "metadata": {},
   "source": [
    "#### Extracting keywords"
   ]
  },
  {
   "cell_type": "code",
   "execution_count": 8,
   "metadata": {},
   "outputs": [
    {
     "name": "stderr",
     "output_type": "stream",
     "text": [
      "                                                       "
     ]
    }
   ],
   "source": [
    "df_emails_preprocessed = keywords_generator.transform(df_emails_preprocessed)"
   ]
  },
  {
   "cell_type": "code",
   "execution_count": 9,
   "metadata": {},
   "outputs": [
    {
     "data": {
      "text/html": [
       "<div>\n",
       "<style scoped>\n",
       "    .dataframe tbody tr th:only-of-type {\n",
       "        vertical-align: middle;\n",
       "    }\n",
       "\n",
       "    .dataframe tbody tr th {\n",
       "        vertical-align: top;\n",
       "    }\n",
       "\n",
       "    .dataframe thead th {\n",
       "        text-align: right;\n",
       "    }\n",
       "</style>\n",
       "<table border=\"1\" class=\"dataframe\">\n",
       "  <thead>\n",
       "    <tr style=\"text-align: right;\">\n",
       "      <th></th>\n",
       "      <th>body</th>\n",
       "      <th>header</th>\n",
       "      <th>date</th>\n",
       "      <th>from</th>\n",
       "      <th>to</th>\n",
       "      <th>attachment</th>\n",
       "      <th>sexe</th>\n",
       "      <th>age</th>\n",
       "      <th>label</th>\n",
       "      <th>is_begin_by_transfer</th>\n",
       "      <th>is_answer</th>\n",
       "      <th>is_transfer</th>\n",
       "      <th>structured_historic</th>\n",
       "      <th>structured_body</th>\n",
       "      <th>last_body</th>\n",
       "      <th>clean_body</th>\n",
       "      <th>clean_header</th>\n",
       "      <th>tokens</th>\n",
       "      <th>keywords</th>\n",
       "    </tr>\n",
       "  </thead>\n",
       "  <tbody>\n",
       "    <tr>\n",
       "      <th>0</th>\n",
       "      <td>\\n  \\n  \\n  \\n Bonjour \\n Je suis client chez...</td>\n",
       "      <td>Devis habitation</td>\n",
       "      <td>24/05/2018 11:36</td>\n",
       "      <td>Dupont &lt;monsieurdupont@extensiona.com&gt;</td>\n",
       "      <td>conseiller@Societeimaginaire.fr</td>\n",
       "      <td>[]</td>\n",
       "      <td>F</td>\n",
       "      <td>35</td>\n",
       "      <td>habitation</td>\n",
       "      <td>True</td>\n",
       "      <td>False</td>\n",
       "      <td>False</td>\n",
       "      <td>[{'text': ' \\n  \\n  \\n  \\n Bonjour \\n Je suis ...</td>\n",
       "      <td>[{'meta': {'date': None, 'from': None, 'to': N...</td>\n",
       "      <td>Je suis client chez vous Pouvez vous m établir...</td>\n",
       "      <td>je suis client chez vous pouvez vous m etablir...</td>\n",
       "      <td>devis habitation</td>\n",
       "      <td>[client, chez, pouvez, etablir, devis, fils, s...</td>\n",
       "      <td>[pouvez, devis, fils, suivant, flag_cp_]</td>\n",
       "    </tr>\n",
       "    <tr>\n",
       "      <th>1</th>\n",
       "      <td>\\n  \\n  \\n  \\n Bonsoir madame, \\n  \\n Je vous...</td>\n",
       "      <td>Immatriculation voiture</td>\n",
       "      <td>24/05/2018 19:37</td>\n",
       "      <td>Dupont &lt;monsieurdupont@extensiona.com&gt;</td>\n",
       "      <td>conseiller@Societeimaginaire.fr</td>\n",
       "      <td>[\"pj.pdf\"]</td>\n",
       "      <td>M</td>\n",
       "      <td>32</td>\n",
       "      <td>vehicule</td>\n",
       "      <td>True</td>\n",
       "      <td>False</td>\n",
       "      <td>False</td>\n",
       "      <td>[{'text': ' \\n  \\n  \\n  \\n Bonsoir madame, \\n ...</td>\n",
       "      <td>[{'meta': {'date': None, 'from': None, 'to': N...</td>\n",
       "      <td>Je vous informe que la nouvelle immatriculati...</td>\n",
       "      <td>je vous informe que la nouvelle immatriculatio...</td>\n",
       "      <td>immatriculation voiture</td>\n",
       "      <td>[informe, nouvelle, immatriculation, enfin, fa...</td>\n",
       "      <td>[nouvelle, immatriculation, prie, trouver, faire]</td>\n",
       "    </tr>\n",
       "    <tr>\n",
       "      <th>2</th>\n",
       "      <td>\\n  \\n  \\n Bonjours, \\n  \\n Suite a notre con...</td>\n",
       "      <td>Re: Envoi d'un document de la Société Imaginaire</td>\n",
       "      <td>vendredi 25 mai 2018 06 h 45 CEST</td>\n",
       "      <td>Monsieur Dupont &lt;monsieurdupont@extensiona.com&gt;</td>\n",
       "      <td>demandes@societeimaginaire.fr</td>\n",
       "      <td>[]</td>\n",
       "      <td>M</td>\n",
       "      <td>66</td>\n",
       "      <td>compte</td>\n",
       "      <td>False</td>\n",
       "      <td>True</td>\n",
       "      <td>False</td>\n",
       "      <td>[{'text': \" \\n  \\n  \\n Bonjours, \\n  \\n Suite ...</td>\n",
       "      <td>[{'meta': {'date': None, 'from': None, 'to': N...</td>\n",
       "      <td>Suite a notre conversation téléphonique de Ma...</td>\n",
       "      <td>suite a notre conversation telephonique de mar...</td>\n",
       "      <td>envoi d'un document de la societe imaginaire</td>\n",
       "      <td>[suite, a, conversation, telephonique, flag_da...</td>\n",
       "      <td>[conversation, pourriez, dire, dois, afin]</td>\n",
       "    </tr>\n",
       "    <tr>\n",
       "      <th>3</th>\n",
       "      <td>\\n  \\n  \\n  \\n  \\n Bonjour, \\n  \\n  \\n Je fai...</td>\n",
       "      <td>Re: Votre adhésion à la Société Imaginaire</td>\n",
       "      <td>vendredi 25 mai 2018 10 h 15 CEST</td>\n",
       "      <td>Monsieur Dupont &lt;monsieurdupont@extensiond.com&gt;</td>\n",
       "      <td>demandes@societeimaginaire.fr</td>\n",
       "      <td>[\"fichedepaie.png\"]</td>\n",
       "      <td>M</td>\n",
       "      <td>50</td>\n",
       "      <td>adhesion</td>\n",
       "      <td>False</td>\n",
       "      <td>True</td>\n",
       "      <td>False</td>\n",
       "      <td>[{'text': \" \\n  \\n  \\n  \\n  \\n Bonjour, \\n  \\n...</td>\n",
       "      <td>[{'meta': {'date': None, 'from': None, 'to': N...</td>\n",
       "      <td>Je fais suite à  votre mail. J'ai envoyé mon...</td>\n",
       "      <td>je fais suite a votre mail. j'ai envoye mon bu...</td>\n",
       "      <td>votre adhesion a la societe imaginaire</td>\n",
       "      <td>[fais, suite, a, mail, envoye, bulletin, salai...</td>\n",
       "      <td>[suite, mail, bulletin, salaire, trouverez]</td>\n",
       "    </tr>\n",
       "    <tr>\n",
       "      <th>4</th>\n",
       "      <td>\\n  \\n  \\n Bonjour, \\n Voici ci joint mon bul...</td>\n",
       "      <td>Bulletin de salaire</td>\n",
       "      <td>vendredi 25 mai 2018 17 h 30 CEST</td>\n",
       "      <td>Monsieur Dupont &lt;monsieurdupont@extensiona.com&gt;</td>\n",
       "      <td>demandes@societeimaginaire.fr</td>\n",
       "      <td>[\"pj.pdf\"]</td>\n",
       "      <td>M</td>\n",
       "      <td>15</td>\n",
       "      <td>adhesion</td>\n",
       "      <td>False</td>\n",
       "      <td>False</td>\n",
       "      <td>False</td>\n",
       "      <td>[{'text': ' \\n  \\n  \\n Bonjour, \\n Voici ci jo...</td>\n",
       "      <td>[{'meta': {'date': None, 'from': None, 'to': N...</td>\n",
       "      <td>Voici ci joint mon bulletin de salaire comme d...</td>\n",
       "      <td>voici ci joint mon bulletin de salaire comme d...</td>\n",
       "      <td>bulletin de salaire</td>\n",
       "      <td>[voici, ci, joint, bulletin, salaire, comme, d...</td>\n",
       "      <td>[ci, joint, bulletin, salaire, comme]</td>\n",
       "    </tr>\n",
       "  </tbody>\n",
       "</table>\n",
       "</div>"
      ],
      "text/plain": [
       "                                                body  \\\n",
       "0   \\n  \\n  \\n  \\n Bonjour \\n Je suis client chez...   \n",
       "1   \\n  \\n  \\n  \\n Bonsoir madame, \\n  \\n Je vous...   \n",
       "2   \\n  \\n  \\n Bonjours, \\n  \\n Suite a notre con...   \n",
       "3   \\n  \\n  \\n  \\n  \\n Bonjour, \\n  \\n  \\n Je fai...   \n",
       "4   \\n  \\n  \\n Bonjour, \\n Voici ci joint mon bul...   \n",
       "\n",
       "                                             header  \\\n",
       "0                                  Devis habitation   \n",
       "1                           Immatriculation voiture   \n",
       "2  Re: Envoi d'un document de la Société Imaginaire   \n",
       "3        Re: Votre adhésion à la Société Imaginaire   \n",
       "4                               Bulletin de salaire   \n",
       "\n",
       "                                date  \\\n",
       "0                   24/05/2018 11:36   \n",
       "1                   24/05/2018 19:37   \n",
       "2  vendredi 25 mai 2018 06 h 45 CEST   \n",
       "3  vendredi 25 mai 2018 10 h 15 CEST   \n",
       "4  vendredi 25 mai 2018 17 h 30 CEST   \n",
       "\n",
       "                                              from  \\\n",
       "0           Dupont <monsieurdupont@extensiona.com>   \n",
       "1           Dupont <monsieurdupont@extensiona.com>   \n",
       "2  Monsieur Dupont <monsieurdupont@extensiona.com>   \n",
       "3  Monsieur Dupont <monsieurdupont@extensiond.com>   \n",
       "4  Monsieur Dupont <monsieurdupont@extensiona.com>   \n",
       "\n",
       "                                to           attachment sexe  age       label  \\\n",
       "0  conseiller@Societeimaginaire.fr                   []    F   35  habitation   \n",
       "1  conseiller@Societeimaginaire.fr           [\"pj.pdf\"]    M   32    vehicule   \n",
       "2    demandes@societeimaginaire.fr                   []    M   66      compte   \n",
       "3    demandes@societeimaginaire.fr  [\"fichedepaie.png\"]    M   50    adhesion   \n",
       "4    demandes@societeimaginaire.fr           [\"pj.pdf\"]    M   15    adhesion   \n",
       "\n",
       "   is_begin_by_transfer  is_answer  is_transfer  \\\n",
       "0                  True      False        False   \n",
       "1                  True      False        False   \n",
       "2                 False       True        False   \n",
       "3                 False       True        False   \n",
       "4                 False      False        False   \n",
       "\n",
       "                                 structured_historic  \\\n",
       "0  [{'text': ' \\n  \\n  \\n  \\n Bonjour \\n Je suis ...   \n",
       "1  [{'text': ' \\n  \\n  \\n  \\n Bonsoir madame, \\n ...   \n",
       "2  [{'text': \" \\n  \\n  \\n Bonjours, \\n  \\n Suite ...   \n",
       "3  [{'text': \" \\n  \\n  \\n  \\n  \\n Bonjour, \\n  \\n...   \n",
       "4  [{'text': ' \\n  \\n  \\n Bonjour, \\n Voici ci jo...   \n",
       "\n",
       "                                     structured_body  \\\n",
       "0  [{'meta': {'date': None, 'from': None, 'to': N...   \n",
       "1  [{'meta': {'date': None, 'from': None, 'to': N...   \n",
       "2  [{'meta': {'date': None, 'from': None, 'to': N...   \n",
       "3  [{'meta': {'date': None, 'from': None, 'to': N...   \n",
       "4  [{'meta': {'date': None, 'from': None, 'to': N...   \n",
       "\n",
       "                                           last_body  \\\n",
       "0  Je suis client chez vous Pouvez vous m établir...   \n",
       "1   Je vous informe que la nouvelle immatriculati...   \n",
       "2   Suite a notre conversation téléphonique de Ma...   \n",
       "3    Je fais suite à  votre mail. J'ai envoyé mon...   \n",
       "4  Voici ci joint mon bulletin de salaire comme d...   \n",
       "\n",
       "                                          clean_body  \\\n",
       "0  je suis client chez vous pouvez vous m etablir...   \n",
       "1  je vous informe que la nouvelle immatriculatio...   \n",
       "2  suite a notre conversation telephonique de mar...   \n",
       "3  je fais suite a votre mail. j'ai envoye mon bu...   \n",
       "4  voici ci joint mon bulletin de salaire comme d...   \n",
       "\n",
       "                                   clean_header  \\\n",
       "0                              devis habitation   \n",
       "1                       immatriculation voiture   \n",
       "2  envoi d'un document de la societe imaginaire   \n",
       "3        votre adhesion a la societe imaginaire   \n",
       "4                           bulletin de salaire   \n",
       "\n",
       "                                              tokens  \\\n",
       "0  [client, chez, pouvez, etablir, devis, fils, s...   \n",
       "1  [informe, nouvelle, immatriculation, enfin, fa...   \n",
       "2  [suite, a, conversation, telephonique, flag_da...   \n",
       "3  [fais, suite, a, mail, envoye, bulletin, salai...   \n",
       "4  [voici, ci, joint, bulletin, salaire, comme, d...   \n",
       "\n",
       "                                            keywords  \n",
       "0           [pouvez, devis, fils, suivant, flag_cp_]  \n",
       "1  [nouvelle, immatriculation, prie, trouver, faire]  \n",
       "2         [conversation, pourriez, dire, dois, afin]  \n",
       "3        [suite, mail, bulletin, salaire, trouverez]  \n",
       "4              [ci, joint, bulletin, salaire, comme]  "
      ]
     },
     "execution_count": 9,
     "metadata": {},
     "output_type": "execute_result"
    }
   ],
   "source": [
    "df_emails_preprocessed.head()"
   ]
  },
  {
   "cell_type": "code",
   "execution_count": 10,
   "metadata": {},
   "outputs": [
    {
     "data": {
      "text/plain": [
       "['informe',\n",
       " 'nouvelle',\n",
       " 'immatriculation',\n",
       " 'enfin',\n",
       " 'faite',\n",
       " 'prie',\n",
       " 'trouver',\n",
       " 'donc',\n",
       " 'carte',\n",
       " 'grise',\n",
       " 'ainsi',\n",
       " 'nouvelle',\n",
       " 'immatriculation',\n",
       " 'demanderai',\n",
       " 'faire',\n",
       " 'changements',\n",
       " 'necessaires',\n",
       " 'concernant',\n",
       " 'lassurance']"
      ]
     },
     "execution_count": 10,
     "metadata": {},
     "output_type": "execute_result"
    }
   ],
   "source": [
    "df_emails_preprocessed.tokens[1]"
   ]
  },
  {
   "cell_type": "code",
   "execution_count": 11,
   "metadata": {},
   "outputs": [
    {
     "data": {
      "text/plain": [
       "['nouvelle', 'immatriculation', 'prie', 'trouver', 'faire']"
      ]
     },
     "execution_count": 11,
     "metadata": {},
     "output_type": "execute_result"
    },
    {
     "name": "stderr",
     "output_type": "stream",
     "text": []
    },
    {
     "name": "stderr",
     "output_type": "stream",
     "text": []
    },
    {
     "name": "stderr",
     "output_type": "stream",
     "text": []
    },
    {
     "name": "stderr",
     "output_type": "stream",
     "text": []
    },
    {
     "name": "stderr",
     "output_type": "stream",
     "text": []
    },
    {
     "name": "stderr",
     "output_type": "stream",
     "text": []
    },
    {
     "name": "stderr",
     "output_type": "stream",
     "text": []
    },
    {
     "name": "stderr",
     "output_type": "stream",
     "text": []
    },
    {
     "name": "stderr",
     "output_type": "stream",
     "text": []
    },
    {
     "name": "stderr",
     "output_type": "stream",
     "text": [
      "\r"
     ]
    }
   ],
   "source": [
    "df_emails_preprocessed.keywords[1]"
   ]
  }
 ],
 "metadata": {
  "kernelspec": {
   "display_name": "melusine_perso38",
   "language": "python",
   "name": "melusine_perso38"
  },
  "language_info": {
   "codemirror_mode": {
    "name": "ipython",
    "version": 3
   },
   "file_extension": ".py",
   "mimetype": "text/x-python",
   "name": "python",
   "nbconvert_exporter": "python",
   "pygments_lexer": "ipython3",
   "version": "3.8.11"
  }
 },
 "nbformat": 4,
 "nbformat_minor": 4
}
