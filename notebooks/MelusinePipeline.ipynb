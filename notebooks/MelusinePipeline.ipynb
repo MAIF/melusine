{
 "cells": [
  {
   "cell_type": "markdown",
   "id": "fe70aac9-72e4-432a-ad61-c966c9c848d5",
   "metadata": {},
   "source": [
    "# Create elementary objects"
   ]
  },
  {
   "cell_type": "code",
   "execution_count": 1,
   "id": "3b715845-12aa-4a49-a708-7bbd2951f418",
   "metadata": {},
   "outputs": [
    {
     "name": "stdout",
     "output_type": "stream",
     "text": [
      "Using pandas backend for Data transformations\n"
     ]
    }
   ],
   "source": [
    "from melusine.nlp_tools.normalizer import Normalizer\n",
    "from melusine.nlp_tools.tokenizer import RegexTokenizer\n",
    "from melusine.nlp_tools.phraser import Phraser\n",
    "from melusine.nlp_tools.text_processor import TextProcessor, make_tokenizer\n",
    "from melusine.nlp_tools.text_flagger import DeterministicTextFlagger\n",
    "from melusine.nlp_tools.token_flagger import FlashtextTokenFlagger\n",
    "from melusine.nlp_tools.lemmatizer import DummyLemmatizer\n",
    "from melusine.core.pipeline import MelusinePipeline\n",
    "from melusine.nlp_tools.embedding import Embedding\n",
    "\n",
    "from melusine import load_email_data"
   ]
  },
  {
   "cell_type": "code",
   "execution_count": 2,
   "id": "b5b05518-81e0-4286-ae86-d27fd0966c3f",
   "metadata": {},
   "outputs": [],
   "source": [
    "n = Normalizer(form=\"NFKD\", lowercase=True)\n",
    "t = RegexTokenizer(tokenizer_regex=r\"\\w+(?:[\\?\\-\\\"_]\\w+)*\", stopwords=[\"le\", \"les\"])\n",
    "textf = DeterministicTextFlagger(text_flags = {r\"\\d{10}\": \"flag_phone\"})\n",
    "tokenf = FlashtextTokenFlagger(token_flags = {\"flag_name\": [\"joe\", \"bob\"]})\n",
    "d = DummyLemmatizer()"
   ]
  },
  {
   "cell_type": "code",
   "execution_count": 3,
   "id": "8125a08a-f305-48e8-94a8-8a311d87442c",
   "metadata": {},
   "outputs": [],
   "source": [
    "e = Embedding(min_count=2)"
   ]
  },
  {
   "cell_type": "markdown",
   "id": "8b62d2e2-800e-46e9-8bde-8054ff65978a",
   "metadata": {},
   "source": [
    "# Text Processor object"
   ]
  },
  {
   "cell_type": "code",
   "execution_count": 4,
   "id": "ab2ad2c4-8c3a-4728-9617-384192064251",
   "metadata": {},
   "outputs": [],
   "source": [
    "pp = TextProcessor(\n",
    "        normalizer=n,\n",
    "        text_flagger=textf,\n",
    "        tokenizer=t,\n",
    "        token_flagger=tokenf,\n",
    "        lemmatizer=d,\n",
    ")"
   ]
  },
  {
   "cell_type": "code",
   "execution_count": 5,
   "id": "4aa06c7a-6aa9-434b-9eb2-15d055cc570f",
   "metadata": {},
   "outputs": [
    {
     "data": {
      "text/plain": [
       "['appelle',\n",
       " 'flag_name',\n",
       " 'sont',\n",
       " 'numero',\n",
       " 'est',\n",
       " 'flag_phone',\n",
       " 'il',\n",
       " 'a',\n",
       " 'billet']"
      ]
     },
     "execution_count": 5,
     "metadata": {},
     "output_type": "execute_result"
    }
   ],
   "source": [
    "pp.process(\"Appelle bob, sont numéro est le 0611111111 ! Il a les billets\")"
   ]
  },
  {
   "cell_type": "code",
   "execution_count": 6,
   "id": "9c26b6ac-ffec-4f2b-9eb0-8267a8131bfa",
   "metadata": {},
   "outputs": [],
   "source": [
    "# pp.save(\"my_text_processor\")"
   ]
  },
  {
   "cell_type": "code",
   "execution_count": 7,
   "id": "da2eaea9-a355-4955-87f7-fb68a6caaefe",
   "metadata": {},
   "outputs": [],
   "source": [
    "# ppp = TextProcessor.load(\"my_text_processor\")"
   ]
  },
  {
   "cell_type": "code",
   "execution_count": 8,
   "id": "7eb9a618-4cec-44a9-9ece-7114a291f973",
   "metadata": {},
   "outputs": [],
   "source": [
    "# ppp.process(\"les écureuils sont présents !!!\")"
   ]
  },
  {
   "cell_type": "markdown",
   "id": "4bbeb771-7441-4ab7-ac47-7e779cd0b981",
   "metadata": {},
   "source": [
    "# Melusine Pipeline"
   ]
  },
  {
   "cell_type": "code",
   "execution_count": 9,
   "id": "4bb9ca6b-b279-43c0-a75c-23b8638be51b",
   "metadata": {},
   "outputs": [
    {
     "data": {
      "text/html": [
       "<div>\n",
       "<style scoped>\n",
       "    .dataframe tbody tr th:only-of-type {\n",
       "        vertical-align: middle;\n",
       "    }\n",
       "\n",
       "    .dataframe tbody tr th {\n",
       "        vertical-align: top;\n",
       "    }\n",
       "\n",
       "    .dataframe thead th {\n",
       "        text-align: right;\n",
       "    }\n",
       "</style>\n",
       "<table border=\"1\" class=\"dataframe\">\n",
       "  <thead>\n",
       "    <tr style=\"text-align: right;\">\n",
       "      <th></th>\n",
       "      <th>body</th>\n",
       "      <th>header</th>\n",
       "      <th>date</th>\n",
       "      <th>from</th>\n",
       "      <th>to</th>\n",
       "      <th>attachment</th>\n",
       "      <th>sexe</th>\n",
       "      <th>age</th>\n",
       "      <th>label</th>\n",
       "      <th>is_begin_by_transfer</th>\n",
       "      <th>...</th>\n",
       "      <th>min__44</th>\n",
       "      <th>min__45</th>\n",
       "      <th>min__49</th>\n",
       "      <th>min__52</th>\n",
       "      <th>min__54</th>\n",
       "      <th>min__56</th>\n",
       "      <th>min__58</th>\n",
       "      <th>attachment_type__0</th>\n",
       "      <th>attachment_type__1</th>\n",
       "      <th>text</th>\n",
       "    </tr>\n",
       "  </thead>\n",
       "  <tbody>\n",
       "    <tr>\n",
       "      <th>0</th>\n",
       "      <td>\\n  \\n  \\n  \\n Bonjour \\n Je suis client chez...</td>\n",
       "      <td>Devis habitation</td>\n",
       "      <td>2018-05-24 11:36:00</td>\n",
       "      <td>Dupont &lt;monsieurdupont@extensiona.com&gt;</td>\n",
       "      <td>conseiller@Societeimaginaire.fr</td>\n",
       "      <td>[]</td>\n",
       "      <td>F</td>\n",
       "      <td>35</td>\n",
       "      <td>habitation</td>\n",
       "      <td>True</td>\n",
       "      <td>...</td>\n",
       "      <td>0</td>\n",
       "      <td>0</td>\n",
       "      <td>0</td>\n",
       "      <td>0</td>\n",
       "      <td>0</td>\n",
       "      <td>0</td>\n",
       "      <td>0</td>\n",
       "      <td>0</td>\n",
       "      <td>1</td>\n",
       "      <td>\\n  \\n  \\n  \\n Bonjour \\n Je suis client chez...</td>\n",
       "    </tr>\n",
       "    <tr>\n",
       "      <th>1</th>\n",
       "      <td>\\n  \\n  \\n  \\n Bonsoir madame, \\n  \\n Je vous...</td>\n",
       "      <td>Immatriculation voiture</td>\n",
       "      <td>2018-05-24 19:37:00</td>\n",
       "      <td>Dupont &lt;monsieurdupont@extensiona.com&gt;</td>\n",
       "      <td>conseiller@Societeimaginaire.fr</td>\n",
       "      <td>[\"pj.pdf\"]</td>\n",
       "      <td>M</td>\n",
       "      <td>32</td>\n",
       "      <td>vehicule</td>\n",
       "      <td>True</td>\n",
       "      <td>...</td>\n",
       "      <td>0</td>\n",
       "      <td>0</td>\n",
       "      <td>0</td>\n",
       "      <td>0</td>\n",
       "      <td>0</td>\n",
       "      <td>0</td>\n",
       "      <td>0</td>\n",
       "      <td>1</td>\n",
       "      <td>0</td>\n",
       "      <td>\\n  \\n  \\n  \\n Bonsoir madame, \\n  \\n Je vous...</td>\n",
       "    </tr>\n",
       "  </tbody>\n",
       "</table>\n",
       "<p>2 rows × 84 columns</p>\n",
       "</div>"
      ],
      "text/plain": [
       "                                                body                   header  \\\n",
       "0   \\n  \\n  \\n  \\n Bonjour \\n Je suis client chez...         Devis habitation   \n",
       "1   \\n  \\n  \\n  \\n Bonsoir madame, \\n  \\n Je vous...  Immatriculation voiture   \n",
       "\n",
       "                  date                                    from  \\\n",
       "0  2018-05-24 11:36:00  Dupont <monsieurdupont@extensiona.com>   \n",
       "1  2018-05-24 19:37:00  Dupont <monsieurdupont@extensiona.com>   \n",
       "\n",
       "                                to  attachment sexe  age       label  \\\n",
       "0  conseiller@Societeimaginaire.fr          []    F   35  habitation   \n",
       "1  conseiller@Societeimaginaire.fr  [\"pj.pdf\"]    M   32    vehicule   \n",
       "\n",
       "   is_begin_by_transfer  ...  min__44  min__45 min__49 min__52 min__54  \\\n",
       "0                  True  ...        0        0       0       0       0   \n",
       "1                  True  ...        0        0       0       0       0   \n",
       "\n",
       "  min__56 min__58  attachment_type__0  attachment_type__1  \\\n",
       "0       0       0                   0                   1   \n",
       "1       0       0                   1                   0   \n",
       "\n",
       "                                                text  \n",
       "0   \\n  \\n  \\n  \\n Bonjour \\n Je suis client chez...  \n",
       "1   \\n  \\n  \\n  \\n Bonsoir madame, \\n  \\n Je vous...  \n",
       "\n",
       "[2 rows x 84 columns]"
      ]
     },
     "execution_count": 9,
     "metadata": {},
     "output_type": "execute_result"
    }
   ],
   "source": [
    "df = load_email_data(type=\"full\")\n",
    "df[\"text\"] = df[\"body\"]\n",
    "df.head(2)"
   ]
  },
  {
   "cell_type": "markdown",
   "id": "3f085ed6-e656-47d9-b660-4d0007c468f5",
   "metadata": {},
   "source": [
    "## Add a custom SKlearn transformer to the pipeline"
   ]
  },
  {
   "cell_type": "code",
   "execution_count": 10,
   "id": "eb7cda76-6c14-4c5c-8aa9-ee4700fbaedd",
   "metadata": {},
   "outputs": [],
   "source": [
    "from sklearn.base import BaseEstimator, TransformerMixin\n",
    "\n",
    "class Stupid(BaseEstimator, TransformerMixin):\n",
    "    def fit(self, df, y=None):\n",
    "        return self\n",
    "\n",
    "    def transform(self, df):\n",
    "        df[\"stupid\"] = True\n",
    "        return df    "
   ]
  },
  {
   "cell_type": "code",
   "execution_count": 11,
   "id": "106aac04-7ab2-4072-834d-efae81eff1bc",
   "metadata": {},
   "outputs": [],
   "source": [
    "stupid = Stupid()"
   ]
  },
  {
   "cell_type": "markdown",
   "id": "291da8e0-d29c-4f6c-88fd-fbdcb32434e0",
   "metadata": {},
   "source": [
    "## Assemble Pipeline"
   ]
  },
  {
   "cell_type": "code",
   "execution_count": 12,
   "id": "4be8ac54-08be-4f33-acf7-085e54a4c1ac",
   "metadata": {},
   "outputs": [],
   "source": [
    "textf2 = DeterministicTextFlagger(text_flags = {r\"je\": \"JE\"})\n",
    "gensim_phraser = Phraser(threshold=2, min_count=2, input_columns=[\"tokens\"], output_columns=[\"tokens\"])\n",
    "\n",
    "m_pipe = MelusinePipeline([\n",
    "        (\"normalizer\", n),\n",
    "        (\"text_flagger\", textf),\n",
    "        (\"text_flagger2\", textf2),\n",
    "        (\"tokenizer\", t),\n",
    "        (\"lemmatizer\", d),\n",
    "        (\"stupid\", stupid),\n",
    "        (\"gensim_phraser\", gensim_phraser),\n",
    "        (\"token_flagger\", tokenf),\n",
    "        (\"w2v\", e),\n",
    "],\n",
    "    verbose=True\n",
    ")"
   ]
  },
  {
   "cell_type": "markdown",
   "id": "e6d022c5-4d6f-4f45-95db-d2e8cbc5c8d2",
   "metadata": {},
   "source": [
    "## Execute pipeline"
   ]
  },
  {
   "cell_type": "code",
   "execution_count": 13,
   "id": "86092f77-7a31-4193-bab6-6819c905ea69",
   "metadata": {},
   "outputs": [
    {
     "name": "stdout",
     "output_type": "stream",
     "text": [
      "[Pipeline] ........ (step 1 of 9) Processing normalizer, total=   0.0s\n",
      "[Pipeline] ...... (step 2 of 9) Processing text_flagger, total=   0.0s\n",
      "[Pipeline] ..... (step 3 of 9) Processing text_flagger2, total=   0.0s\n",
      "[Pipeline] ......... (step 4 of 9) Processing tokenizer, total=   0.0s\n",
      "[Pipeline] ........ (step 5 of 9) Processing lemmatizer, total=   0.0s\n",
      "[Pipeline] ............ (step 6 of 9) Processing stupid, total=   0.0s\n",
      "[Pipeline] .... (step 7 of 9) Processing gensim_phraser, total=   0.0s\n",
      "[Pipeline] ..... (step 8 of 9) Processing token_flagger, total=   0.0s\n",
      "[Pipeline] ............... (step 9 of 9) Processing w2v, total=   0.0s\n"
     ]
    }
   ],
   "source": [
    "df = m_pipe.fit_transform(df)"
   ]
  },
  {
   "cell_type": "code",
   "execution_count": 14,
   "id": "5db8f95b-0a57-4d60-93d6-d961bc07aae5",
   "metadata": {},
   "outputs": [
    {
     "name": "stdout",
     "output_type": "stream",
     "text": [
      "True\n"
     ]
    },
    {
     "data": {
      "text/plain": [
       "['bonjour_JE',\n",
       " 'sui',\n",
       " 'client',\n",
       " 'chez',\n",
       " 'vou',\n",
       " 'pouvez',\n",
       " 'vou',\n",
       " 'm',\n",
       " 'etablir',\n",
       " 'un_devi',\n",
       " 'pour',\n",
       " 'mon',\n",
       " 'fil',\n",
       " 'qui',\n",
       " 'souhaite',\n",
       " 'louer',\n",
       " 'lappartement',\n",
       " 'suivant',\n",
       " '25',\n",
       " 'rue',\n",
       " 'du',\n",
       " 'rueimaginaire',\n",
       " '77000',\n",
       " 'merci',\n",
       " 'envoye_de',\n",
       " 'mon_iphone']"
      ]
     },
     "execution_count": 14,
     "metadata": {},
     "output_type": "execute_result"
    }
   ],
   "source": [
    "print(\"stupid\" in df.columns)\n",
    "df.iloc[0][\"tokens\"]"
   ]
  },
  {
   "cell_type": "code",
   "execution_count": 15,
   "id": "256d6e28-aa89-4d9f-9de7-fd60b9f3b4de",
   "metadata": {},
   "outputs": [],
   "source": [
    "m_pipe.save(\"my_pipeline\")"
   ]
  },
  {
   "cell_type": "code",
   "execution_count": 16,
   "id": "ca4edd1d-d28a-4fd0-827e-e01dd092d152",
   "metadata": {},
   "outputs": [],
   "source": [
    "m_pipe_reloaded = MelusinePipeline.load(\"my_pipeline\")"
   ]
  },
  {
   "cell_type": "code",
   "execution_count": 17,
   "id": "ac87bd50-1b5b-4acf-a77a-b04f010875cb",
   "metadata": {},
   "outputs": [
    {
     "data": {
      "text/plain": [
       "MelusinePipeline(steps=[('normalizer',\n",
       "                         Normalizer(input_columns=['text'],\n",
       "                                    output_columns=['text'])),\n",
       "                        ('text_flagger',\n",
       "                         DeterministicTextFlagger(input_columns=['text'],\n",
       "                                                  output_columns=['text'],\n",
       "                                                  text_flags={'\\\\d{10}': 'flag_phone'})),\n",
       "                        ('text_flagger2',\n",
       "                         DeterministicTextFlagger(input_columns=['text'],\n",
       "                                                  output_columns=['text'],\n",
       "                                                  text_flags={'je': 'JE'})),\n",
       "                        ('tokenizer'...\n",
       "                        ('stupid', Stupid()),\n",
       "                        ('gensim_phraser',\n",
       "                         Phraser(input_columns=['tokens'],\n",
       "                                 output_columns=['tokens'])),\n",
       "                        ('token_flagger',\n",
       "                         FlashtextTokenFlagger(flashtext_separators=['-', '_',\n",
       "                                                                     '/'],\n",
       "                                               input_columns=['tokens'],\n",
       "                                               output_columns=['tokens'],\n",
       "                                               token_flags={'flag_name': ['joe',\n",
       "                                                                          'bob']})),\n",
       "                        ('w2v',\n",
       "                         Embedding(input_columns=['tokens'],\n",
       "                                   output_columns=['tokens']))],\n",
       "                 verbose=True)"
      ]
     },
     "execution_count": 17,
     "metadata": {},
     "output_type": "execute_result"
    }
   ],
   "source": [
    "m_pipe_reloaded"
   ]
  },
  {
   "cell_type": "code",
   "execution_count": 18,
   "id": "4da8929f-2ebf-405a-95f0-d8a176ea21ff",
   "metadata": {},
   "outputs": [
    {
     "name": "stdout",
     "output_type": "stream",
     "text": [
      "True\n"
     ]
    },
    {
     "data": {
      "text/plain": [
       "['bonjour_JE',\n",
       " 'sui',\n",
       " 'client',\n",
       " 'chez',\n",
       " 'vou',\n",
       " 'pouvez',\n",
       " 'vou',\n",
       " 'm',\n",
       " 'etablir',\n",
       " 'un_devi',\n",
       " 'pour',\n",
       " 'mon',\n",
       " 'fil',\n",
       " 'qui',\n",
       " 'souhaite',\n",
       " 'louer',\n",
       " 'lappartement',\n",
       " 'suivant',\n",
       " '25',\n",
       " 'rue',\n",
       " 'du',\n",
       " 'rueimaginaire',\n",
       " '77000',\n",
       " 'merci',\n",
       " 'envoye_de',\n",
       " 'mon_iphone']"
      ]
     },
     "execution_count": 18,
     "metadata": {},
     "output_type": "execute_result"
    }
   ],
   "source": [
    "df = load_email_data(type=\"full\")\n",
    "df[\"text\"] = df[\"body\"]\n",
    "df = m_pipe_reloaded.transform(df)\n",
    "print(\"stupid\" in df.columns)\n",
    "df.iloc[0][\"tokens\"]"
   ]
  },
  {
   "cell_type": "code",
   "execution_count": 19,
   "id": "ff2eadd4-dfde-4abe-9288-13fde09babcf",
   "metadata": {},
   "outputs": [
    {
     "data": {
      "text/plain": [
       "(array([ 9.0266630e-04,  6.4310022e-03, -6.7403787e-03,  7.1425955e-03,\n",
       "         1.0331177e-02,  1.9011955e-03,  3.9349636e-03,  6.4286543e-03,\n",
       "        -2.9777391e-03, -8.4869433e-03,  8.1091013e-04, -5.0247193e-04,\n",
       "        -7.2138435e-03,  2.3347558e-03,  4.8175771e-03, -8.1246467e-03,\n",
       "         2.5347041e-03,  6.5802303e-03, -8.8761132e-03,  1.1852063e-03,\n",
       "        -8.1245080e-03, -7.6027690e-03,  7.6509570e-03, -7.9380795e-03,\n",
       "        -1.8591663e-03, -7.8568542e-03, -8.5925832e-03, -8.1224414e-03,\n",
       "        -1.2418941e-03,  2.2142131e-03, -6.9472692e-03, -7.7581573e-03,\n",
       "        -2.5859969e-03, -2.4417292e-03, -6.8943468e-03, -2.9456376e-03,\n",
       "         3.4222791e-03,  1.8526295e-03,  5.4572974e-03,  2.1080021e-03,\n",
       "        -5.4242183e-04,  1.3953992e-03,  8.9178765e-03,  2.0206973e-03,\n",
       "         3.1961922e-03,  4.3547744e-04, -9.5608933e-03,  4.6774661e-03,\n",
       "         5.7900925e-03,  4.0709460e-04,  1.0159505e-02, -6.6816816e-03,\n",
       "         3.5485327e-03, -7.7318372e-03, -9.7941346e-03,  2.7999498e-03,\n",
       "         4.3836278e-03,  6.0351421e-03, -1.0655590e-02,  5.0802282e-03,\n",
       "         2.7160840e-03,  4.1551003e-03, -4.2233197e-04,  4.4196108e-03,\n",
       "         5.7221800e-03, -7.7263317e-03, -9.3634827e-03,  8.1075858e-03,\n",
       "        -2.9295881e-03, -7.8756753e-03, -5.2353619e-03,  1.5465528e-03,\n",
       "         9.2937006e-03, -2.0050970e-03, -5.3067499e-05, -6.5393774e-03,\n",
       "        -7.6334807e-03,  1.1705382e-03, -1.8774935e-03, -6.9469446e-03,\n",
       "         7.7649107e-04, -9.3332687e-03, -4.2141941e-03,  5.3593321e-03,\n",
       "         3.8632710e-04,  8.3320746e-03,  7.0548924e-03,  7.3952408e-04,\n",
       "         6.3780583e-03,  6.0605211e-03,  1.0185528e-02,  9.7253229e-03,\n",
       "         4.7429847e-03,  5.1703393e-03,  8.9095216e-03, -8.0919225e-04,\n",
       "        -4.8282323e-03,  7.9225963e-03,  1.7970827e-03, -5.0133914e-03],\n",
       "       dtype=float32),\n",
       " numpy.ndarray)"
      ]
     },
     "execution_count": 19,
     "metadata": {},
     "output_type": "execute_result"
    }
   ],
   "source": [
    "import numpy as np\n",
    "m_pipe_reloaded.named_steps[\"w2v\"].embeddings_[\"date\"], np.ndarray"
   ]
  },
  {
   "cell_type": "code",
   "execution_count": 20,
   "id": "0e9e4e54-19a0-41ad-afa6-8add89058e5d",
   "metadata": {},
   "outputs": [],
   "source": [
    "m_pipe_reloaded.named_steps[\"gensim_phraser\"].phraser_.save(\"my_pipeline/phraser_obj\")"
   ]
  },
  {
   "cell_type": "markdown",
   "id": "8b1e34c2-322e-4293-895a-150634361e65",
   "metadata": {},
   "source": [
    "# Pipeline Visualization"
   ]
  },
  {
   "cell_type": "code",
   "execution_count": 21,
   "id": "7c106b1a-d866-4fc7-98c2-7b5849580068",
   "metadata": {},
   "outputs": [
    {
     "data": {
      "text/html": [
       "<style>#sk-6087f109-77dd-4b88-8745-33cb2f48563b {color: black;background-color: white;}#sk-6087f109-77dd-4b88-8745-33cb2f48563b pre{padding: 0;}#sk-6087f109-77dd-4b88-8745-33cb2f48563b div.sk-toggleable {background-color: white;}#sk-6087f109-77dd-4b88-8745-33cb2f48563b label.sk-toggleable__label {cursor: pointer;display: block;width: 100%;margin-bottom: 0;padding: 0.2em 0.3em;box-sizing: border-box;text-align: center;}#sk-6087f109-77dd-4b88-8745-33cb2f48563b div.sk-toggleable__content {max-height: 0;max-width: 0;overflow: hidden;text-align: left;background-color: #f0f8ff;}#sk-6087f109-77dd-4b88-8745-33cb2f48563b div.sk-toggleable__content pre {margin: 0.2em;color: black;border-radius: 0.25em;background-color: #f0f8ff;}#sk-6087f109-77dd-4b88-8745-33cb2f48563b input.sk-toggleable__control:checked~div.sk-toggleable__content {max-height: 200px;max-width: 100%;overflow: auto;}#sk-6087f109-77dd-4b88-8745-33cb2f48563b div.sk-estimator input.sk-toggleable__control:checked~label.sk-toggleable__label {background-color: #d4ebff;}#sk-6087f109-77dd-4b88-8745-33cb2f48563b div.sk-label input.sk-toggleable__control:checked~label.sk-toggleable__label {background-color: #d4ebff;}#sk-6087f109-77dd-4b88-8745-33cb2f48563b input.sk-hidden--visually {border: 0;clip: rect(1px 1px 1px 1px);clip: rect(1px, 1px, 1px, 1px);height: 1px;margin: -1px;overflow: hidden;padding: 0;position: absolute;width: 1px;}#sk-6087f109-77dd-4b88-8745-33cb2f48563b div.sk-estimator {font-family: monospace;background-color: #f0f8ff;margin: 0.25em 0.25em;border: 1px dotted black;border-radius: 0.25em;box-sizing: border-box;}#sk-6087f109-77dd-4b88-8745-33cb2f48563b div.sk-estimator:hover {background-color: #d4ebff;}#sk-6087f109-77dd-4b88-8745-33cb2f48563b div.sk-parallel-item::after {content: \"\";width: 100%;border-bottom: 1px solid gray;flex-grow: 1;}#sk-6087f109-77dd-4b88-8745-33cb2f48563b div.sk-label:hover label.sk-toggleable__label {background-color: #d4ebff;}#sk-6087f109-77dd-4b88-8745-33cb2f48563b div.sk-serial::before {content: \"\";position: absolute;border-left: 1px solid gray;box-sizing: border-box;top: 2em;bottom: 0;left: 50%;}#sk-6087f109-77dd-4b88-8745-33cb2f48563b div.sk-serial {display: flex;flex-direction: column;align-items: center;background-color: white;}#sk-6087f109-77dd-4b88-8745-33cb2f48563b div.sk-item {z-index: 1;}#sk-6087f109-77dd-4b88-8745-33cb2f48563b div.sk-parallel {display: flex;align-items: stretch;justify-content: center;background-color: white;}#sk-6087f109-77dd-4b88-8745-33cb2f48563b div.sk-parallel-item {display: flex;flex-direction: column;position: relative;background-color: white;}#sk-6087f109-77dd-4b88-8745-33cb2f48563b div.sk-parallel-item:first-child::after {align-self: flex-end;width: 50%;}#sk-6087f109-77dd-4b88-8745-33cb2f48563b div.sk-parallel-item:last-child::after {align-self: flex-start;width: 50%;}#sk-6087f109-77dd-4b88-8745-33cb2f48563b div.sk-parallel-item:only-child::after {width: 0;}#sk-6087f109-77dd-4b88-8745-33cb2f48563b div.sk-dashed-wrapped {border: 1px dashed gray;margin: 0.2em;box-sizing: border-box;padding-bottom: 0.1em;background-color: white;position: relative;}#sk-6087f109-77dd-4b88-8745-33cb2f48563b div.sk-label label {font-family: monospace;font-weight: bold;background-color: white;display: inline-block;line-height: 1.2em;}#sk-6087f109-77dd-4b88-8745-33cb2f48563b div.sk-label-container {position: relative;z-index: 2;text-align: center;}#sk-6087f109-77dd-4b88-8745-33cb2f48563b div.sk-container {display: inline-block;position: relative;}</style><div id=\"sk-6087f109-77dd-4b88-8745-33cb2f48563b\" class\"sk-top-container\"><div class=\"sk-container\"><div class=\"sk-item sk-dashed-wrapped\"><div class=\"sk-label-container\"><div class=\"sk-label sk-toggleable\"><input class=\"sk-toggleable__control sk-hidden--visually\" id=\"d16f0b5b-cc63-4aac-970c-d6b202ac5ca2\" type=\"checkbox\" ><label class=\"sk-toggleable__label\" for=\"d16f0b5b-cc63-4aac-970c-d6b202ac5ca2\">MelusinePipeline</label><div class=\"sk-toggleable__content\"><pre>MelusinePipeline(steps=[('normalizer',\n",
       "                         Normalizer(input_columns=['text'],\n",
       "                                    output_columns=['text'])),\n",
       "                        ('text_flagger',\n",
       "                         DeterministicTextFlagger(input_columns=['text'],\n",
       "                                                  output_columns=['text'],\n",
       "                                                  text_flags={'\\\\d{10}': 'flag_phone'})),\n",
       "                        ('text_flagger2',\n",
       "                         DeterministicTextFlagger(input_columns=['text'],\n",
       "                                                  output_columns=['text'],\n",
       "                                                  text_flags={'je': 'JE'})),\n",
       "                        ('tokenizer'...\n",
       "                        ('stupid', Stupid()),\n",
       "                        ('gensim_phraser',\n",
       "                         Phraser(input_columns=['tokens'],\n",
       "                                 output_columns=['tokens'])),\n",
       "                        ('token_flagger',\n",
       "                         FlashtextTokenFlagger(flashtext_separators=['-', '_',\n",
       "                                                                     '/'],\n",
       "                                               input_columns=['tokens'],\n",
       "                                               output_columns=['tokens'],\n",
       "                                               token_flags={'flag_name': ['joe',\n",
       "                                                                          'bob']})),\n",
       "                        ('w2v',\n",
       "                         Embedding(input_columns=['tokens'],\n",
       "                                   output_columns=['tokens']))],\n",
       "                 verbose=True)</pre></div></div></div><div class=\"sk-serial\"><div class=\"sk-item\"><div class=\"sk-estimator sk-toggleable\"><input class=\"sk-toggleable__control sk-hidden--visually\" id=\"282449aa-41c3-4bcb-89de-061a7b108915\" type=\"checkbox\" ><label class=\"sk-toggleable__label\" for=\"282449aa-41c3-4bcb-89de-061a7b108915\">Normalizer</label><div class=\"sk-toggleable__content\"><pre>Normalizer(input_columns=['text'], output_columns=['text'])</pre></div></div></div><div class=\"sk-item\"><div class=\"sk-estimator sk-toggleable\"><input class=\"sk-toggleable__control sk-hidden--visually\" id=\"153adad0-cbc4-4f1a-9c44-8a1433174698\" type=\"checkbox\" ><label class=\"sk-toggleable__label\" for=\"153adad0-cbc4-4f1a-9c44-8a1433174698\">DeterministicTextFlagger</label><div class=\"sk-toggleable__content\"><pre>DeterministicTextFlagger(input_columns=['text'], output_columns=['text'],\n",
       "                         text_flags={'\\\\d{10}': 'flag_phone'})</pre></div></div></div><div class=\"sk-item\"><div class=\"sk-estimator sk-toggleable\"><input class=\"sk-toggleable__control sk-hidden--visually\" id=\"b7048a5c-f1d2-4847-aa80-b569b455e920\" type=\"checkbox\" ><label class=\"sk-toggleable__label\" for=\"b7048a5c-f1d2-4847-aa80-b569b455e920\">DeterministicTextFlagger</label><div class=\"sk-toggleable__content\"><pre>DeterministicTextFlagger(input_columns=['text'], output_columns=['text'],\n",
       "                         text_flags={'je': 'JE'})</pre></div></div></div><div class=\"sk-item\"><div class=\"sk-estimator sk-toggleable\"><input class=\"sk-toggleable__control sk-hidden--visually\" id=\"d07efd8e-86c3-472a-9a26-ce914b734eed\" type=\"checkbox\" ><label class=\"sk-toggleable__label\" for=\"d07efd8e-86c3-472a-9a26-ce914b734eed\">RegexTokenizer</label><div class=\"sk-toggleable__content\"><pre>RegexTokenizer(input_columns=['text'], output_columns=['tokens'],\n",
       "               stopwords={'le', 'les'})</pre></div></div></div><div class=\"sk-item\"><div class=\"sk-estimator sk-toggleable\"><input class=\"sk-toggleable__control sk-hidden--visually\" id=\"5ca3a74e-7c87-424c-b910-bc893e48976f\" type=\"checkbox\" ><label class=\"sk-toggleable__label\" for=\"5ca3a74e-7c87-424c-b910-bc893e48976f\">DummyLemmatizer</label><div class=\"sk-toggleable__content\"><pre>DummyLemmatizer(input_columns=('tokens',), output_columns=('tokens',))</pre></div></div></div><div class=\"sk-item\"><div class=\"sk-estimator sk-toggleable\"><input class=\"sk-toggleable__control sk-hidden--visually\" id=\"bb8565e8-83a0-4d21-999e-e186c78a9c34\" type=\"checkbox\" ><label class=\"sk-toggleable__label\" for=\"bb8565e8-83a0-4d21-999e-e186c78a9c34\">Stupid</label><div class=\"sk-toggleable__content\"><pre>Stupid()</pre></div></div></div><div class=\"sk-item\"><div class=\"sk-estimator sk-toggleable\"><input class=\"sk-toggleable__control sk-hidden--visually\" id=\"e9c8dc43-3e07-45bb-8cbe-2cc3684b1d3c\" type=\"checkbox\" ><label class=\"sk-toggleable__label\" for=\"e9c8dc43-3e07-45bb-8cbe-2cc3684b1d3c\">Phraser</label><div class=\"sk-toggleable__content\"><pre>Phraser(input_columns=['tokens'], output_columns=['tokens'])</pre></div></div></div><div class=\"sk-item\"><div class=\"sk-estimator sk-toggleable\"><input class=\"sk-toggleable__control sk-hidden--visually\" id=\"56d4977c-f393-4a08-be28-a3a10760b339\" type=\"checkbox\" ><label class=\"sk-toggleable__label\" for=\"56d4977c-f393-4a08-be28-a3a10760b339\">FlashtextTokenFlagger</label><div class=\"sk-toggleable__content\"><pre>FlashtextTokenFlagger(flashtext_separators=['-', '_', '/'],\n",
       "                      input_columns=['tokens'], output_columns=['tokens'],\n",
       "                      token_flags={'flag_name': ['joe', 'bob']})</pre></div></div></div><div class=\"sk-item\"><div class=\"sk-estimator sk-toggleable\"><input class=\"sk-toggleable__control sk-hidden--visually\" id=\"9df7db54-a394-4a5c-b632-b4f13812c275\" type=\"checkbox\" ><label class=\"sk-toggleable__label\" for=\"9df7db54-a394-4a5c-b632-b4f13812c275\">Embedding</label><div class=\"sk-toggleable__content\"><pre>Embedding(input_columns=['tokens'], output_columns=['tokens'])</pre></div></div></div></div></div></div></div>"
      ],
      "text/plain": [
       "MelusinePipeline(steps=[('normalizer',\n",
       "                         Normalizer(input_columns=['text'],\n",
       "                                    output_columns=['text'])),\n",
       "                        ('text_flagger',\n",
       "                         DeterministicTextFlagger(input_columns=['text'],\n",
       "                                                  output_columns=['text'],\n",
       "                                                  text_flags={'\\\\d{10}': 'flag_phone'})),\n",
       "                        ('text_flagger2',\n",
       "                         DeterministicTextFlagger(input_columns=['text'],\n",
       "                                                  output_columns=['text'],\n",
       "                                                  text_flags={'je': 'JE'})),\n",
       "                        ('tokenizer'...\n",
       "                        ('stupid', Stupid()),\n",
       "                        ('gensim_phraser',\n",
       "                         Phraser(input_columns=['tokens'],\n",
       "                                 output_columns=['tokens'])),\n",
       "                        ('token_flagger',\n",
       "                         FlashtextTokenFlagger(flashtext_separators=['-', '_',\n",
       "                                                                     '/'],\n",
       "                                               input_columns=['tokens'],\n",
       "                                               output_columns=['tokens'],\n",
       "                                               token_flags={'flag_name': ['joe',\n",
       "                                                                          'bob']})),\n",
       "                        ('w2v',\n",
       "                         Embedding(input_columns=['tokens'],\n",
       "                                   output_columns=['tokens']))],\n",
       "                 verbose=True)"
      ]
     },
     "execution_count": 21,
     "metadata": {},
     "output_type": "execute_result"
    }
   ],
   "source": [
    "from sklearn import set_config\n",
    "\n",
    "set_config(display='diagram')\n",
    "m_pipe_reloaded"
   ]
  },
  {
   "cell_type": "markdown",
   "id": "5cab8eaf-9fab-44f9-a17f-b722f85c45de",
   "metadata": {},
   "source": [
    "# Simplified Pipeline creation"
   ]
  },
  {
   "cell_type": "code",
   "execution_count": 22,
   "id": "8767d5ee-70dc-4605-ae66-49ba47a41a7e",
   "metadata": {},
   "outputs": [],
   "source": [
    "easy_pipe = make_tokenizer(\n",
    "        form = \"NFKD\",\n",
    "        lowercase = True,\n",
    "        tokenizer_regex = r\"\\w+(?:[\\?\\-\\\"_]\\w+)*\",\n",
    "        stopwords = [\"le\", \"les\"],\n",
    "        text_flags = {r\"\\d{10}\": \"flag_phone\"},\n",
    "        token_flags = {\"flag_name\": [\"joe\", \"bob\"]},  \n",
    ")"
   ]
  },
  {
   "cell_type": "code",
   "execution_count": 23,
   "id": "be9c5759-2afb-48f2-93c9-037eb2103a25",
   "metadata": {},
   "outputs": [
    {
     "data": {
      "text/html": [
       "<style>#sk-2bcce9ed-3fe8-4ec9-85e0-b6e172cbfb75 {color: black;background-color: white;}#sk-2bcce9ed-3fe8-4ec9-85e0-b6e172cbfb75 pre{padding: 0;}#sk-2bcce9ed-3fe8-4ec9-85e0-b6e172cbfb75 div.sk-toggleable {background-color: white;}#sk-2bcce9ed-3fe8-4ec9-85e0-b6e172cbfb75 label.sk-toggleable__label {cursor: pointer;display: block;width: 100%;margin-bottom: 0;padding: 0.2em 0.3em;box-sizing: border-box;text-align: center;}#sk-2bcce9ed-3fe8-4ec9-85e0-b6e172cbfb75 div.sk-toggleable__content {max-height: 0;max-width: 0;overflow: hidden;text-align: left;background-color: #f0f8ff;}#sk-2bcce9ed-3fe8-4ec9-85e0-b6e172cbfb75 div.sk-toggleable__content pre {margin: 0.2em;color: black;border-radius: 0.25em;background-color: #f0f8ff;}#sk-2bcce9ed-3fe8-4ec9-85e0-b6e172cbfb75 input.sk-toggleable__control:checked~div.sk-toggleable__content {max-height: 200px;max-width: 100%;overflow: auto;}#sk-2bcce9ed-3fe8-4ec9-85e0-b6e172cbfb75 div.sk-estimator input.sk-toggleable__control:checked~label.sk-toggleable__label {background-color: #d4ebff;}#sk-2bcce9ed-3fe8-4ec9-85e0-b6e172cbfb75 div.sk-label input.sk-toggleable__control:checked~label.sk-toggleable__label {background-color: #d4ebff;}#sk-2bcce9ed-3fe8-4ec9-85e0-b6e172cbfb75 input.sk-hidden--visually {border: 0;clip: rect(1px 1px 1px 1px);clip: rect(1px, 1px, 1px, 1px);height: 1px;margin: -1px;overflow: hidden;padding: 0;position: absolute;width: 1px;}#sk-2bcce9ed-3fe8-4ec9-85e0-b6e172cbfb75 div.sk-estimator {font-family: monospace;background-color: #f0f8ff;margin: 0.25em 0.25em;border: 1px dotted black;border-radius: 0.25em;box-sizing: border-box;}#sk-2bcce9ed-3fe8-4ec9-85e0-b6e172cbfb75 div.sk-estimator:hover {background-color: #d4ebff;}#sk-2bcce9ed-3fe8-4ec9-85e0-b6e172cbfb75 div.sk-parallel-item::after {content: \"\";width: 100%;border-bottom: 1px solid gray;flex-grow: 1;}#sk-2bcce9ed-3fe8-4ec9-85e0-b6e172cbfb75 div.sk-label:hover label.sk-toggleable__label {background-color: #d4ebff;}#sk-2bcce9ed-3fe8-4ec9-85e0-b6e172cbfb75 div.sk-serial::before {content: \"\";position: absolute;border-left: 1px solid gray;box-sizing: border-box;top: 2em;bottom: 0;left: 50%;}#sk-2bcce9ed-3fe8-4ec9-85e0-b6e172cbfb75 div.sk-serial {display: flex;flex-direction: column;align-items: center;background-color: white;}#sk-2bcce9ed-3fe8-4ec9-85e0-b6e172cbfb75 div.sk-item {z-index: 1;}#sk-2bcce9ed-3fe8-4ec9-85e0-b6e172cbfb75 div.sk-parallel {display: flex;align-items: stretch;justify-content: center;background-color: white;}#sk-2bcce9ed-3fe8-4ec9-85e0-b6e172cbfb75 div.sk-parallel-item {display: flex;flex-direction: column;position: relative;background-color: white;}#sk-2bcce9ed-3fe8-4ec9-85e0-b6e172cbfb75 div.sk-parallel-item:first-child::after {align-self: flex-end;width: 50%;}#sk-2bcce9ed-3fe8-4ec9-85e0-b6e172cbfb75 div.sk-parallel-item:last-child::after {align-self: flex-start;width: 50%;}#sk-2bcce9ed-3fe8-4ec9-85e0-b6e172cbfb75 div.sk-parallel-item:only-child::after {width: 0;}#sk-2bcce9ed-3fe8-4ec9-85e0-b6e172cbfb75 div.sk-dashed-wrapped {border: 1px dashed gray;margin: 0.2em;box-sizing: border-box;padding-bottom: 0.1em;background-color: white;position: relative;}#sk-2bcce9ed-3fe8-4ec9-85e0-b6e172cbfb75 div.sk-label label {font-family: monospace;font-weight: bold;background-color: white;display: inline-block;line-height: 1.2em;}#sk-2bcce9ed-3fe8-4ec9-85e0-b6e172cbfb75 div.sk-label-container {position: relative;z-index: 2;text-align: center;}#sk-2bcce9ed-3fe8-4ec9-85e0-b6e172cbfb75 div.sk-container {display: inline-block;position: relative;}</style><div id=\"sk-2bcce9ed-3fe8-4ec9-85e0-b6e172cbfb75\" class\"sk-top-container\"><div class=\"sk-container\"><div class=\"sk-item sk-dashed-wrapped\"><div class=\"sk-label-container\"><div class=\"sk-label sk-toggleable\"><input class=\"sk-toggleable__control sk-hidden--visually\" id=\"3b37ec9e-1e8d-49d5-8224-431f782ec54f\" type=\"checkbox\" ><label class=\"sk-toggleable__label\" for=\"3b37ec9e-1e8d-49d5-8224-431f782ec54f\">MelusinePipeline</label><div class=\"sk-toggleable__content\"><pre>MelusinePipeline(memory=False,\n",
       "                 steps=[('normalizer',\n",
       "                         Normalizer(input_columns=('text',),\n",
       "                                    output_columns=('text',))),\n",
       "                        ('text_flagger',\n",
       "                         DeterministicTextFlagger(input_columns=('text',),\n",
       "                                                  output_columns=('text',),\n",
       "                                                  text_flags={'\\\\d{10}': 'flag_phone'})),\n",
       "                        ('tokenizer',\n",
       "                         RegexTokenizer(input_columns=('text',),\n",
       "                                        output_columns=('tokens',),\n",
       "                                        stopwords={'le', 'les'})),\n",
       "                        ('token_flagger',\n",
       "                         FlashtextTokenFlagger(input_columns=('tokens',),\n",
       "                                               output_columns=('tokens',),\n",
       "                                               token_flags={'flag_name': ['joe',\n",
       "                                                                          'bob']}))],\n",
       "                 verbose=False)</pre></div></div></div><div class=\"sk-serial\"><div class=\"sk-item\"><div class=\"sk-estimator sk-toggleable\"><input class=\"sk-toggleable__control sk-hidden--visually\" id=\"51fc9f3f-9bc0-471c-8e0e-f9232a7ba7f9\" type=\"checkbox\" ><label class=\"sk-toggleable__label\" for=\"51fc9f3f-9bc0-471c-8e0e-f9232a7ba7f9\">Normalizer</label><div class=\"sk-toggleable__content\"><pre>Normalizer(input_columns=('text',), output_columns=('text',))</pre></div></div></div><div class=\"sk-item\"><div class=\"sk-estimator sk-toggleable\"><input class=\"sk-toggleable__control sk-hidden--visually\" id=\"482fb155-527d-4f11-852b-60100e332a75\" type=\"checkbox\" ><label class=\"sk-toggleable__label\" for=\"482fb155-527d-4f11-852b-60100e332a75\">DeterministicTextFlagger</label><div class=\"sk-toggleable__content\"><pre>DeterministicTextFlagger(input_columns=('text',), output_columns=('text',),\n",
       "                         text_flags={'\\\\d{10}': 'flag_phone'})</pre></div></div></div><div class=\"sk-item\"><div class=\"sk-estimator sk-toggleable\"><input class=\"sk-toggleable__control sk-hidden--visually\" id=\"c6f71efe-0bee-4794-a509-4560d6335288\" type=\"checkbox\" ><label class=\"sk-toggleable__label\" for=\"c6f71efe-0bee-4794-a509-4560d6335288\">RegexTokenizer</label><div class=\"sk-toggleable__content\"><pre>RegexTokenizer(input_columns=('text',), output_columns=('tokens',),\n",
       "               stopwords={'le', 'les'})</pre></div></div></div><div class=\"sk-item\"><div class=\"sk-estimator sk-toggleable\"><input class=\"sk-toggleable__control sk-hidden--visually\" id=\"1d78b284-7301-4ddc-ae67-a1ae64a2d277\" type=\"checkbox\" ><label class=\"sk-toggleable__label\" for=\"1d78b284-7301-4ddc-ae67-a1ae64a2d277\">FlashtextTokenFlagger</label><div class=\"sk-toggleable__content\"><pre>FlashtextTokenFlagger(input_columns=('tokens',), output_columns=('tokens',),\n",
       "                      token_flags={'flag_name': ['joe', 'bob']})</pre></div></div></div></div></div></div></div>"
      ],
      "text/plain": [
       "MelusinePipeline(memory=False,\n",
       "                 steps=[('normalizer',\n",
       "                         Normalizer(input_columns=('text',),\n",
       "                                    output_columns=('text',))),\n",
       "                        ('text_flagger',\n",
       "                         DeterministicTextFlagger(input_columns=('text',),\n",
       "                                                  output_columns=('text',),\n",
       "                                                  text_flags={'\\\\d{10}': 'flag_phone'})),\n",
       "                        ('tokenizer',\n",
       "                         RegexTokenizer(input_columns=('text',),\n",
       "                                        output_columns=('tokens',),\n",
       "                                        stopwords={'le', 'les'})),\n",
       "                        ('token_flagger',\n",
       "                         FlashtextTokenFlagger(input_columns=('tokens',),\n",
       "                                               output_columns=('tokens',),\n",
       "                                               token_flags={'flag_name': ['joe',\n",
       "                                                                          'bob']}))],\n",
       "                 verbose=False)"
      ]
     },
     "execution_count": 23,
     "metadata": {},
     "output_type": "execute_result"
    }
   ],
   "source": [
    "easy_pipe"
   ]
  },
  {
   "cell_type": "code",
   "execution_count": 24,
   "id": "02702c6c-c2fc-4b3b-b047-2de555f13ad1",
   "metadata": {},
   "outputs": [
    {
     "data": {
      "text/plain": [
       "['bonjour',\n",
       " 'je',\n",
       " 'suis',\n",
       " 'client',\n",
       " 'chez',\n",
       " 'vous',\n",
       " 'pouvez',\n",
       " 'vous',\n",
       " 'm',\n",
       " 'etablir',\n",
       " 'un',\n",
       " 'devis',\n",
       " 'pour',\n",
       " 'mon',\n",
       " 'fils',\n",
       " 'qui',\n",
       " 'souhaite',\n",
       " 'louer',\n",
       " 'lappartement',\n",
       " 'suivant',\n",
       " '25',\n",
       " 'rue',\n",
       " 'du',\n",
       " 'rueimaginaire',\n",
       " '77000',\n",
       " 'merci',\n",
       " 'envoye',\n",
       " 'de',\n",
       " 'mon',\n",
       " 'iphone']"
      ]
     },
     "execution_count": 24,
     "metadata": {},
     "output_type": "execute_result"
    }
   ],
   "source": [
    "df = load_email_data(type=\"full\")\n",
    "df[\"text\"] = df[\"body\"]\n",
    "df = easy_pipe.transform(df)\n",
    "df.iloc[0][\"tokens\"]"
   ]
  },
  {
   "cell_type": "code",
   "execution_count": 25,
   "id": "b8102cab-8e79-40af-8b6a-dcaac2d63c2d",
   "metadata": {},
   "outputs": [],
   "source": [
    "easy_pipe.save(\"my_easy_pipeline\")"
   ]
  },
  {
   "cell_type": "code",
   "execution_count": 26,
   "id": "d36c493b-de38-4327-96b9-cb44a5f88f81",
   "metadata": {},
   "outputs": [],
   "source": [
    "easy_pipe_reloaded = MelusinePipeline.load(\"my_easy_pipeline\")"
   ]
  },
  {
   "cell_type": "code",
   "execution_count": 27,
   "id": "e90ebca0-55fc-4bd8-92a3-370140bb662c",
   "metadata": {},
   "outputs": [
    {
     "data": {
      "text/plain": [
       "['bonjour',\n",
       " 'je',\n",
       " 'suis',\n",
       " 'client',\n",
       " 'chez',\n",
       " 'vous',\n",
       " 'pouvez',\n",
       " 'vous',\n",
       " 'm',\n",
       " 'etablir',\n",
       " 'un',\n",
       " 'devis',\n",
       " 'pour',\n",
       " 'mon',\n",
       " 'fils',\n",
       " 'qui',\n",
       " 'souhaite',\n",
       " 'louer',\n",
       " 'lappartement',\n",
       " 'suivant',\n",
       " '25',\n",
       " 'rue',\n",
       " 'du',\n",
       " 'rueimaginaire',\n",
       " '77000',\n",
       " 'merci',\n",
       " 'envoye',\n",
       " 'de',\n",
       " 'mon',\n",
       " 'iphone']"
      ]
     },
     "execution_count": 27,
     "metadata": {},
     "output_type": "execute_result"
    }
   ],
   "source": [
    "df = load_email_data(type=\"full\")\n",
    "df[\"text\"] = df[\"body\"]\n",
    "df = easy_pipe_reloaded.transform(df)\n",
    "df.iloc[0][\"tokens\"]"
   ]
  },
  {
   "cell_type": "markdown",
   "id": "c4daa5cd-9f8b-488b-b47f-093f285b542c",
   "metadata": {},
   "source": [
    "# Pipeline composition"
   ]
  },
  {
   "cell_type": "code",
   "execution_count": 28,
   "id": "4ede9233-53e2-4df5-b703-ef805a8f279c",
   "metadata": {},
   "outputs": [],
   "source": [
    "p1 = MelusinePipeline([\n",
    "        (\"normalizer\", n),\n",
    "        (\"text_flagger\", textf),\n",
    "        (\"text_flagger2\", textf2),\n",
    "        (\"tokenizer\", t),\n",
    "],\n",
    "    verbose=True\n",
    ")\n",
    "p2 = MelusinePipeline([\n",
    "        (\"lemmatizer\", d),\n",
    "        (\"stupid\", stupid),\n",
    "        (\"gensim_phraser\", gensim_phraser),\n",
    "        (\"token_flagger\", tokenf),\n",
    "],\n",
    "    verbose=True\n",
    ")"
   ]
  },
  {
   "cell_type": "code",
   "execution_count": 29,
   "id": "41438b65-cabe-4024-8aae-d33419e53e35",
   "metadata": {},
   "outputs": [],
   "source": [
    "p3 = MelusinePipeline([(\"text_pipe\", p1), (\"token_pipe\", p2)])"
   ]
  },
  {
   "cell_type": "code",
   "execution_count": 30,
   "id": "e30bf09d-c525-4ab2-ba2d-526724ae798a",
   "metadata": {},
   "outputs": [
    {
     "data": {
      "text/html": [
       "<div>\n",
       "<style scoped>\n",
       "    .dataframe tbody tr th:only-of-type {\n",
       "        vertical-align: middle;\n",
       "    }\n",
       "\n",
       "    .dataframe tbody tr th {\n",
       "        vertical-align: top;\n",
       "    }\n",
       "\n",
       "    .dataframe thead th {\n",
       "        text-align: right;\n",
       "    }\n",
       "</style>\n",
       "<table border=\"1\" class=\"dataframe\">\n",
       "  <thead>\n",
       "    <tr style=\"text-align: right;\">\n",
       "      <th></th>\n",
       "      <th>body</th>\n",
       "      <th>header</th>\n",
       "      <th>date</th>\n",
       "      <th>from</th>\n",
       "      <th>to</th>\n",
       "      <th>attachment</th>\n",
       "      <th>sexe</th>\n",
       "      <th>age</th>\n",
       "      <th>label</th>\n",
       "      <th>is_begin_by_transfer</th>\n",
       "      <th>...</th>\n",
       "      <th>min__49</th>\n",
       "      <th>min__52</th>\n",
       "      <th>min__54</th>\n",
       "      <th>min__56</th>\n",
       "      <th>min__58</th>\n",
       "      <th>attachment_type__0</th>\n",
       "      <th>attachment_type__1</th>\n",
       "      <th>text</th>\n",
       "      <th>tokens</th>\n",
       "      <th>stupid</th>\n",
       "    </tr>\n",
       "  </thead>\n",
       "  <tbody>\n",
       "    <tr>\n",
       "      <th>0</th>\n",
       "      <td>\\n  \\n  \\n  \\n Bonjour \\n Je suis client chez...</td>\n",
       "      <td>Devis habitation</td>\n",
       "      <td>2018-05-24 11:36:00</td>\n",
       "      <td>Dupont &lt;monsieurdupont@extensiona.com&gt;</td>\n",
       "      <td>conseiller@Societeimaginaire.fr</td>\n",
       "      <td>[]</td>\n",
       "      <td>F</td>\n",
       "      <td>35</td>\n",
       "      <td>habitation</td>\n",
       "      <td>True</td>\n",
       "      <td>...</td>\n",
       "      <td>0</td>\n",
       "      <td>0</td>\n",
       "      <td>0</td>\n",
       "      <td>0</td>\n",
       "      <td>0</td>\n",
       "      <td>0</td>\n",
       "      <td>1</td>\n",
       "      <td>\\n  \\n  \\n  \\n bonjour \\n JE suis client chez...</td>\n",
       "      <td>[bonjour_JE, sui, client, chez, vou, pouvez, v...</td>\n",
       "      <td>True</td>\n",
       "    </tr>\n",
       "    <tr>\n",
       "      <th>1</th>\n",
       "      <td>\\n  \\n  \\n  \\n Bonsoir madame, \\n  \\n Je vous...</td>\n",
       "      <td>Immatriculation voiture</td>\n",
       "      <td>2018-05-24 19:37:00</td>\n",
       "      <td>Dupont &lt;monsieurdupont@extensiona.com&gt;</td>\n",
       "      <td>conseiller@Societeimaginaire.fr</td>\n",
       "      <td>[\"pj.pdf\"]</td>\n",
       "      <td>M</td>\n",
       "      <td>32</td>\n",
       "      <td>vehicule</td>\n",
       "      <td>True</td>\n",
       "      <td>...</td>\n",
       "      <td>0</td>\n",
       "      <td>0</td>\n",
       "      <td>0</td>\n",
       "      <td>0</td>\n",
       "      <td>0</td>\n",
       "      <td>1</td>\n",
       "      <td>0</td>\n",
       "      <td>\\n  \\n  \\n  \\n bonsoir madame, \\n  \\n JE vous...</td>\n",
       "      <td>[bonsoir, madame_JE, vou, informe, que, la_nou...</td>\n",
       "      <td>True</td>\n",
       "    </tr>\n",
       "  </tbody>\n",
       "</table>\n",
       "<p>2 rows × 86 columns</p>\n",
       "</div>"
      ],
      "text/plain": [
       "                                                body                   header  \\\n",
       "0   \\n  \\n  \\n  \\n Bonjour \\n Je suis client chez...         Devis habitation   \n",
       "1   \\n  \\n  \\n  \\n Bonsoir madame, \\n  \\n Je vous...  Immatriculation voiture   \n",
       "\n",
       "                  date                                    from  \\\n",
       "0  2018-05-24 11:36:00  Dupont <monsieurdupont@extensiona.com>   \n",
       "1  2018-05-24 19:37:00  Dupont <monsieurdupont@extensiona.com>   \n",
       "\n",
       "                                to  attachment sexe  age       label  \\\n",
       "0  conseiller@Societeimaginaire.fr          []    F   35  habitation   \n",
       "1  conseiller@Societeimaginaire.fr  [\"pj.pdf\"]    M   32    vehicule   \n",
       "\n",
       "   is_begin_by_transfer  ...  min__49  min__52 min__54 min__56 min__58  \\\n",
       "0                  True  ...        0        0       0       0       0   \n",
       "1                  True  ...        0        0       0       0       0   \n",
       "\n",
       "  attachment_type__0 attachment_type__1  \\\n",
       "0                  0                  1   \n",
       "1                  1                  0   \n",
       "\n",
       "                                                text  \\\n",
       "0   \\n  \\n  \\n  \\n bonjour \\n JE suis client chez...   \n",
       "1   \\n  \\n  \\n  \\n bonsoir madame, \\n  \\n JE vous...   \n",
       "\n",
       "                                              tokens  stupid  \n",
       "0  [bonjour_JE, sui, client, chez, vou, pouvez, v...    True  \n",
       "1  [bonsoir, madame_JE, vou, informe, que, la_nou...    True  \n",
       "\n",
       "[2 rows x 86 columns]"
      ]
     },
     "execution_count": 30,
     "metadata": {},
     "output_type": "execute_result"
    }
   ],
   "source": [
    "p3.transform(df).head(2)"
   ]
  },
  {
   "cell_type": "code",
   "execution_count": 31,
   "id": "f67e16a9-f9bc-4274-95e5-d30dd25ef98a",
   "metadata": {},
   "outputs": [
    {
     "data": {
      "text/html": [
       "<style>#sk-dcc20603-1686-421c-aaa7-c378ef83c2cf {color: black;background-color: white;}#sk-dcc20603-1686-421c-aaa7-c378ef83c2cf pre{padding: 0;}#sk-dcc20603-1686-421c-aaa7-c378ef83c2cf div.sk-toggleable {background-color: white;}#sk-dcc20603-1686-421c-aaa7-c378ef83c2cf label.sk-toggleable__label {cursor: pointer;display: block;width: 100%;margin-bottom: 0;padding: 0.2em 0.3em;box-sizing: border-box;text-align: center;}#sk-dcc20603-1686-421c-aaa7-c378ef83c2cf div.sk-toggleable__content {max-height: 0;max-width: 0;overflow: hidden;text-align: left;background-color: #f0f8ff;}#sk-dcc20603-1686-421c-aaa7-c378ef83c2cf div.sk-toggleable__content pre {margin: 0.2em;color: black;border-radius: 0.25em;background-color: #f0f8ff;}#sk-dcc20603-1686-421c-aaa7-c378ef83c2cf input.sk-toggleable__control:checked~div.sk-toggleable__content {max-height: 200px;max-width: 100%;overflow: auto;}#sk-dcc20603-1686-421c-aaa7-c378ef83c2cf div.sk-estimator input.sk-toggleable__control:checked~label.sk-toggleable__label {background-color: #d4ebff;}#sk-dcc20603-1686-421c-aaa7-c378ef83c2cf div.sk-label input.sk-toggleable__control:checked~label.sk-toggleable__label {background-color: #d4ebff;}#sk-dcc20603-1686-421c-aaa7-c378ef83c2cf input.sk-hidden--visually {border: 0;clip: rect(1px 1px 1px 1px);clip: rect(1px, 1px, 1px, 1px);height: 1px;margin: -1px;overflow: hidden;padding: 0;position: absolute;width: 1px;}#sk-dcc20603-1686-421c-aaa7-c378ef83c2cf div.sk-estimator {font-family: monospace;background-color: #f0f8ff;margin: 0.25em 0.25em;border: 1px dotted black;border-radius: 0.25em;box-sizing: border-box;}#sk-dcc20603-1686-421c-aaa7-c378ef83c2cf div.sk-estimator:hover {background-color: #d4ebff;}#sk-dcc20603-1686-421c-aaa7-c378ef83c2cf div.sk-parallel-item::after {content: \"\";width: 100%;border-bottom: 1px solid gray;flex-grow: 1;}#sk-dcc20603-1686-421c-aaa7-c378ef83c2cf div.sk-label:hover label.sk-toggleable__label {background-color: #d4ebff;}#sk-dcc20603-1686-421c-aaa7-c378ef83c2cf div.sk-serial::before {content: \"\";position: absolute;border-left: 1px solid gray;box-sizing: border-box;top: 2em;bottom: 0;left: 50%;}#sk-dcc20603-1686-421c-aaa7-c378ef83c2cf div.sk-serial {display: flex;flex-direction: column;align-items: center;background-color: white;}#sk-dcc20603-1686-421c-aaa7-c378ef83c2cf div.sk-item {z-index: 1;}#sk-dcc20603-1686-421c-aaa7-c378ef83c2cf div.sk-parallel {display: flex;align-items: stretch;justify-content: center;background-color: white;}#sk-dcc20603-1686-421c-aaa7-c378ef83c2cf div.sk-parallel-item {display: flex;flex-direction: column;position: relative;background-color: white;}#sk-dcc20603-1686-421c-aaa7-c378ef83c2cf div.sk-parallel-item:first-child::after {align-self: flex-end;width: 50%;}#sk-dcc20603-1686-421c-aaa7-c378ef83c2cf div.sk-parallel-item:last-child::after {align-self: flex-start;width: 50%;}#sk-dcc20603-1686-421c-aaa7-c378ef83c2cf div.sk-parallel-item:only-child::after {width: 0;}#sk-dcc20603-1686-421c-aaa7-c378ef83c2cf div.sk-dashed-wrapped {border: 1px dashed gray;margin: 0.2em;box-sizing: border-box;padding-bottom: 0.1em;background-color: white;position: relative;}#sk-dcc20603-1686-421c-aaa7-c378ef83c2cf div.sk-label label {font-family: monospace;font-weight: bold;background-color: white;display: inline-block;line-height: 1.2em;}#sk-dcc20603-1686-421c-aaa7-c378ef83c2cf div.sk-label-container {position: relative;z-index: 2;text-align: center;}#sk-dcc20603-1686-421c-aaa7-c378ef83c2cf div.sk-container {display: inline-block;position: relative;}</style><div id=\"sk-dcc20603-1686-421c-aaa7-c378ef83c2cf\" class\"sk-top-container\"><div class=\"sk-container\"><div class=\"sk-item sk-dashed-wrapped\"><div class=\"sk-label-container\"><div class=\"sk-label sk-toggleable\"><input class=\"sk-toggleable__control sk-hidden--visually\" id=\"1319f7e3-9695-4537-9973-ea0767fcfa26\" type=\"checkbox\" ><label class=\"sk-toggleable__label\" for=\"1319f7e3-9695-4537-9973-ea0767fcfa26\">MelusinePipeline</label><div class=\"sk-toggleable__content\"><pre>MelusinePipeline(steps=[('text_pipe',\n",
       "                         MelusinePipeline(steps=[('normalizer',\n",
       "                                                  Normalizer(input_columns=('text',),\n",
       "                                                             output_columns=('text',))),\n",
       "                                                 ('text_flagger',\n",
       "                                                  DeterministicTextFlagger(input_columns=('text',),\n",
       "                                                                           output_columns=('text',),\n",
       "                                                                           text_flags={'\\\\d{10}': 'flag_phone'})),\n",
       "                                                 ('text_flagger2',\n",
       "                                                  DeterministicTextFlagger(input_columns=('text',),\n",
       "                                                                           output_columns=('te...\n",
       "                         MelusinePipeline(steps=[('lemmatizer',\n",
       "                                                  DummyLemmatizer(input_columns=('tokens',),\n",
       "                                                                  output_columns=('tokens',))),\n",
       "                                                 ('stupid', Stupid()),\n",
       "                                                 ('gensim_phraser',\n",
       "                                                  Phraser(input_columns=['tokens'],\n",
       "                                                          output_columns=['tokens'])),\n",
       "                                                 ('token_flagger',\n",
       "                                                  FlashtextTokenFlagger(input_columns=('tokens',),\n",
       "                                                                        output_columns=('tokens',),\n",
       "                                                                        token_flags={'flag_name': ['joe',\n",
       "                                                                                                   'bob']}))],\n",
       "                                          verbose=True))])</pre></div></div></div><div class=\"sk-serial\"><div class=\"sk-item\"><div class=\"sk-label-container\"><div class=\"sk-label sk-toggleable\"><input class=\"sk-toggleable__control sk-hidden--visually\" id=\"647f7b06-8aea-415b-b988-1f771cdbe94d\" type=\"checkbox\" ><label class=\"sk-toggleable__label\" for=\"647f7b06-8aea-415b-b988-1f771cdbe94d\">text_pipe: MelusinePipeline</label><div class=\"sk-toggleable__content\"><pre>MelusinePipeline(steps=[('normalizer',\n",
       "                         Normalizer(input_columns=('text',),\n",
       "                                    output_columns=('text',))),\n",
       "                        ('text_flagger',\n",
       "                         DeterministicTextFlagger(input_columns=('text',),\n",
       "                                                  output_columns=('text',),\n",
       "                                                  text_flags={'\\\\d{10}': 'flag_phone'})),\n",
       "                        ('text_flagger2',\n",
       "                         DeterministicTextFlagger(input_columns=('text',),\n",
       "                                                  output_columns=('text',),\n",
       "                                                  text_flags={'je': 'JE'})),\n",
       "                        ('tokenizer',\n",
       "                         RegexTokenizer(input_columns=('text',),\n",
       "                                        output_columns=('tokens',),\n",
       "                                        stopwords={'le', 'les'}))],\n",
       "                 verbose=True)</pre></div></div></div><div class=\"sk-serial\"><div class=\"sk-item\"><div class=\"sk-estimator sk-toggleable\"><input class=\"sk-toggleable__control sk-hidden--visually\" id=\"07cc49ab-c36f-4273-adbf-51003497273a\" type=\"checkbox\" ><label class=\"sk-toggleable__label\" for=\"07cc49ab-c36f-4273-adbf-51003497273a\">Normalizer</label><div class=\"sk-toggleable__content\"><pre>Normalizer(input_columns=('text',), output_columns=('text',))</pre></div></div></div><div class=\"sk-item\"><div class=\"sk-estimator sk-toggleable\"><input class=\"sk-toggleable__control sk-hidden--visually\" id=\"68414ee9-b904-465d-bd74-70b5899218df\" type=\"checkbox\" ><label class=\"sk-toggleable__label\" for=\"68414ee9-b904-465d-bd74-70b5899218df\">DeterministicTextFlagger</label><div class=\"sk-toggleable__content\"><pre>DeterministicTextFlagger(input_columns=('text',), output_columns=('text',),\n",
       "                         text_flags={'\\\\d{10}': 'flag_phone'})</pre></div></div></div><div class=\"sk-item\"><div class=\"sk-estimator sk-toggleable\"><input class=\"sk-toggleable__control sk-hidden--visually\" id=\"786f0960-23d7-4894-97b2-356317070c5a\" type=\"checkbox\" ><label class=\"sk-toggleable__label\" for=\"786f0960-23d7-4894-97b2-356317070c5a\">DeterministicTextFlagger</label><div class=\"sk-toggleable__content\"><pre>DeterministicTextFlagger(input_columns=('text',), output_columns=('text',),\n",
       "                         text_flags={'je': 'JE'})</pre></div></div></div><div class=\"sk-item\"><div class=\"sk-estimator sk-toggleable\"><input class=\"sk-toggleable__control sk-hidden--visually\" id=\"d4f404b2-f59e-4695-86ad-ae5288da5900\" type=\"checkbox\" ><label class=\"sk-toggleable__label\" for=\"d4f404b2-f59e-4695-86ad-ae5288da5900\">RegexTokenizer</label><div class=\"sk-toggleable__content\"><pre>RegexTokenizer(input_columns=('text',), output_columns=('tokens',),\n",
       "               stopwords={'le', 'les'})</pre></div></div></div></div></div><div class=\"sk-item\"><div class=\"sk-label-container\"><div class=\"sk-label sk-toggleable\"><input class=\"sk-toggleable__control sk-hidden--visually\" id=\"1c3fc689-b70d-44fb-a706-b37eb175c458\" type=\"checkbox\" ><label class=\"sk-toggleable__label\" for=\"1c3fc689-b70d-44fb-a706-b37eb175c458\">token_pipe: MelusinePipeline</label><div class=\"sk-toggleable__content\"><pre>MelusinePipeline(steps=[('lemmatizer',\n",
       "                         DummyLemmatizer(input_columns=('tokens',),\n",
       "                                         output_columns=('tokens',))),\n",
       "                        ('stupid', Stupid()),\n",
       "                        ('gensim_phraser',\n",
       "                         Phraser(input_columns=['tokens'],\n",
       "                                 output_columns=['tokens'])),\n",
       "                        ('token_flagger',\n",
       "                         FlashtextTokenFlagger(input_columns=('tokens',),\n",
       "                                               output_columns=('tokens',),\n",
       "                                               token_flags={'flag_name': ['joe',\n",
       "                                                                          'bob']}))],\n",
       "                 verbose=True)</pre></div></div></div><div class=\"sk-serial\"><div class=\"sk-item\"><div class=\"sk-estimator sk-toggleable\"><input class=\"sk-toggleable__control sk-hidden--visually\" id=\"131c80de-d6e7-4d04-bd26-4475db25d141\" type=\"checkbox\" ><label class=\"sk-toggleable__label\" for=\"131c80de-d6e7-4d04-bd26-4475db25d141\">DummyLemmatizer</label><div class=\"sk-toggleable__content\"><pre>DummyLemmatizer(input_columns=('tokens',), output_columns=('tokens',))</pre></div></div></div><div class=\"sk-item\"><div class=\"sk-estimator sk-toggleable\"><input class=\"sk-toggleable__control sk-hidden--visually\" id=\"f4fe56f0-5324-47bb-b4db-294e2e63007c\" type=\"checkbox\" ><label class=\"sk-toggleable__label\" for=\"f4fe56f0-5324-47bb-b4db-294e2e63007c\">Stupid</label><div class=\"sk-toggleable__content\"><pre>Stupid()</pre></div></div></div><div class=\"sk-item\"><div class=\"sk-estimator sk-toggleable\"><input class=\"sk-toggleable__control sk-hidden--visually\" id=\"0643b3fd-6238-4405-af27-bbce924fcf19\" type=\"checkbox\" ><label class=\"sk-toggleable__label\" for=\"0643b3fd-6238-4405-af27-bbce924fcf19\">Phraser</label><div class=\"sk-toggleable__content\"><pre>Phraser(input_columns=['tokens'], output_columns=['tokens'])</pre></div></div></div><div class=\"sk-item\"><div class=\"sk-estimator sk-toggleable\"><input class=\"sk-toggleable__control sk-hidden--visually\" id=\"b5ddf975-fe46-4343-a3f2-32c088126419\" type=\"checkbox\" ><label class=\"sk-toggleable__label\" for=\"b5ddf975-fe46-4343-a3f2-32c088126419\">FlashtextTokenFlagger</label><div class=\"sk-toggleable__content\"><pre>FlashtextTokenFlagger(input_columns=('tokens',), output_columns=('tokens',),\n",
       "                      token_flags={'flag_name': ['joe', 'bob']})</pre></div></div></div></div></div></div></div></div></div>"
      ],
      "text/plain": [
       "MelusinePipeline(steps=[('text_pipe',\n",
       "                         MelusinePipeline(steps=[('normalizer',\n",
       "                                                  Normalizer(input_columns=('text',),\n",
       "                                                             output_columns=('text',))),\n",
       "                                                 ('text_flagger',\n",
       "                                                  DeterministicTextFlagger(input_columns=('text',),\n",
       "                                                                           output_columns=('text',),\n",
       "                                                                           text_flags={'\\\\d{10}': 'flag_phone'})),\n",
       "                                                 ('text_flagger2',\n",
       "                                                  DeterministicTextFlagger(input_columns=('text',),\n",
       "                                                                           output_columns=('te...\n",
       "                         MelusinePipeline(steps=[('lemmatizer',\n",
       "                                                  DummyLemmatizer(input_columns=('tokens',),\n",
       "                                                                  output_columns=('tokens',))),\n",
       "                                                 ('stupid', Stupid()),\n",
       "                                                 ('gensim_phraser',\n",
       "                                                  Phraser(input_columns=['tokens'],\n",
       "                                                          output_columns=['tokens'])),\n",
       "                                                 ('token_flagger',\n",
       "                                                  FlashtextTokenFlagger(input_columns=('tokens',),\n",
       "                                                                        output_columns=('tokens',),\n",
       "                                                                        token_flags={'flag_name': ['joe',\n",
       "                                                                                                   'bob']}))],\n",
       "                                          verbose=True))])"
      ]
     },
     "execution_count": 31,
     "metadata": {},
     "output_type": "execute_result"
    }
   ],
   "source": [
    "p3"
   ]
  },
  {
   "cell_type": "code",
   "execution_count": 32,
   "id": "6fd74854-05aa-4a4a-9cf5-e14e7ca18116",
   "metadata": {},
   "outputs": [],
   "source": [
    "p3.save(\"pipeline_compo\")"
   ]
  },
  {
   "cell_type": "code",
   "execution_count": 33,
   "id": "b68c2250-1bb9-4f15-ba20-aac23e460e1b",
   "metadata": {},
   "outputs": [
    {
     "data": {
      "text/html": [
       "<style>#sk-a73e1ea4-bca9-4a90-8ced-11759f655108 {color: black;background-color: white;}#sk-a73e1ea4-bca9-4a90-8ced-11759f655108 pre{padding: 0;}#sk-a73e1ea4-bca9-4a90-8ced-11759f655108 div.sk-toggleable {background-color: white;}#sk-a73e1ea4-bca9-4a90-8ced-11759f655108 label.sk-toggleable__label {cursor: pointer;display: block;width: 100%;margin-bottom: 0;padding: 0.2em 0.3em;box-sizing: border-box;text-align: center;}#sk-a73e1ea4-bca9-4a90-8ced-11759f655108 div.sk-toggleable__content {max-height: 0;max-width: 0;overflow: hidden;text-align: left;background-color: #f0f8ff;}#sk-a73e1ea4-bca9-4a90-8ced-11759f655108 div.sk-toggleable__content pre {margin: 0.2em;color: black;border-radius: 0.25em;background-color: #f0f8ff;}#sk-a73e1ea4-bca9-4a90-8ced-11759f655108 input.sk-toggleable__control:checked~div.sk-toggleable__content {max-height: 200px;max-width: 100%;overflow: auto;}#sk-a73e1ea4-bca9-4a90-8ced-11759f655108 div.sk-estimator input.sk-toggleable__control:checked~label.sk-toggleable__label {background-color: #d4ebff;}#sk-a73e1ea4-bca9-4a90-8ced-11759f655108 div.sk-label input.sk-toggleable__control:checked~label.sk-toggleable__label {background-color: #d4ebff;}#sk-a73e1ea4-bca9-4a90-8ced-11759f655108 input.sk-hidden--visually {border: 0;clip: rect(1px 1px 1px 1px);clip: rect(1px, 1px, 1px, 1px);height: 1px;margin: -1px;overflow: hidden;padding: 0;position: absolute;width: 1px;}#sk-a73e1ea4-bca9-4a90-8ced-11759f655108 div.sk-estimator {font-family: monospace;background-color: #f0f8ff;margin: 0.25em 0.25em;border: 1px dotted black;border-radius: 0.25em;box-sizing: border-box;}#sk-a73e1ea4-bca9-4a90-8ced-11759f655108 div.sk-estimator:hover {background-color: #d4ebff;}#sk-a73e1ea4-bca9-4a90-8ced-11759f655108 div.sk-parallel-item::after {content: \"\";width: 100%;border-bottom: 1px solid gray;flex-grow: 1;}#sk-a73e1ea4-bca9-4a90-8ced-11759f655108 div.sk-label:hover label.sk-toggleable__label {background-color: #d4ebff;}#sk-a73e1ea4-bca9-4a90-8ced-11759f655108 div.sk-serial::before {content: \"\";position: absolute;border-left: 1px solid gray;box-sizing: border-box;top: 2em;bottom: 0;left: 50%;}#sk-a73e1ea4-bca9-4a90-8ced-11759f655108 div.sk-serial {display: flex;flex-direction: column;align-items: center;background-color: white;}#sk-a73e1ea4-bca9-4a90-8ced-11759f655108 div.sk-item {z-index: 1;}#sk-a73e1ea4-bca9-4a90-8ced-11759f655108 div.sk-parallel {display: flex;align-items: stretch;justify-content: center;background-color: white;}#sk-a73e1ea4-bca9-4a90-8ced-11759f655108 div.sk-parallel-item {display: flex;flex-direction: column;position: relative;background-color: white;}#sk-a73e1ea4-bca9-4a90-8ced-11759f655108 div.sk-parallel-item:first-child::after {align-self: flex-end;width: 50%;}#sk-a73e1ea4-bca9-4a90-8ced-11759f655108 div.sk-parallel-item:last-child::after {align-self: flex-start;width: 50%;}#sk-a73e1ea4-bca9-4a90-8ced-11759f655108 div.sk-parallel-item:only-child::after {width: 0;}#sk-a73e1ea4-bca9-4a90-8ced-11759f655108 div.sk-dashed-wrapped {border: 1px dashed gray;margin: 0.2em;box-sizing: border-box;padding-bottom: 0.1em;background-color: white;position: relative;}#sk-a73e1ea4-bca9-4a90-8ced-11759f655108 div.sk-label label {font-family: monospace;font-weight: bold;background-color: white;display: inline-block;line-height: 1.2em;}#sk-a73e1ea4-bca9-4a90-8ced-11759f655108 div.sk-label-container {position: relative;z-index: 2;text-align: center;}#sk-a73e1ea4-bca9-4a90-8ced-11759f655108 div.sk-container {display: inline-block;position: relative;}</style><div id=\"sk-a73e1ea4-bca9-4a90-8ced-11759f655108\" class\"sk-top-container\"><div class=\"sk-container\"><div class=\"sk-item sk-dashed-wrapped\"><div class=\"sk-label-container\"><div class=\"sk-label sk-toggleable\"><input class=\"sk-toggleable__control sk-hidden--visually\" id=\"6823ec94-b585-4dfe-9065-cd82b883b1be\" type=\"checkbox\" ><label class=\"sk-toggleable__label\" for=\"6823ec94-b585-4dfe-9065-cd82b883b1be\">MelusinePipeline</label><div class=\"sk-toggleable__content\"><pre>MelusinePipeline(steps=[('text_pipe',\n",
       "                         MelusinePipeline(steps=[('normalizer',\n",
       "                                                  Normalizer(input_columns=['text'],\n",
       "                                                             output_columns=['text'])),\n",
       "                                                 ('text_flagger',\n",
       "                                                  DeterministicTextFlagger(input_columns=['text'],\n",
       "                                                                           output_columns=['text'],\n",
       "                                                                           text_flags={'\\\\d{10}': 'flag_phone'})),\n",
       "                                                 ('text_flagger2',\n",
       "                                                  DeterministicTextFlagger(input_columns=['text'],\n",
       "                                                                           output_columns=['text'],...\n",
       "                                                  DummyLemmatizer(input_columns=('tokens',),\n",
       "                                                                  output_columns=('tokens',))),\n",
       "                                                 ('stupid', Stupid()),\n",
       "                                                 ('gensim_phraser',\n",
       "                                                  Phraser(input_columns=['tokens'],\n",
       "                                                          output_columns=['tokens'])),\n",
       "                                                 ('token_flagger',\n",
       "                                                  FlashtextTokenFlagger(flashtext_separators=['-',\n",
       "                                                                                              '_',\n",
       "                                                                                              '/'],\n",
       "                                                                        input_columns=['tokens'],\n",
       "                                                                        output_columns=['tokens'],\n",
       "                                                                        token_flags={'flag_name': ['joe',\n",
       "                                                                                                   'bob']}))],\n",
       "                                          verbose=True))])</pre></div></div></div><div class=\"sk-serial\"><div class=\"sk-item\"><div class=\"sk-label-container\"><div class=\"sk-label sk-toggleable\"><input class=\"sk-toggleable__control sk-hidden--visually\" id=\"b0620233-b33e-4c58-9de2-e958b7662aa8\" type=\"checkbox\" ><label class=\"sk-toggleable__label\" for=\"b0620233-b33e-4c58-9de2-e958b7662aa8\">text_pipe: MelusinePipeline</label><div class=\"sk-toggleable__content\"><pre>MelusinePipeline(steps=[('normalizer',\n",
       "                         Normalizer(input_columns=['text'],\n",
       "                                    output_columns=['text'])),\n",
       "                        ('text_flagger',\n",
       "                         DeterministicTextFlagger(input_columns=['text'],\n",
       "                                                  output_columns=['text'],\n",
       "                                                  text_flags={'\\\\d{10}': 'flag_phone'})),\n",
       "                        ('text_flagger2',\n",
       "                         DeterministicTextFlagger(input_columns=['text'],\n",
       "                                                  output_columns=['text'],\n",
       "                                                  text_flags={'je': 'JE'})),\n",
       "                        ('tokenizer',\n",
       "                         RegexTokenizer(input_columns=['text'],\n",
       "                                        output_columns=['tokens'],\n",
       "                                        stopwords={'le', 'les'}))],\n",
       "                 verbose=True)</pre></div></div></div><div class=\"sk-serial\"><div class=\"sk-item\"><div class=\"sk-estimator sk-toggleable\"><input class=\"sk-toggleable__control sk-hidden--visually\" id=\"3431ade1-3e8c-4607-a0be-6e212a27db19\" type=\"checkbox\" ><label class=\"sk-toggleable__label\" for=\"3431ade1-3e8c-4607-a0be-6e212a27db19\">Normalizer</label><div class=\"sk-toggleable__content\"><pre>Normalizer(input_columns=['text'], output_columns=['text'])</pre></div></div></div><div class=\"sk-item\"><div class=\"sk-estimator sk-toggleable\"><input class=\"sk-toggleable__control sk-hidden--visually\" id=\"04cd50f6-98fb-42e3-bb27-fde7ab54d76c\" type=\"checkbox\" ><label class=\"sk-toggleable__label\" for=\"04cd50f6-98fb-42e3-bb27-fde7ab54d76c\">DeterministicTextFlagger</label><div class=\"sk-toggleable__content\"><pre>DeterministicTextFlagger(input_columns=['text'], output_columns=['text'],\n",
       "                         text_flags={'\\\\d{10}': 'flag_phone'})</pre></div></div></div><div class=\"sk-item\"><div class=\"sk-estimator sk-toggleable\"><input class=\"sk-toggleable__control sk-hidden--visually\" id=\"a4efad74-b51a-44b2-aaf0-384803a383e3\" type=\"checkbox\" ><label class=\"sk-toggleable__label\" for=\"a4efad74-b51a-44b2-aaf0-384803a383e3\">DeterministicTextFlagger</label><div class=\"sk-toggleable__content\"><pre>DeterministicTextFlagger(input_columns=['text'], output_columns=['text'],\n",
       "                         text_flags={'je': 'JE'})</pre></div></div></div><div class=\"sk-item\"><div class=\"sk-estimator sk-toggleable\"><input class=\"sk-toggleable__control sk-hidden--visually\" id=\"ddeaa517-0d17-4a82-9355-258e5f394416\" type=\"checkbox\" ><label class=\"sk-toggleable__label\" for=\"ddeaa517-0d17-4a82-9355-258e5f394416\">RegexTokenizer</label><div class=\"sk-toggleable__content\"><pre>RegexTokenizer(input_columns=['text'], output_columns=['tokens'],\n",
       "               stopwords={'le', 'les'})</pre></div></div></div></div></div><div class=\"sk-item\"><div class=\"sk-label-container\"><div class=\"sk-label sk-toggleable\"><input class=\"sk-toggleable__control sk-hidden--visually\" id=\"d006ba98-b0f0-4020-a1ed-69b5f5188ef8\" type=\"checkbox\" ><label class=\"sk-toggleable__label\" for=\"d006ba98-b0f0-4020-a1ed-69b5f5188ef8\">token_pipe: MelusinePipeline</label><div class=\"sk-toggleable__content\"><pre>MelusinePipeline(steps=[('lemmatizer',\n",
       "                         DummyLemmatizer(input_columns=('tokens',),\n",
       "                                         output_columns=('tokens',))),\n",
       "                        ('stupid', Stupid()),\n",
       "                        ('gensim_phraser',\n",
       "                         Phraser(input_columns=['tokens'],\n",
       "                                 output_columns=['tokens'])),\n",
       "                        ('token_flagger',\n",
       "                         FlashtextTokenFlagger(flashtext_separators=['-', '_',\n",
       "                                                                     '/'],\n",
       "                                               input_columns=['tokens'],\n",
       "                                               output_columns=['tokens'],\n",
       "                                               token_flags={'flag_name': ['joe',\n",
       "                                                                          'bob']}))],\n",
       "                 verbose=True)</pre></div></div></div><div class=\"sk-serial\"><div class=\"sk-item\"><div class=\"sk-estimator sk-toggleable\"><input class=\"sk-toggleable__control sk-hidden--visually\" id=\"2feade51-a078-493b-9dc2-4476ece4b0dd\" type=\"checkbox\" ><label class=\"sk-toggleable__label\" for=\"2feade51-a078-493b-9dc2-4476ece4b0dd\">DummyLemmatizer</label><div class=\"sk-toggleable__content\"><pre>DummyLemmatizer(input_columns=('tokens',), output_columns=('tokens',))</pre></div></div></div><div class=\"sk-item\"><div class=\"sk-estimator sk-toggleable\"><input class=\"sk-toggleable__control sk-hidden--visually\" id=\"94e3d42e-9bdc-488a-828f-887ca49bebdf\" type=\"checkbox\" ><label class=\"sk-toggleable__label\" for=\"94e3d42e-9bdc-488a-828f-887ca49bebdf\">Stupid</label><div class=\"sk-toggleable__content\"><pre>Stupid()</pre></div></div></div><div class=\"sk-item\"><div class=\"sk-estimator sk-toggleable\"><input class=\"sk-toggleable__control sk-hidden--visually\" id=\"52d874b0-4c88-419d-9a13-311aa537a9f3\" type=\"checkbox\" ><label class=\"sk-toggleable__label\" for=\"52d874b0-4c88-419d-9a13-311aa537a9f3\">Phraser</label><div class=\"sk-toggleable__content\"><pre>Phraser(input_columns=['tokens'], output_columns=['tokens'])</pre></div></div></div><div class=\"sk-item\"><div class=\"sk-estimator sk-toggleable\"><input class=\"sk-toggleable__control sk-hidden--visually\" id=\"c4c55ff1-81f7-482c-af5b-af1424a0afa7\" type=\"checkbox\" ><label class=\"sk-toggleable__label\" for=\"c4c55ff1-81f7-482c-af5b-af1424a0afa7\">FlashtextTokenFlagger</label><div class=\"sk-toggleable__content\"><pre>FlashtextTokenFlagger(flashtext_separators=['-', '_', '/'],\n",
       "                      input_columns=['tokens'], output_columns=['tokens'],\n",
       "                      token_flags={'flag_name': ['joe', 'bob']})</pre></div></div></div></div></div></div></div></div></div>"
      ],
      "text/plain": [
       "MelusinePipeline(steps=[('text_pipe',\n",
       "                         MelusinePipeline(steps=[('normalizer',\n",
       "                                                  Normalizer(input_columns=['text'],\n",
       "                                                             output_columns=['text'])),\n",
       "                                                 ('text_flagger',\n",
       "                                                  DeterministicTextFlagger(input_columns=['text'],\n",
       "                                                                           output_columns=['text'],\n",
       "                                                                           text_flags={'\\\\d{10}': 'flag_phone'})),\n",
       "                                                 ('text_flagger2',\n",
       "                                                  DeterministicTextFlagger(input_columns=['text'],\n",
       "                                                                           output_columns=['text'],...\n",
       "                                                  DummyLemmatizer(input_columns=('tokens',),\n",
       "                                                                  output_columns=('tokens',))),\n",
       "                                                 ('stupid', Stupid()),\n",
       "                                                 ('gensim_phraser',\n",
       "                                                  Phraser(input_columns=['tokens'],\n",
       "                                                          output_columns=['tokens'])),\n",
       "                                                 ('token_flagger',\n",
       "                                                  FlashtextTokenFlagger(flashtext_separators=['-',\n",
       "                                                                                              '_',\n",
       "                                                                                              '/'],\n",
       "                                                                        input_columns=['tokens'],\n",
       "                                                                        output_columns=['tokens'],\n",
       "                                                                        token_flags={'flag_name': ['joe',\n",
       "                                                                                                   'bob']}))],\n",
       "                                          verbose=True))])"
      ]
     },
     "execution_count": 33,
     "metadata": {},
     "output_type": "execute_result"
    }
   ],
   "source": [
    "p3_reloaded = MelusinePipeline.load(\"pipeline_compo\")\n",
    "p3_reloaded"
   ]
  },
  {
   "cell_type": "code",
   "execution_count": 34,
   "id": "33a60926-4d0a-41a6-b4fb-7014e61f2b63",
   "metadata": {},
   "outputs": [
    {
     "name": "stdout",
     "output_type": "stream",
     "text": [
      "True\n"
     ]
    },
    {
     "data": {
      "text/plain": [
       "['bonjour_JE',\n",
       " 'sui',\n",
       " 'client',\n",
       " 'chez',\n",
       " 'vou',\n",
       " 'pouvez',\n",
       " 'vou',\n",
       " 'm',\n",
       " 'etablir',\n",
       " 'un_devi',\n",
       " 'pour',\n",
       " 'mon',\n",
       " 'fil',\n",
       " 'qui',\n",
       " 'souhaite',\n",
       " 'louer',\n",
       " 'lappartement',\n",
       " 'suivant',\n",
       " '25',\n",
       " 'rue',\n",
       " 'du',\n",
       " 'rueimaginaire',\n",
       " '77000',\n",
       " 'merci',\n",
       " 'envoye_de',\n",
       " 'mon_iphone']"
      ]
     },
     "execution_count": 34,
     "metadata": {},
     "output_type": "execute_result"
    }
   ],
   "source": [
    "df = load_email_data(type=\"full\")\n",
    "df[\"text\"] = df[\"body\"]\n",
    "df = m_pipe_reloaded.transform(df)\n",
    "print(\"stupid\" in df.columns)\n",
    "df.iloc[0][\"tokens\"]"
   ]
  },
  {
   "cell_type": "markdown",
   "id": "aa5e89bb-e236-40da-b022-87e01e7d7157",
   "metadata": {},
   "source": [
    "# Change Pipeline Execution Backend"
   ]
  },
  {
   "cell_type": "code",
   "execution_count": 35,
   "id": "ee488c6e-50a6-43cc-89fe-97762f980a4e",
   "metadata": {},
   "outputs": [],
   "source": [
    "from melusine.backend.melusine_backend import use, backend"
   ]
  },
  {
   "cell_type": "code",
   "execution_count": 36,
   "id": "26523e57-3434-457b-b31a-6ab952bbbbee",
   "metadata": {},
   "outputs": [
    {
     "name": "stdout",
     "output_type": "stream",
     "text": [
      "Using dict backend for Data transformations\n"
     ]
    }
   ],
   "source": [
    "use(\"dict\")"
   ]
  },
  {
   "cell_type": "code",
   "execution_count": 37,
   "id": "297e4d08-b414-4d6a-b8d6-0c6f2e1046a2",
   "metadata": {},
   "outputs": [
    {
     "data": {
      "text/plain": [
       "<melusine.backend.melusine_backend.DictBackend at 0x7f8ab4f12be0>"
      ]
     },
     "execution_count": 37,
     "metadata": {},
     "output_type": "execute_result"
    }
   ],
   "source": [
    "backend._backend"
   ]
  },
  {
   "cell_type": "code",
   "execution_count": 38,
   "id": "18e44caa-97a1-4cfd-bb4b-552b4e12d41f",
   "metadata": {},
   "outputs": [],
   "source": [
    "ddd = df.iloc[0].to_dict()"
   ]
  },
  {
   "cell_type": "code",
   "execution_count": 39,
   "id": "5e827f0c-520c-4a9e-88f3-2d40f88c697b",
   "metadata": {},
   "outputs": [
    {
     "data": {
      "text/plain": [
       "dict"
      ]
     },
     "execution_count": 39,
     "metadata": {},
     "output_type": "execute_result"
    }
   ],
   "source": [
    "type(m_pipe.transform(ddd))"
   ]
  },
  {
   "cell_type": "code",
   "execution_count": 40,
   "id": "361b4258-c188-4924-b2ce-97f43dc7d484",
   "metadata": {},
   "outputs": [
    {
     "data": {
      "text/plain": [
       "{'body': ' \\n  \\n  \\n  \\n Bonjour \\n Je suis client chez vous \\n Pouvez vous m établir un devis pour mon fils qui souhaite \\n louer l’appartement suivant : \\n 25 rue du rueimaginaire 77000 \\n Merci \\n Envoyé de mon iPhone',\n",
       " 'header': 'Devis habitation',\n",
       " 'date': '2018-05-24 11:36:00',\n",
       " 'from': 'Dupont <monsieurdupont@extensiona.com>',\n",
       " 'to': 'conseiller@Societeimaginaire.fr',\n",
       " 'attachment': '[]',\n",
       " 'sexe': 'F',\n",
       " 'age': 35,\n",
       " 'label': 'habitation',\n",
       " 'is_begin_by_transfer': True,\n",
       " 'is_answer': False,\n",
       " 'is_transfer': False,\n",
       " 'structured_historic': \"[{'text': ' \\\\n  \\\\n  \\\\n  \\\\n Bonjour \\\\n Je suis client chez vous \\\\n Pouvez vous m établir un devis pour mon fils qui souhaite \\\\n louer l’appartement suivant : \\\\n 25 rue du rueimaginaire 77000 \\\\n Merci \\\\n Envoyé de mon iPhone', 'meta': ''}]\",\n",
       " 'structured_body': \"[{'meta': {'date': None, 'from': None, 'to': None}, 'structured_text': {'header': None, 'text': [{'part': 'Bonjour', 'tags': 'HELLO'}, {'part': 'Je suis client chez vous Pouvez vous m établir un devis pour mon fils qui souhaite louer l’appartement suivant : 25 rue du rueimaginaire 77000', 'tags': 'BODY'}, {'part': 'Merci', 'tags': 'THANKS'}, {'part': 'Envoyé de mon iPhone', 'tags': 'FOOTER'}]}}]\",\n",
       " 'last_body': 'Je suis client chez vous Pouvez vous m établir un devis pour mon fils qui souhaite louer l’appartement suivant : 25 rue du rueimaginaire 77000 ',\n",
       " 'clean_body': 'je suis client chez vous pouvez vous m etablir un devis pour mon fils qui souhaite louer lappartement suivant : 25 rue du rueimaginaire 77000',\n",
       " 'clean_header': 'devis habitation',\n",
       " 'extension': 1,\n",
       " 'hour': 11,\n",
       " 'min': 36,\n",
       " 'dayofweek': 3,\n",
       " 'attachment_type': '[1]',\n",
       " 'extension__0': 0,\n",
       " 'extension__1': 1,\n",
       " 'extension__2': 0,\n",
       " 'extension__3': 0,\n",
       " 'extension__4': 0,\n",
       " 'extension__5': 0,\n",
       " 'extension__6': 0,\n",
       " 'extension__7': 0,\n",
       " 'extension__8': 0,\n",
       " 'extension__9': 0,\n",
       " 'dayofweek__0': 0,\n",
       " 'dayofweek__1': 0,\n",
       " 'dayofweek__2': 0,\n",
       " 'dayofweek__3': 1,\n",
       " 'dayofweek__4': 0,\n",
       " 'dayofweek__5': 0,\n",
       " 'hour__6': 0,\n",
       " 'hour__8': 0,\n",
       " 'hour__9': 0,\n",
       " 'hour__10': 0,\n",
       " 'hour__11': 1,\n",
       " 'hour__12': 0,\n",
       " 'hour__14': 0,\n",
       " 'hour__15': 0,\n",
       " 'hour__16': 0,\n",
       " 'hour__17': 0,\n",
       " 'hour__18': 0,\n",
       " 'hour__19': 0,\n",
       " 'hour__20': 0,\n",
       " 'hour__22': 0,\n",
       " 'min__2': 0,\n",
       " 'min__3': 0,\n",
       " 'min__4': 0,\n",
       " 'min__6': 0,\n",
       " 'min__7': 0,\n",
       " 'min__9': 0,\n",
       " 'min__10': 0,\n",
       " 'min__11': 0,\n",
       " 'min__12': 0,\n",
       " 'min__15': 0,\n",
       " 'min__16': 0,\n",
       " 'min__19': 0,\n",
       " 'min__22': 0,\n",
       " 'min__28': 0,\n",
       " 'min__30': 0,\n",
       " 'min__32': 0,\n",
       " 'min__33': 0,\n",
       " 'min__36': 1,\n",
       " 'min__37': 0,\n",
       " 'min__38': 0,\n",
       " 'min__39': 0,\n",
       " 'min__40': 0,\n",
       " 'min__44': 0,\n",
       " 'min__45': 0,\n",
       " 'min__49': 0,\n",
       " 'min__52': 0,\n",
       " 'min__54': 0,\n",
       " 'min__56': 0,\n",
       " 'min__58': 0,\n",
       " 'attachment_type__0': 0,\n",
       " 'attachment_type__1': 1,\n",
       " 'text': ' \\n  \\n  \\n  \\n bonjour \\n JE suis client chez vous \\n pouvez vous m etablir un devis pour mon fils qui souhaite \\n louer lappartement suivant : \\n 25 rue du rueimaginaire 77000 \\n merci \\n envoye de mon iphone',\n",
       " 'tokens': ['bonjour_JE',\n",
       "  'sui',\n",
       "  'client',\n",
       "  'chez',\n",
       "  'vou',\n",
       "  'pouvez',\n",
       "  'vou',\n",
       "  'm',\n",
       "  'etablir',\n",
       "  'un_devi',\n",
       "  'pour',\n",
       "  'mon',\n",
       "  'fil',\n",
       "  'qui',\n",
       "  'souhaite',\n",
       "  'louer',\n",
       "  'lappartement',\n",
       "  'suivant',\n",
       "  '25',\n",
       "  'rue',\n",
       "  'du',\n",
       "  'rueimaginaire',\n",
       "  '77000',\n",
       "  'merci',\n",
       "  'envoye_de',\n",
       "  'mon_iphone'],\n",
       " 'stupid': True}"
      ]
     },
     "execution_count": 40,
     "metadata": {},
     "output_type": "execute_result"
    }
   ],
   "source": [
    "m_pipe.transform(ddd)"
   ]
  },
  {
   "cell_type": "markdown",
   "id": "79c177db-dc26-4b04-9d80-a8fffd2b6717",
   "metadata": {},
   "source": [
    "# Help users understand the Framework"
   ]
  },
  {
   "cell_type": "code",
   "execution_count": 41,
   "id": "44b2bf88-3e39-4926-86d7-46b95645d358",
   "metadata": {},
   "outputs": [],
   "source": [
    "from melusine.core.melusine_transformer import MelusineTransformer"
   ]
  },
  {
   "cell_type": "code",
   "execution_count": 42,
   "id": "36286dd8-e90e-42c6-ba5f-0c153efeac2c",
   "metadata": {},
   "outputs": [
    {
     "ename": "TypeError",
     "evalue": "Can't instantiate abstract class NoFilename with abstract methods FILENAME",
     "output_type": "error",
     "traceback": [
      "\u001b[0;31m---------------------------------------------------------------------------\u001b[0m",
      "\u001b[0;31mTypeError\u001b[0m                                 Traceback (most recent call last)",
      "\u001b[0;32m/var/folders/qj/k2frnywn4mq2ssgfk1b99yl00000gn/T/ipykernel_8216/2930125660.py\u001b[0m in \u001b[0;36m<module>\u001b[0;34m\u001b[0m\n\u001b[1;32m     10\u001b[0m         \u001b[0;32mpass\u001b[0m\u001b[0;34m\u001b[0m\u001b[0;34m\u001b[0m\u001b[0m\n\u001b[1;32m     11\u001b[0m \u001b[0;34m\u001b[0m\u001b[0m\n\u001b[0;32m---> 12\u001b[0;31m \u001b[0mnofilename\u001b[0m \u001b[0;34m=\u001b[0m \u001b[0mNoFilename\u001b[0m\u001b[0;34m(\u001b[0m\u001b[0;34m)\u001b[0m\u001b[0;34m\u001b[0m\u001b[0;34m\u001b[0m\u001b[0m\n\u001b[0m",
      "\u001b[0;31mTypeError\u001b[0m: Can't instantiate abstract class NoFilename with abstract methods FILENAME"
     ]
    }
   ],
   "source": [
    "class NoFilename(MelusineTransformer):\n",
    "\n",
    "    def __init__(self, input_columns=(\"text\",), output_columns=(\"text\",)):\n",
    "        super().__init__(input_columns, output_columns)\n",
    "        \n",
    "    def load(self):\n",
    "        pass\n",
    "    \n",
    "    def save(self):\n",
    "        pass    \n",
    "        \n",
    "nofilename = NoFilename()"
   ]
  },
  {
   "cell_type": "code",
   "execution_count": null,
   "id": "79f30472-662c-496f-9391-d0a9bfe19059",
   "metadata": {},
   "outputs": [],
   "source": [
    "class NoFunc(MelusineTransformer):\n",
    "    FILENAME = \"nofunc\"\n",
    "    def __init__(self, input_columns=(\"text\",), output_columns=(\"text\",)):\n",
    "        super().__init__(input_columns, output_columns)\n",
    "        \n",
    "    def load(self):\n",
    "        pass\n",
    "    \n",
    "    def save(self):\n",
    "        pass    \n",
    "        \n",
    "nofunc = NoFunc()"
   ]
  },
  {
   "cell_type": "code",
   "execution_count": null,
   "id": "5e14941e-e1e9-4610-8264-ab8fad621fbc",
   "metadata": {},
   "outputs": [],
   "source": [
    "print(nofunc.transform(ddd))"
   ]
  },
  {
   "cell_type": "markdown",
   "id": "f86e79e3-1ed2-46ac-8f48-a7cc105557aa",
   "metadata": {},
   "source": [
    "# Regex definition"
   ]
  },
  {
   "cell_type": "code",
   "execution_count": null,
   "id": "aecebfc7-4784-48a9-b803-b1b9789d0711",
   "metadata": {},
   "outputs": [],
   "source": [
    "# === Info importante ===\n",
    "\n",
    "# Les sauts de lignes sont remplacés par le pattern \" ; \" à la réception de la requête\n",
    "# C'est clairement une transformation indésirable aujourd'hui \n",
    "# mais elle est encrée dans les codes et il faudrait prendre quelques jours pour modifier ça et étudier les impacts !\n",
    "\n",
    "\n",
    "# === Start pattern ===\n",
    "# On cherche un début de ligne ou un \";\"\n",
    "start_pattern = r\"\"\"(?:^|;)\"\"\"\n",
    "\n",
    "# === Symboles de début de ligne ===\n",
    "# Les emails avec des multiples retours à la ligne génèrent des paterns de \" ; ; ; ; ; ; \"\n",
    "# Certains messages transférés / réponses ont des symboles en début de lignes (> et/ou |)\n",
    "# Ex:\n",
    "# Merci\n",
    "# > De foo@maif.fr A bar@gmail.com\n",
    "# > Voici le document\n",
    "# On ignore tous ces symboles\n",
    "ignore_characters = \"\"\"(?:[>| ;]*)\"\"\"\n",
    "\n",
    "# === Keywords de transition ===\n",
    "# Certains mot-clés présents dans les réponses et emails transférés sont utilisés pour la segmentation\n",
    "# Ces mot clés sont suivis du symbole \":\"\n",
    "# Ex:\n",
    "# De : XX A : XX Sujet : Blah Blah\n",
    "meta_transition_words = \"\"\"(?:\\\\b(?:[Ee]nvoy[ée](?: par)?|[Dd]e|[Oo]bjet|[Cc]c|Date|[AÀàa]|[Dd]estinataire|[Ss]ent|[Tt]o|[Ss]ub?jec?t|[Ff]rom|[Cc]opie [àa])\\\\b\\\\s{,4}:)\"\"\"\n",
    "\n",
    "# === Méta-données ===\n",
    "# Les mots-clés sont suivi de champs de textes libre qu'il faut identifier\n",
    "# On accepte un retour à la ligne à la suite du mot clé (\"\\s{,4};\\s{,4}\")\n",
    "# On limite le champs de texte libre à 150 charactères (car un .* est très couteux en temps de calcul)\n",
    "# Le champ de texte libre s'arrête lorsqu'on détecte un \";\" (retour à la ligne)\n",
    "meta_content_pattern = r\"\"\"(?:\\\\s{,4};\\\\s{,4}[^;]{,100}[;|]\\\\s{,4})\"\"\"\n",
    "\n",
    "\n",
    "# === Meta data pattern ===\n",
    "meta_pattern = fr\"(?:{ignore_characters}{meta_transition_words}{meta_content_pattern})\"\n",
    "\n",
    "# === Full pattern ===\n",
    "# On cherche un start pattern suivi de répétitions de meta_pattern\n",
    "regex = fr\"\"\"({start_pattern}{meta_pattern}+)\"\"\""
   ]
  },
  {
   "cell_type": "code",
   "execution_count": null,
   "id": "d3d8748b-122f-44fc-aa79-2703fc7cba36",
   "metadata": {},
   "outputs": [],
   "source": [
    "print(regex)"
   ]
  },
  {
   "cell_type": "code",
   "execution_count": null,
   "id": "a3f07f31-3299-4a0f-8ae8-d4fd8521470b",
   "metadata": {},
   "outputs": [],
   "source": [
    "print(\"\"\"(?:(?:^|;)(?:(?:[>| ;]*(?:Envoy[ée]|De|Objet|Cc|Envoy[ée] par|Date|A|À|Destinataire|Sent|To|Subject|Sujet|From|Copie [àa])\\s{,4}:\\s{,4};?\\s{,4}[^;]{,100}[;|]\\s{,4}))+)\"\"\")"
   ]
  },
  {
   "cell_type": "code",
   "execution_count": null,
   "id": "dab3d282-1717-4159-bafc-4404f392b000",
   "metadata": {},
   "outputs": [],
   "source": [
    "print(\"\"\"| |\\n| |\\n| |-------- Message transféré --------\\n| |\\n| |Sujet :\\n| | [INTERNET] Dossier F210306856A -\\n| | Date :| | Mon, 13 Sep 2021 13:45:39 +0200 | | De :| | gestionsinistre@maif.fr | | Pour :| | anomalies-vol-siv@interieur.gouv.fr | | | |Bonjour, |\"\"\")"
   ]
  },
  {
   "cell_type": "code",
   "execution_count": null,
   "id": "5c0b02e1-169e-450b-ade5-b4dfc5e89922",
   "metadata": {},
   "outputs": [],
   "source": [
    "import json\n",
    "json.dumps(regex)"
   ]
  },
  {
   "cell_type": "code",
   "execution_count": null,
   "id": "d5cd8ba0-9d8c-4164-8da5-229112533c4c",
   "metadata": {},
   "outputs": [],
   "source": [
    "regex"
   ]
  },
  {
   "cell_type": "code",
   "execution_count": null,
   "id": "06cf72e8-c1b7-44cc-86f3-184e7ae5fca7",
   "metadata": {},
   "outputs": [],
   "source": [
    "x = \"\\\\s\"\n",
    "y = r\"\\s\""
   ]
  },
  {
   "cell_type": "code",
   "execution_count": null,
   "id": "0ef2f571-1dda-4df2-927d-e9f1398359f5",
   "metadata": {},
   "outputs": [],
   "source": [
    "json.dumps(x)"
   ]
  },
  {
   "cell_type": "code",
   "execution_count": null,
   "id": "e6690152-3f28-4678-b491-765f301aea2a",
   "metadata": {},
   "outputs": [],
   "source": [
    "json.dumps(y)"
   ]
  },
  {
   "cell_type": "code",
   "execution_count": null,
   "id": "930f9fa7-612f-41ad-96d2-dfc4f91b665b",
   "metadata": {},
   "outputs": [],
   "source": []
  },
  {
   "cell_type": "code",
   "execution_count": null,
   "id": "4bf784b2-fbec-48b9-bc2d-7220cdebeda9",
   "metadata": {},
   "outputs": [],
   "source": []
  },
  {
   "cell_type": "code",
   "execution_count": null,
   "id": "d09710af-9767-441f-a1f0-ceca1e425df7",
   "metadata": {},
   "outputs": [],
   "source": []
  },
  {
   "cell_type": "code",
   "execution_count": null,
   "id": "8b812b3c-61fc-40a8-9556-02f97af552fc",
   "metadata": {},
   "outputs": [],
   "source": []
  }
 ],
 "metadata": {
  "kernelspec": {
   "display_name": "melusine_perso38",
   "language": "python",
   "name": "melusine_perso38"
  },
  "language_info": {
   "codemirror_mode": {
    "name": "ipython",
    "version": 3
   },
   "file_extension": ".py",
   "mimetype": "text/x-python",
   "name": "python",
   "nbconvert_exporter": "python",
   "pygments_lexer": "ipython3",
   "version": "3.8.11"
  }
 },
 "nbformat": 4,
 "nbformat_minor": 5
}
