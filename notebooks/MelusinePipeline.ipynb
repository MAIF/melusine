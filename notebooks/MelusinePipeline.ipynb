{
 "cells": [
  {
   "cell_type": "markdown",
   "id": "fe70aac9-72e4-432a-ad61-c966c9c848d5",
   "metadata": {},
   "source": [
    "# Create elementary objects"
   ]
  },
  {
   "cell_type": "code",
   "execution_count": 1,
   "id": "41e96fb8-398c-4f09-a46e-c800d0c39ab7",
   "metadata": {},
   "outputs": [],
   "source": [
    "from melusine import config"
   ]
  },
  {
   "cell_type": "code",
   "execution_count": 2,
   "id": "3b715845-12aa-4a49-a708-7bbd2951f418",
   "metadata": {},
   "outputs": [
    {
     "name": "stdout",
     "output_type": "stream",
     "text": [
      "Using pandas backend for Data transformations\n"
     ]
    }
   ],
   "source": [
    "from melusine.core.pipeline import MelusinePipeline\n",
    "\n",
    "from melusine.nlp_tools.normalizer import Normalizer\n",
    "from melusine.nlp_tools.tokenizer import RegexTokenizer\n",
    "from melusine.nlp_tools.phraser import Phraser\n",
    "from melusine.nlp_tools.text_flagger import DeterministicTextFlagger\n",
    "from melusine.nlp_tools.token_flagger import FlashtextTokenFlagger\n",
    "from melusine.nlp_tools.lemmatizer import DummyLemmatizer\n",
    "from melusine.nlp_tools.embedding import Embedding\n",
    "\n",
    "from melusine import load_email_data"
   ]
  },
  {
   "cell_type": "markdown",
   "id": "faa17101-5137-4947-9ae8-14f9c72e706d",
   "metadata": {},
   "source": [
    "# Instanciate transformers (explicitely or from config)"
   ]
  },
  {
   "cell_type": "markdown",
   "id": "172fc334-4af3-4823-9f06-45d736b7e0f2",
   "metadata": {},
   "source": [
    "## Normalizer"
   ]
  },
  {
   "cell_type": "code",
   "execution_count": 3,
   "id": "4976e5ed-f681-4649-b804-edb33b6c262c",
   "metadata": {},
   "outputs": [],
   "source": [
    "# Explicit\n",
    "# normalizer = Normalizer(form=\"NFKD\", lowercase=True)\n",
    "\n",
    "# From config but overriding some parameters\n",
    "# normalizer = Normalizer.from_config(\"normalizer\", form=\"NFD\")\n",
    "\n",
    "# From config\n",
    "normalizer = Normalizer.from_config(\"normalizer\", form=\"NFD\")"
   ]
  },
  {
   "cell_type": "markdown",
   "id": "973b226e-4aee-4397-8e1f-18b6bd207bfe",
   "metadata": {},
   "source": [
    "# Text Flagger"
   ]
  },
  {
   "cell_type": "code",
   "execution_count": 4,
   "id": "d38017bb-c48a-4ec5-8aeb-7e40cf4278f9",
   "metadata": {},
   "outputs": [],
   "source": [
    "text_flagger = DeterministicTextFlagger(text_flags = {r\"\\d{10}\": \"flag_phone\"})"
   ]
  },
  {
   "cell_type": "markdown",
   "id": "3ea95802-5bc5-4833-81d0-82e254f8ac79",
   "metadata": {},
   "source": [
    "# Tokenizer"
   ]
  },
  {
   "cell_type": "code",
   "execution_count": 5,
   "id": "b5b05518-81e0-4286-ae86-d27fd0966c3f",
   "metadata": {},
   "outputs": [],
   "source": [
    "tokenizer = RegexTokenizer(tokenizer_regex=r\"\\w+(?:[\\?\\-\\\"_]\\w+)*\", stopwords=[\"le\", \"les\"])"
   ]
  },
  {
   "cell_type": "markdown",
   "id": "74c3f514-4531-40e4-bf62-9f0d1cc44c9a",
   "metadata": {},
   "source": [
    "## Token Flagger"
   ]
  },
  {
   "cell_type": "code",
   "execution_count": 6,
   "id": "dbe3bd40-075d-4c96-9a7d-8a66de8f1c9a",
   "metadata": {},
   "outputs": [],
   "source": [
    "token_flagger = FlashtextTokenFlagger(token_flags = {\"flag_name\": [\"joe\", \"bob\"]})"
   ]
  },
  {
   "cell_type": "markdown",
   "id": "65ab6118-2714-46f6-ad6d-f348725b899f",
   "metadata": {},
   "source": [
    "## Lemmatizer"
   ]
  },
  {
   "cell_type": "code",
   "execution_count": 7,
   "id": "168a4b49-5d55-41d5-befd-1495ca97cf07",
   "metadata": {},
   "outputs": [],
   "source": [
    "lemmatizer = DummyLemmatizer()"
   ]
  },
  {
   "cell_type": "markdown",
   "id": "b323626f-e15c-4f58-99e1-f7f9670ea602",
   "metadata": {},
   "source": [
    "## Embedding"
   ]
  },
  {
   "cell_type": "code",
   "execution_count": 8,
   "id": "25228d1c-1345-47b9-a4ab-dc22607c4dba",
   "metadata": {},
   "outputs": [],
   "source": [
    "embedding = Embedding(min_count=2)"
   ]
  },
  {
   "cell_type": "markdown",
   "id": "bce9819a-91d2-47b0-ba03-8d07bb7988c2",
   "metadata": {},
   "source": [
    "## Phraser"
   ]
  },
  {
   "cell_type": "code",
   "execution_count": 9,
   "id": "33d55587-9f69-42ba-9673-3d05a14f2eaa",
   "metadata": {},
   "outputs": [],
   "source": [
    "phraser = Phraser(threshold=2, min_count=2, input_columns=[\"tokens\"], output_columns=[\"tokens\"])"
   ]
  },
  {
   "cell_type": "markdown",
   "id": "d5ed057d-3bc4-439f-855b-6e3177335784",
   "metadata": {},
   "source": [
    "## Transformers can be used as stand-alone or inserted in a pipeline"
   ]
  },
  {
   "cell_type": "code",
   "execution_count": 10,
   "id": "011d6b54-d0f2-4b00-a5a3-751aede42a21",
   "metadata": {},
   "outputs": [
    {
     "data": {
      "text/plain": [
       "'Appellez moi au flag_phone'"
      ]
     },
     "execution_count": 10,
     "metadata": {},
     "output_type": "execute_result"
    }
   ],
   "source": [
    "text_flagger.flag_text(\"Appellez moi au 0612345678\")"
   ]
  },
  {
   "cell_type": "markdown",
   "id": "4bbeb771-7441-4ab7-ac47-7e779cd0b981",
   "metadata": {},
   "source": [
    "# Melusine Pipeline"
   ]
  },
  {
   "cell_type": "code",
   "execution_count": 11,
   "id": "4bb9ca6b-b279-43c0-a75c-23b8638be51b",
   "metadata": {},
   "outputs": [
    {
     "data": {
      "text/html": [
       "<div>\n",
       "<style scoped>\n",
       "    .dataframe tbody tr th:only-of-type {\n",
       "        vertical-align: middle;\n",
       "    }\n",
       "\n",
       "    .dataframe tbody tr th {\n",
       "        vertical-align: top;\n",
       "    }\n",
       "\n",
       "    .dataframe thead th {\n",
       "        text-align: right;\n",
       "    }\n",
       "</style>\n",
       "<table border=\"1\" class=\"dataframe\">\n",
       "  <thead>\n",
       "    <tr style=\"text-align: right;\">\n",
       "      <th></th>\n",
       "      <th>body</th>\n",
       "      <th>header</th>\n",
       "      <th>date</th>\n",
       "      <th>from</th>\n",
       "      <th>to</th>\n",
       "      <th>attachment</th>\n",
       "      <th>sexe</th>\n",
       "      <th>age</th>\n",
       "      <th>label</th>\n",
       "      <th>is_begin_by_transfer</th>\n",
       "      <th>...</th>\n",
       "      <th>min__44</th>\n",
       "      <th>min__45</th>\n",
       "      <th>min__49</th>\n",
       "      <th>min__52</th>\n",
       "      <th>min__54</th>\n",
       "      <th>min__56</th>\n",
       "      <th>min__58</th>\n",
       "      <th>attachment_type__0</th>\n",
       "      <th>attachment_type__1</th>\n",
       "      <th>text</th>\n",
       "    </tr>\n",
       "  </thead>\n",
       "  <tbody>\n",
       "    <tr>\n",
       "      <th>0</th>\n",
       "      <td>\\n  \\n  \\n  \\n Bonjour \\n Je suis client chez...</td>\n",
       "      <td>Devis habitation</td>\n",
       "      <td>2018-05-24 11:36:00</td>\n",
       "      <td>Dupont &lt;monsieurdupont@extensiona.com&gt;</td>\n",
       "      <td>conseiller@Societeimaginaire.fr</td>\n",
       "      <td>[]</td>\n",
       "      <td>F</td>\n",
       "      <td>35</td>\n",
       "      <td>habitation</td>\n",
       "      <td>True</td>\n",
       "      <td>...</td>\n",
       "      <td>0</td>\n",
       "      <td>0</td>\n",
       "      <td>0</td>\n",
       "      <td>0</td>\n",
       "      <td>0</td>\n",
       "      <td>0</td>\n",
       "      <td>0</td>\n",
       "      <td>0</td>\n",
       "      <td>1</td>\n",
       "      <td>\\n  \\n  \\n  \\n Bonjour \\n Je suis client chez...</td>\n",
       "    </tr>\n",
       "    <tr>\n",
       "      <th>1</th>\n",
       "      <td>\\n  \\n  \\n  \\n Bonsoir madame, \\n  \\n Je vous...</td>\n",
       "      <td>Immatriculation voiture</td>\n",
       "      <td>2018-05-24 19:37:00</td>\n",
       "      <td>Dupont &lt;monsieurdupont@extensiona.com&gt;</td>\n",
       "      <td>conseiller@Societeimaginaire.fr</td>\n",
       "      <td>[\"pj.pdf\"]</td>\n",
       "      <td>M</td>\n",
       "      <td>32</td>\n",
       "      <td>vehicule</td>\n",
       "      <td>True</td>\n",
       "      <td>...</td>\n",
       "      <td>0</td>\n",
       "      <td>0</td>\n",
       "      <td>0</td>\n",
       "      <td>0</td>\n",
       "      <td>0</td>\n",
       "      <td>0</td>\n",
       "      <td>0</td>\n",
       "      <td>1</td>\n",
       "      <td>0</td>\n",
       "      <td>\\n  \\n  \\n  \\n Bonsoir madame, \\n  \\n Je vous...</td>\n",
       "    </tr>\n",
       "  </tbody>\n",
       "</table>\n",
       "<p>2 rows × 84 columns</p>\n",
       "</div>"
      ],
      "text/plain": [
       "                                                body                   header  \\\n",
       "0   \\n  \\n  \\n  \\n Bonjour \\n Je suis client chez...         Devis habitation   \n",
       "1   \\n  \\n  \\n  \\n Bonsoir madame, \\n  \\n Je vous...  Immatriculation voiture   \n",
       "\n",
       "                  date                                    from  \\\n",
       "0  2018-05-24 11:36:00  Dupont <monsieurdupont@extensiona.com>   \n",
       "1  2018-05-24 19:37:00  Dupont <monsieurdupont@extensiona.com>   \n",
       "\n",
       "                                to  attachment sexe  age       label  \\\n",
       "0  conseiller@Societeimaginaire.fr          []    F   35  habitation   \n",
       "1  conseiller@Societeimaginaire.fr  [\"pj.pdf\"]    M   32    vehicule   \n",
       "\n",
       "   is_begin_by_transfer  ...  min__44  min__45 min__49 min__52 min__54  \\\n",
       "0                  True  ...        0        0       0       0       0   \n",
       "1                  True  ...        0        0       0       0       0   \n",
       "\n",
       "  min__56 min__58  attachment_type__0  attachment_type__1  \\\n",
       "0       0       0                   0                   1   \n",
       "1       0       0                   1                   0   \n",
       "\n",
       "                                                text  \n",
       "0   \\n  \\n  \\n  \\n Bonjour \\n Je suis client chez...  \n",
       "1   \\n  \\n  \\n  \\n Bonsoir madame, \\n  \\n Je vous...  \n",
       "\n",
       "[2 rows x 84 columns]"
      ]
     },
     "execution_count": 11,
     "metadata": {},
     "output_type": "execute_result"
    }
   ],
   "source": [
    "# Load data\n",
    "df = load_email_data(type=\"full\")\n",
    "df[\"text\"] = df[\"body\"]\n",
    "df.head(2)"
   ]
  },
  {
   "cell_type": "markdown",
   "id": "291da8e0-d29c-4f6c-88fd-fbdcb32434e0",
   "metadata": {},
   "source": [
    "## Assemble Pipeline"
   ]
  },
  {
   "cell_type": "code",
   "execution_count": 12,
   "id": "4be8ac54-08be-4f33-acf7-085e54a4c1ac",
   "metadata": {},
   "outputs": [],
   "source": [
    "m_pipe = MelusinePipeline([\n",
    "        (\"normalizer\", normalizer),\n",
    "        (\"text_flagger\", text_flagger),\n",
    "        (\"tokenizer\", tokenizer),\n",
    "        (\"lemmatizer\", lemmatizer),\n",
    "        (\"gensim_phraser\", phraser),\n",
    "        (\"token_flagger\", token_flagger),\n",
    "        (\"w2v\", embedding),\n",
    "],\n",
    "    verbose=True\n",
    ")"
   ]
  },
  {
   "cell_type": "markdown",
   "id": "e6d022c5-4d6f-4f45-95db-d2e8cbc5c8d2",
   "metadata": {},
   "source": [
    "## Execute pipeline"
   ]
  },
  {
   "cell_type": "code",
   "execution_count": 13,
   "id": "7c160879-f700-4c40-bd81-86c45da3a82e",
   "metadata": {},
   "outputs": [],
   "source": [
    "# df.iloc[0]"
   ]
  },
  {
   "cell_type": "code",
   "execution_count": 14,
   "id": "86092f77-7a31-4193-bab6-6819c905ea69",
   "metadata": {},
   "outputs": [
    {
     "name": "stdout",
     "output_type": "stream",
     "text": [
      "[Pipeline] ........ (step 1 of 7) Processing normalizer, total=   0.0s\n",
      "[Pipeline] ...... (step 2 of 7) Processing text_flagger, total=   0.0s\n",
      "[Pipeline] ......... (step 3 of 7) Processing tokenizer, total=   0.0s\n",
      "[Pipeline] ........ (step 4 of 7) Processing lemmatizer, total=   0.0s\n",
      "[Pipeline] .... (step 5 of 7) Processing gensim_phraser, total=   0.0s\n",
      "[Pipeline] ..... (step 6 of 7) Processing token_flagger, total=   0.0s\n",
      "[Pipeline] ............... (step 7 of 7) Processing w2v, total=   0.0s\n"
     ]
    }
   ],
   "source": [
    "df = m_pipe.fit_transform(df)"
   ]
  },
  {
   "cell_type": "code",
   "execution_count": 15,
   "id": "5db8f95b-0a57-4d60-93d6-d961bc07aae5",
   "metadata": {},
   "outputs": [
    {
     "data": {
      "text/plain": [
       "['bonjour_je',\n",
       " 'sui',\n",
       " 'client',\n",
       " 'chez',\n",
       " 'vou',\n",
       " 'pouvez',\n",
       " 'vou',\n",
       " 'm',\n",
       " 'etablir',\n",
       " 'un_devi',\n",
       " 'pour',\n",
       " 'mon',\n",
       " 'fil',\n",
       " 'qui',\n",
       " 'souhaite',\n",
       " 'louer',\n",
       " 'lappartement',\n",
       " 'suivant',\n",
       " '25',\n",
       " 'rue',\n",
       " 'du',\n",
       " 'rueimaginaire',\n",
       " '77000',\n",
       " 'merci',\n",
       " 'envoye_de',\n",
       " 'mon_iphone']"
      ]
     },
     "execution_count": 15,
     "metadata": {},
     "output_type": "execute_result"
    }
   ],
   "source": [
    "# Tokenized text\n",
    "df.iloc[0][\"tokens\"]"
   ]
  },
  {
   "cell_type": "markdown",
   "id": "9b092532-3f2b-40a4-ae1e-4d0b0ff2e3f0",
   "metadata": {},
   "source": [
    "## Save and Load a MelusinePipeline"
   ]
  },
  {
   "cell_type": "code",
   "execution_count": 16,
   "id": "256d6e28-aa89-4d9f-9de7-fd60b9f3b4de",
   "metadata": {},
   "outputs": [],
   "source": [
    "m_pipe.save(\"my_pipeline\")"
   ]
  },
  {
   "cell_type": "code",
   "execution_count": 17,
   "id": "ca4edd1d-d28a-4fd0-827e-e01dd092d152",
   "metadata": {},
   "outputs": [],
   "source": [
    "m_pipe_reloaded = MelusinePipeline.load(\"my_pipeline\")"
   ]
  },
  {
   "cell_type": "code",
   "execution_count": 18,
   "id": "ac87bd50-1b5b-4acf-a77a-b04f010875cb",
   "metadata": {},
   "outputs": [
    {
     "data": {
      "text/plain": [
       "MelusinePipeline(steps=[('normalizer',\n",
       "                         Normalizer(input_columns=['text'],\n",
       "                                    output_columns=['text'])),\n",
       "                        ('text_flagger',\n",
       "                         DeterministicTextFlagger(input_columns=['text'],\n",
       "                                                  output_columns=['text'],\n",
       "                                                  text_flags={'\\\\d{10}': 'flag_phone'})),\n",
       "                        ('tokenizer',\n",
       "                         RegexTokenizer(input_columns=['text'],\n",
       "                                        output_columns=['tokens'],\n",
       "                                        stopwords={'le', 'les'})),\n",
       "                        ('lemmatizer',\n",
       "                         DummyLemma...\n",
       "                                         output_columns=('tokens',))),\n",
       "                        ('gensim_phraser',\n",
       "                         Phraser(input_columns=['tokens'],\n",
       "                                 output_columns=['tokens'])),\n",
       "                        ('token_flagger',\n",
       "                         FlashtextTokenFlagger(flashtext_separators=['-', '_',\n",
       "                                                                     '/'],\n",
       "                                               input_columns=['tokens'],\n",
       "                                               output_columns=['tokens'],\n",
       "                                               token_flags={'flag_name': ['joe',\n",
       "                                                                          'bob']})),\n",
       "                        ('w2v',\n",
       "                         Embedding(input_columns=['tokens'],\n",
       "                                   output_columns=['tokens']))],\n",
       "                 verbose=True)"
      ]
     },
     "execution_count": 18,
     "metadata": {},
     "output_type": "execute_result"
    }
   ],
   "source": [
    "m_pipe_reloaded"
   ]
  },
  {
   "cell_type": "code",
   "execution_count": 19,
   "id": "4da8929f-2ebf-405a-95f0-d8a176ea21ff",
   "metadata": {},
   "outputs": [
    {
     "data": {
      "text/plain": [
       "['bonjour_je',\n",
       " 'sui',\n",
       " 'client',\n",
       " 'chez',\n",
       " 'vou',\n",
       " 'pouvez',\n",
       " 'vou',\n",
       " 'm',\n",
       " 'etablir',\n",
       " 'un_devi',\n",
       " 'pour',\n",
       " 'mon',\n",
       " 'fil',\n",
       " 'qui',\n",
       " 'souhaite',\n",
       " 'louer',\n",
       " 'lappartement',\n",
       " 'suivant',\n",
       " '25',\n",
       " 'rue',\n",
       " 'du',\n",
       " 'rueimaginaire',\n",
       " '77000',\n",
       " 'merci',\n",
       " 'envoye_de',\n",
       " 'mon_iphone']"
      ]
     },
     "execution_count": 19,
     "metadata": {},
     "output_type": "execute_result"
    }
   ],
   "source": [
    "df = load_email_data(type=\"full\")\n",
    "df[\"text\"] = df[\"body\"]\n",
    "df = m_pipe_reloaded.transform(df)\n",
    "df.iloc[0][\"tokens\"]"
   ]
  },
  {
   "cell_type": "markdown",
   "id": "b4fb1c2b-1a8e-4e28-9956-ca6c99ed6a99",
   "metadata": {},
   "source": [
    "## Make sure that transformers have been fitted\n",
    "Test the word embedding"
   ]
  },
  {
   "cell_type": "code",
   "execution_count": 20,
   "id": "ff2eadd4-dfde-4abe-9288-13fde09babcf",
   "metadata": {},
   "outputs": [
    {
     "data": {
      "text/plain": [
       "[('souhaite', 0.37198781967163086),\n",
       " ('au_nom', 0.3559889793395996),\n",
       " ('32', 0.31578245759010315),\n",
       " ('une', 0.27164793014526367),\n",
       " ('monsieurdupont', 0.2551308572292328),\n",
       " ('acte', 0.23880381882190704),\n",
       " ('prie_de', 0.2232523262500763),\n",
       " ('si', 0.2162163406610489),\n",
       " ('notre', 0.2139136791229248),\n",
       " ('je', 0.2138250172138214)]"
      ]
     },
     "execution_count": 20,
     "metadata": {},
     "output_type": "execute_result"
    }
   ],
   "source": [
    "m_pipe_reloaded.named_steps[\"w2v\"].embeddings_.most_similar(\"date\")"
   ]
  },
  {
   "cell_type": "markdown",
   "id": "8b1e34c2-322e-4293-895a-150634361e65",
   "metadata": {},
   "source": [
    "# Pipeline Visualization"
   ]
  },
  {
   "cell_type": "code",
   "execution_count": 21,
   "id": "7c106b1a-d866-4fc7-98c2-7b5849580068",
   "metadata": {},
   "outputs": [
    {
     "data": {
      "text/html": [
       "<style>#sk-e173ca87-ed29-4f67-ae2a-1d23cd9de869 {color: black;background-color: white;}#sk-e173ca87-ed29-4f67-ae2a-1d23cd9de869 pre{padding: 0;}#sk-e173ca87-ed29-4f67-ae2a-1d23cd9de869 div.sk-toggleable {background-color: white;}#sk-e173ca87-ed29-4f67-ae2a-1d23cd9de869 label.sk-toggleable__label {cursor: pointer;display: block;width: 100%;margin-bottom: 0;padding: 0.3em;box-sizing: border-box;text-align: center;}#sk-e173ca87-ed29-4f67-ae2a-1d23cd9de869 div.sk-toggleable__content {max-height: 0;max-width: 0;overflow: hidden;text-align: left;background-color: #f0f8ff;}#sk-e173ca87-ed29-4f67-ae2a-1d23cd9de869 div.sk-toggleable__content pre {margin: 0.2em;color: black;border-radius: 0.25em;background-color: #f0f8ff;}#sk-e173ca87-ed29-4f67-ae2a-1d23cd9de869 input.sk-toggleable__control:checked~div.sk-toggleable__content {max-height: 200px;max-width: 100%;overflow: auto;}#sk-e173ca87-ed29-4f67-ae2a-1d23cd9de869 div.sk-estimator input.sk-toggleable__control:checked~label.sk-toggleable__label {background-color: #d4ebff;}#sk-e173ca87-ed29-4f67-ae2a-1d23cd9de869 div.sk-label input.sk-toggleable__control:checked~label.sk-toggleable__label {background-color: #d4ebff;}#sk-e173ca87-ed29-4f67-ae2a-1d23cd9de869 input.sk-hidden--visually {border: 0;clip: rect(1px 1px 1px 1px);clip: rect(1px, 1px, 1px, 1px);height: 1px;margin: -1px;overflow: hidden;padding: 0;position: absolute;width: 1px;}#sk-e173ca87-ed29-4f67-ae2a-1d23cd9de869 div.sk-estimator {font-family: monospace;background-color: #f0f8ff;border: 1px dotted black;border-radius: 0.25em;box-sizing: border-box;margin-bottom: 0.5em;}#sk-e173ca87-ed29-4f67-ae2a-1d23cd9de869 div.sk-estimator:hover {background-color: #d4ebff;}#sk-e173ca87-ed29-4f67-ae2a-1d23cd9de869 div.sk-parallel-item::after {content: \"\";width: 100%;border-bottom: 1px solid gray;flex-grow: 1;}#sk-e173ca87-ed29-4f67-ae2a-1d23cd9de869 div.sk-label:hover label.sk-toggleable__label {background-color: #d4ebff;}#sk-e173ca87-ed29-4f67-ae2a-1d23cd9de869 div.sk-serial::before {content: \"\";position: absolute;border-left: 1px solid gray;box-sizing: border-box;top: 2em;bottom: 0;left: 50%;}#sk-e173ca87-ed29-4f67-ae2a-1d23cd9de869 div.sk-serial {display: flex;flex-direction: column;align-items: center;background-color: white;padding-right: 0.2em;padding-left: 0.2em;}#sk-e173ca87-ed29-4f67-ae2a-1d23cd9de869 div.sk-item {z-index: 1;}#sk-e173ca87-ed29-4f67-ae2a-1d23cd9de869 div.sk-parallel {display: flex;align-items: stretch;justify-content: center;background-color: white;}#sk-e173ca87-ed29-4f67-ae2a-1d23cd9de869 div.sk-parallel::before {content: \"\";position: absolute;border-left: 1px solid gray;box-sizing: border-box;top: 2em;bottom: 0;left: 50%;}#sk-e173ca87-ed29-4f67-ae2a-1d23cd9de869 div.sk-parallel-item {display: flex;flex-direction: column;position: relative;background-color: white;}#sk-e173ca87-ed29-4f67-ae2a-1d23cd9de869 div.sk-parallel-item:first-child::after {align-self: flex-end;width: 50%;}#sk-e173ca87-ed29-4f67-ae2a-1d23cd9de869 div.sk-parallel-item:last-child::after {align-self: flex-start;width: 50%;}#sk-e173ca87-ed29-4f67-ae2a-1d23cd9de869 div.sk-parallel-item:only-child::after {width: 0;}#sk-e173ca87-ed29-4f67-ae2a-1d23cd9de869 div.sk-dashed-wrapped {border: 1px dashed gray;margin: 0 0.4em 0.5em 0.4em;box-sizing: border-box;padding-bottom: 0.4em;background-color: white;position: relative;}#sk-e173ca87-ed29-4f67-ae2a-1d23cd9de869 div.sk-label label {font-family: monospace;font-weight: bold;background-color: white;display: inline-block;line-height: 1.2em;}#sk-e173ca87-ed29-4f67-ae2a-1d23cd9de869 div.sk-label-container {position: relative;z-index: 2;text-align: center;}#sk-e173ca87-ed29-4f67-ae2a-1d23cd9de869 div.sk-container {display: inline-block;position: relative;}</style><div id=\"sk-e173ca87-ed29-4f67-ae2a-1d23cd9de869\" class\"sk-top-container\"><div class=\"sk-container\"><div class=\"sk-item sk-dashed-wrapped\"><div class=\"sk-label-container\"><div class=\"sk-label sk-toggleable\"><input class=\"sk-toggleable__control sk-hidden--visually\" id=\"f66bdcac-3b14-4c04-83f2-fde1ea19e229\" type=\"checkbox\" ><label class=\"sk-toggleable__label\" for=\"f66bdcac-3b14-4c04-83f2-fde1ea19e229\">MelusinePipeline</label><div class=\"sk-toggleable__content\"><pre>MelusinePipeline(steps=[('normalizer',\n",
       "                         Normalizer(input_columns=['text'],\n",
       "                                    output_columns=['text'])),\n",
       "                        ('text_flagger',\n",
       "                         DeterministicTextFlagger(input_columns=['text'],\n",
       "                                                  output_columns=['text'],\n",
       "                                                  text_flags={'\\\\d{10}': 'flag_phone'})),\n",
       "                        ('tokenizer',\n",
       "                         RegexTokenizer(input_columns=['text'],\n",
       "                                        output_columns=['tokens'],\n",
       "                                        stopwords={'le', 'les'})),\n",
       "                        ('lemmatizer',\n",
       "                         DummyLemma...\n",
       "                                         output_columns=('tokens',))),\n",
       "                        ('gensim_phraser',\n",
       "                         Phraser(input_columns=['tokens'],\n",
       "                                 output_columns=['tokens'])),\n",
       "                        ('token_flagger',\n",
       "                         FlashtextTokenFlagger(flashtext_separators=['-', '_',\n",
       "                                                                     '/'],\n",
       "                                               input_columns=['tokens'],\n",
       "                                               output_columns=['tokens'],\n",
       "                                               token_flags={'flag_name': ['joe',\n",
       "                                                                          'bob']})),\n",
       "                        ('w2v',\n",
       "                         Embedding(input_columns=['tokens'],\n",
       "                                   output_columns=['tokens']))],\n",
       "                 verbose=True)</pre></div></div></div><div class=\"sk-serial\"><div class=\"sk-item\"><div class=\"sk-estimator sk-toggleable\"><input class=\"sk-toggleable__control sk-hidden--visually\" id=\"41ba5add-f73c-4ba1-af8a-cf1506f30a5f\" type=\"checkbox\" ><label class=\"sk-toggleable__label\" for=\"41ba5add-f73c-4ba1-af8a-cf1506f30a5f\">Normalizer</label><div class=\"sk-toggleable__content\"><pre>Normalizer(input_columns=['text'], output_columns=['text'])</pre></div></div></div><div class=\"sk-item\"><div class=\"sk-estimator sk-toggleable\"><input class=\"sk-toggleable__control sk-hidden--visually\" id=\"eb4dc849-3b91-4e10-abab-772a9516e125\" type=\"checkbox\" ><label class=\"sk-toggleable__label\" for=\"eb4dc849-3b91-4e10-abab-772a9516e125\">DeterministicTextFlagger</label><div class=\"sk-toggleable__content\"><pre>DeterministicTextFlagger(input_columns=['text'], output_columns=['text'],\n",
       "                         text_flags={'\\\\d{10}': 'flag_phone'})</pre></div></div></div><div class=\"sk-item\"><div class=\"sk-estimator sk-toggleable\"><input class=\"sk-toggleable__control sk-hidden--visually\" id=\"c011a25a-6184-4e30-b717-1fe7ce74b481\" type=\"checkbox\" ><label class=\"sk-toggleable__label\" for=\"c011a25a-6184-4e30-b717-1fe7ce74b481\">RegexTokenizer</label><div class=\"sk-toggleable__content\"><pre>RegexTokenizer(input_columns=['text'], output_columns=['tokens'],\n",
       "               stopwords={'le', 'les'})</pre></div></div></div><div class=\"sk-item\"><div class=\"sk-estimator sk-toggleable\"><input class=\"sk-toggleable__control sk-hidden--visually\" id=\"4047ea3c-0156-4ecd-94d6-1b2d59c0f5bb\" type=\"checkbox\" ><label class=\"sk-toggleable__label\" for=\"4047ea3c-0156-4ecd-94d6-1b2d59c0f5bb\">DummyLemmatizer</label><div class=\"sk-toggleable__content\"><pre>DummyLemmatizer(input_columns=('tokens',), output_columns=('tokens',))</pre></div></div></div><div class=\"sk-item\"><div class=\"sk-estimator sk-toggleable\"><input class=\"sk-toggleable__control sk-hidden--visually\" id=\"892c7e90-aea9-4275-9bf2-a42c341ec722\" type=\"checkbox\" ><label class=\"sk-toggleable__label\" for=\"892c7e90-aea9-4275-9bf2-a42c341ec722\">Phraser</label><div class=\"sk-toggleable__content\"><pre>Phraser(input_columns=['tokens'], output_columns=['tokens'])</pre></div></div></div><div class=\"sk-item\"><div class=\"sk-estimator sk-toggleable\"><input class=\"sk-toggleable__control sk-hidden--visually\" id=\"148e40a7-4b05-467c-aa9f-1da7430631ba\" type=\"checkbox\" ><label class=\"sk-toggleable__label\" for=\"148e40a7-4b05-467c-aa9f-1da7430631ba\">FlashtextTokenFlagger</label><div class=\"sk-toggleable__content\"><pre>FlashtextTokenFlagger(flashtext_separators=['-', '_', '/'],\n",
       "                      input_columns=['tokens'], output_columns=['tokens'],\n",
       "                      token_flags={'flag_name': ['joe', 'bob']})</pre></div></div></div><div class=\"sk-item\"><div class=\"sk-estimator sk-toggleable\"><input class=\"sk-toggleable__control sk-hidden--visually\" id=\"eead989f-5d5a-4fae-882e-e53242d16138\" type=\"checkbox\" ><label class=\"sk-toggleable__label\" for=\"eead989f-5d5a-4fae-882e-e53242d16138\">Embedding</label><div class=\"sk-toggleable__content\"><pre>Embedding(input_columns=['tokens'], output_columns=['tokens'])</pre></div></div></div></div></div></div></div>"
      ],
      "text/plain": [
       "MelusinePipeline(steps=[('normalizer',\n",
       "                         Normalizer(input_columns=['text'],\n",
       "                                    output_columns=['text'])),\n",
       "                        ('text_flagger',\n",
       "                         DeterministicTextFlagger(input_columns=['text'],\n",
       "                                                  output_columns=['text'],\n",
       "                                                  text_flags={'\\\\d{10}': 'flag_phone'})),\n",
       "                        ('tokenizer',\n",
       "                         RegexTokenizer(input_columns=['text'],\n",
       "                                        output_columns=['tokens'],\n",
       "                                        stopwords={'le', 'les'})),\n",
       "                        ('lemmatizer',\n",
       "                         DummyLemma...\n",
       "                                         output_columns=('tokens',))),\n",
       "                        ('gensim_phraser',\n",
       "                         Phraser(input_columns=['tokens'],\n",
       "                                 output_columns=['tokens'])),\n",
       "                        ('token_flagger',\n",
       "                         FlashtextTokenFlagger(flashtext_separators=['-', '_',\n",
       "                                                                     '/'],\n",
       "                                               input_columns=['tokens'],\n",
       "                                               output_columns=['tokens'],\n",
       "                                               token_flags={'flag_name': ['joe',\n",
       "                                                                          'bob']})),\n",
       "                        ('w2v',\n",
       "                         Embedding(input_columns=['tokens'],\n",
       "                                   output_columns=['tokens']))],\n",
       "                 verbose=True)"
      ]
     },
     "execution_count": 21,
     "metadata": {},
     "output_type": "execute_result"
    }
   ],
   "source": [
    "from sklearn import set_config\n",
    "\n",
    "set_config(display='diagram')\n",
    "m_pipe_reloaded"
   ]
  },
  {
   "cell_type": "markdown",
   "id": "c4daa5cd-9f8b-488b-b47f-093f285b542c",
   "metadata": {},
   "source": [
    "# Pipeline composition (3 layers !)"
   ]
  },
  {
   "cell_type": "code",
   "execution_count": 22,
   "id": "4ede9233-53e2-4df5-b703-ef805a8f279c",
   "metadata": {},
   "outputs": [],
   "source": [
    "p1 = MelusinePipeline([\n",
    "        (\"normalizer\", normalizer),\n",
    "        (\"text_flagger\", text_flagger),\n",
    "        (\"tokenizer\", tokenizer),\n",
    "],\n",
    "    verbose=True\n",
    ")\n",
    "p2 = MelusinePipeline([\n",
    "        (\"lemmatizer\", lemmatizer),\n",
    "        (\"gensim_phraser\", phraser),\n",
    "],\n",
    "    verbose=True\n",
    ")\n",
    "p3 = MelusinePipeline([\n",
    "        (\"token_flagger\", token_flagger),\n",
    "],\n",
    "    verbose=True\n",
    ")"
   ]
  },
  {
   "cell_type": "code",
   "execution_count": 23,
   "id": "41438b65-cabe-4024-8aae-d33419e53e35",
   "metadata": {},
   "outputs": [],
   "source": [
    "p12 = MelusinePipeline([(\"text_pipe\", p1), (\"token_pipe\", p2)])\n",
    "p123 = MelusinePipeline([(\"p12\", p12), (\"p3\", p3)])"
   ]
  },
  {
   "cell_type": "code",
   "execution_count": 24,
   "id": "e30bf09d-c525-4ab2-ba2d-526724ae798a",
   "metadata": {},
   "outputs": [
    {
     "data": {
      "text/html": [
       "<div>\n",
       "<style scoped>\n",
       "    .dataframe tbody tr th:only-of-type {\n",
       "        vertical-align: middle;\n",
       "    }\n",
       "\n",
       "    .dataframe tbody tr th {\n",
       "        vertical-align: top;\n",
       "    }\n",
       "\n",
       "    .dataframe thead th {\n",
       "        text-align: right;\n",
       "    }\n",
       "</style>\n",
       "<table border=\"1\" class=\"dataframe\">\n",
       "  <thead>\n",
       "    <tr style=\"text-align: right;\">\n",
       "      <th></th>\n",
       "      <th>body</th>\n",
       "      <th>header</th>\n",
       "      <th>date</th>\n",
       "      <th>from</th>\n",
       "      <th>to</th>\n",
       "      <th>attachment</th>\n",
       "      <th>sexe</th>\n",
       "      <th>age</th>\n",
       "      <th>label</th>\n",
       "      <th>is_begin_by_transfer</th>\n",
       "      <th>...</th>\n",
       "      <th>min__45</th>\n",
       "      <th>min__49</th>\n",
       "      <th>min__52</th>\n",
       "      <th>min__54</th>\n",
       "      <th>min__56</th>\n",
       "      <th>min__58</th>\n",
       "      <th>attachment_type__0</th>\n",
       "      <th>attachment_type__1</th>\n",
       "      <th>text</th>\n",
       "      <th>tokens</th>\n",
       "    </tr>\n",
       "  </thead>\n",
       "  <tbody>\n",
       "    <tr>\n",
       "      <th>0</th>\n",
       "      <td>\\n  \\n  \\n  \\n Bonjour \\n Je suis client chez...</td>\n",
       "      <td>Devis habitation</td>\n",
       "      <td>2018-05-24 11:36:00</td>\n",
       "      <td>Dupont &lt;monsieurdupont@extensiona.com&gt;</td>\n",
       "      <td>conseiller@Societeimaginaire.fr</td>\n",
       "      <td>[]</td>\n",
       "      <td>F</td>\n",
       "      <td>35</td>\n",
       "      <td>habitation</td>\n",
       "      <td>True</td>\n",
       "      <td>...</td>\n",
       "      <td>0</td>\n",
       "      <td>0</td>\n",
       "      <td>0</td>\n",
       "      <td>0</td>\n",
       "      <td>0</td>\n",
       "      <td>0</td>\n",
       "      <td>0</td>\n",
       "      <td>1</td>\n",
       "      <td>\\n  \\n  \\n  \\n bonjour \\n je suis client chez...</td>\n",
       "      <td>[bonjour_je, sui, client, chez, vou, pouvez, v...</td>\n",
       "    </tr>\n",
       "    <tr>\n",
       "      <th>1</th>\n",
       "      <td>\\n  \\n  \\n  \\n Bonsoir madame, \\n  \\n Je vous...</td>\n",
       "      <td>Immatriculation voiture</td>\n",
       "      <td>2018-05-24 19:37:00</td>\n",
       "      <td>Dupont &lt;monsieurdupont@extensiona.com&gt;</td>\n",
       "      <td>conseiller@Societeimaginaire.fr</td>\n",
       "      <td>[\"pj.pdf\"]</td>\n",
       "      <td>M</td>\n",
       "      <td>32</td>\n",
       "      <td>vehicule</td>\n",
       "      <td>True</td>\n",
       "      <td>...</td>\n",
       "      <td>0</td>\n",
       "      <td>0</td>\n",
       "      <td>0</td>\n",
       "      <td>0</td>\n",
       "      <td>0</td>\n",
       "      <td>0</td>\n",
       "      <td>1</td>\n",
       "      <td>0</td>\n",
       "      <td>\\n  \\n  \\n  \\n bonsoir madame, \\n  \\n je vous...</td>\n",
       "      <td>[bonsoir, madame_je, vou, informe, que, la_nou...</td>\n",
       "    </tr>\n",
       "  </tbody>\n",
       "</table>\n",
       "<p>2 rows × 85 columns</p>\n",
       "</div>"
      ],
      "text/plain": [
       "                                                body                   header  \\\n",
       "0   \\n  \\n  \\n  \\n Bonjour \\n Je suis client chez...         Devis habitation   \n",
       "1   \\n  \\n  \\n  \\n Bonsoir madame, \\n  \\n Je vous...  Immatriculation voiture   \n",
       "\n",
       "                  date                                    from  \\\n",
       "0  2018-05-24 11:36:00  Dupont <monsieurdupont@extensiona.com>   \n",
       "1  2018-05-24 19:37:00  Dupont <monsieurdupont@extensiona.com>   \n",
       "\n",
       "                                to  attachment sexe  age       label  \\\n",
       "0  conseiller@Societeimaginaire.fr          []    F   35  habitation   \n",
       "1  conseiller@Societeimaginaire.fr  [\"pj.pdf\"]    M   32    vehicule   \n",
       "\n",
       "   is_begin_by_transfer  ...  min__45  min__49 min__52 min__54 min__56  \\\n",
       "0                  True  ...        0        0       0       0       0   \n",
       "1                  True  ...        0        0       0       0       0   \n",
       "\n",
       "  min__58 attachment_type__0  attachment_type__1  \\\n",
       "0       0                  0                   1   \n",
       "1       0                  1                   0   \n",
       "\n",
       "                                                text  \\\n",
       "0   \\n  \\n  \\n  \\n bonjour \\n je suis client chez...   \n",
       "1   \\n  \\n  \\n  \\n bonsoir madame, \\n  \\n je vous...   \n",
       "\n",
       "                                              tokens  \n",
       "0  [bonjour_je, sui, client, chez, vou, pouvez, v...  \n",
       "1  [bonsoir, madame_je, vou, informe, que, la_nou...  \n",
       "\n",
       "[2 rows x 85 columns]"
      ]
     },
     "execution_count": 24,
     "metadata": {},
     "output_type": "execute_result"
    }
   ],
   "source": [
    "p123.transform(df).head(2)"
   ]
  },
  {
   "cell_type": "code",
   "execution_count": 25,
   "id": "f67e16a9-f9bc-4274-95e5-d30dd25ef98a",
   "metadata": {},
   "outputs": [
    {
     "data": {
      "text/html": [
       "<style>#sk-96879ec6-d355-4201-9212-40d5ac435c33 {color: black;background-color: white;}#sk-96879ec6-d355-4201-9212-40d5ac435c33 pre{padding: 0;}#sk-96879ec6-d355-4201-9212-40d5ac435c33 div.sk-toggleable {background-color: white;}#sk-96879ec6-d355-4201-9212-40d5ac435c33 label.sk-toggleable__label {cursor: pointer;display: block;width: 100%;margin-bottom: 0;padding: 0.3em;box-sizing: border-box;text-align: center;}#sk-96879ec6-d355-4201-9212-40d5ac435c33 div.sk-toggleable__content {max-height: 0;max-width: 0;overflow: hidden;text-align: left;background-color: #f0f8ff;}#sk-96879ec6-d355-4201-9212-40d5ac435c33 div.sk-toggleable__content pre {margin: 0.2em;color: black;border-radius: 0.25em;background-color: #f0f8ff;}#sk-96879ec6-d355-4201-9212-40d5ac435c33 input.sk-toggleable__control:checked~div.sk-toggleable__content {max-height: 200px;max-width: 100%;overflow: auto;}#sk-96879ec6-d355-4201-9212-40d5ac435c33 div.sk-estimator input.sk-toggleable__control:checked~label.sk-toggleable__label {background-color: #d4ebff;}#sk-96879ec6-d355-4201-9212-40d5ac435c33 div.sk-label input.sk-toggleable__control:checked~label.sk-toggleable__label {background-color: #d4ebff;}#sk-96879ec6-d355-4201-9212-40d5ac435c33 input.sk-hidden--visually {border: 0;clip: rect(1px 1px 1px 1px);clip: rect(1px, 1px, 1px, 1px);height: 1px;margin: -1px;overflow: hidden;padding: 0;position: absolute;width: 1px;}#sk-96879ec6-d355-4201-9212-40d5ac435c33 div.sk-estimator {font-family: monospace;background-color: #f0f8ff;border: 1px dotted black;border-radius: 0.25em;box-sizing: border-box;margin-bottom: 0.5em;}#sk-96879ec6-d355-4201-9212-40d5ac435c33 div.sk-estimator:hover {background-color: #d4ebff;}#sk-96879ec6-d355-4201-9212-40d5ac435c33 div.sk-parallel-item::after {content: \"\";width: 100%;border-bottom: 1px solid gray;flex-grow: 1;}#sk-96879ec6-d355-4201-9212-40d5ac435c33 div.sk-label:hover label.sk-toggleable__label {background-color: #d4ebff;}#sk-96879ec6-d355-4201-9212-40d5ac435c33 div.sk-serial::before {content: \"\";position: absolute;border-left: 1px solid gray;box-sizing: border-box;top: 2em;bottom: 0;left: 50%;}#sk-96879ec6-d355-4201-9212-40d5ac435c33 div.sk-serial {display: flex;flex-direction: column;align-items: center;background-color: white;padding-right: 0.2em;padding-left: 0.2em;}#sk-96879ec6-d355-4201-9212-40d5ac435c33 div.sk-item {z-index: 1;}#sk-96879ec6-d355-4201-9212-40d5ac435c33 div.sk-parallel {display: flex;align-items: stretch;justify-content: center;background-color: white;}#sk-96879ec6-d355-4201-9212-40d5ac435c33 div.sk-parallel::before {content: \"\";position: absolute;border-left: 1px solid gray;box-sizing: border-box;top: 2em;bottom: 0;left: 50%;}#sk-96879ec6-d355-4201-9212-40d5ac435c33 div.sk-parallel-item {display: flex;flex-direction: column;position: relative;background-color: white;}#sk-96879ec6-d355-4201-9212-40d5ac435c33 div.sk-parallel-item:first-child::after {align-self: flex-end;width: 50%;}#sk-96879ec6-d355-4201-9212-40d5ac435c33 div.sk-parallel-item:last-child::after {align-self: flex-start;width: 50%;}#sk-96879ec6-d355-4201-9212-40d5ac435c33 div.sk-parallel-item:only-child::after {width: 0;}#sk-96879ec6-d355-4201-9212-40d5ac435c33 div.sk-dashed-wrapped {border: 1px dashed gray;margin: 0 0.4em 0.5em 0.4em;box-sizing: border-box;padding-bottom: 0.4em;background-color: white;position: relative;}#sk-96879ec6-d355-4201-9212-40d5ac435c33 div.sk-label label {font-family: monospace;font-weight: bold;background-color: white;display: inline-block;line-height: 1.2em;}#sk-96879ec6-d355-4201-9212-40d5ac435c33 div.sk-label-container {position: relative;z-index: 2;text-align: center;}#sk-96879ec6-d355-4201-9212-40d5ac435c33 div.sk-container {display: inline-block;position: relative;}</style><div id=\"sk-96879ec6-d355-4201-9212-40d5ac435c33\" class\"sk-top-container\"><div class=\"sk-container\"><div class=\"sk-item sk-dashed-wrapped\"><div class=\"sk-label-container\"><div class=\"sk-label sk-toggleable\"><input class=\"sk-toggleable__control sk-hidden--visually\" id=\"0bb40161-dd9c-4f1e-bc75-08e9c11c28bb\" type=\"checkbox\" ><label class=\"sk-toggleable__label\" for=\"0bb40161-dd9c-4f1e-bc75-08e9c11c28bb\">MelusinePipeline</label><div class=\"sk-toggleable__content\"><pre>MelusinePipeline(steps=[('p12',\n",
       "                         MelusinePipeline(steps=[('text_pipe',\n",
       "                                                  MelusinePipeline(steps=[('normalizer',\n",
       "                                                                           Normalizer(form='NFD',\n",
       "                                                                                      input_columns=['text'],\n",
       "                                                                                      output_columns=['text'])),\n",
       "                                                                          ('text_flagger',\n",
       "                                                                           DeterministicTextFlagger(input_columns=('text',),\n",
       "                                                                                                    output_columns=('text',),\n",
       "                                                                                                    text_flags={'\\\\d{10}': 'flag_phone'})),\n",
       "                                                                          ('tokenizer',\n",
       "                                                                           RegexTokenizer(input_columns=('t...\n",
       "                                                                           DummyLemmatizer(input_columns=('tokens',),\n",
       "                                                                                           output_columns=('tokens',))),\n",
       "                                                                          ('gensim_phraser',\n",
       "                                                                           Phraser(input_columns=['tokens'],\n",
       "                                                                                   output_columns=['tokens']))],\n",
       "                                                                   verbose=True))])),\n",
       "                        ('p3',\n",
       "                         MelusinePipeline(steps=[('token_flagger',\n",
       "                                                  FlashtextTokenFlagger(input_columns=('tokens',),\n",
       "                                                                        output_columns=('tokens',),\n",
       "                                                                        token_flags={'flag_name': ['joe',\n",
       "                                                                                                   'bob']}))],\n",
       "                                          verbose=True))])</pre></div></div></div><div class=\"sk-serial\"><div class=\"sk-item\"><div class=\"sk-label-container\"><div class=\"sk-label sk-toggleable\"><input class=\"sk-toggleable__control sk-hidden--visually\" id=\"22d6b9c5-23a3-4a3a-b9e9-76308974b15e\" type=\"checkbox\" ><label class=\"sk-toggleable__label\" for=\"22d6b9c5-23a3-4a3a-b9e9-76308974b15e\">p12: MelusinePipeline</label><div class=\"sk-toggleable__content\"><pre>MelusinePipeline(steps=[('text_pipe',\n",
       "                         MelusinePipeline(steps=[('normalizer',\n",
       "                                                  Normalizer(form='NFD',\n",
       "                                                             input_columns=['text'],\n",
       "                                                             output_columns=['text'])),\n",
       "                                                 ('text_flagger',\n",
       "                                                  DeterministicTextFlagger(input_columns=('text',),\n",
       "                                                                           output_columns=('text',),\n",
       "                                                                           text_flags={'\\\\d{10}': 'flag_phone'})),\n",
       "                                                 ('tokenizer',\n",
       "                                                  RegexTokenizer(input_columns=('text',),\n",
       "                                                                 output_columns=('tokens',),\n",
       "                                                                 stopwords={'le',\n",
       "                                                                            'les'}))],\n",
       "                                          verbose=True)),\n",
       "                        ('token_pipe',\n",
       "                         MelusinePipeline(steps=[('lemmatizer',\n",
       "                                                  DummyLemmatizer(input_columns=('tokens',),\n",
       "                                                                  output_columns=('tokens',))),\n",
       "                                                 ('gensim_phraser',\n",
       "                                                  Phraser(input_columns=['tokens'],\n",
       "                                                          output_columns=['tokens']))],\n",
       "                                          verbose=True))])</pre></div></div></div><div class=\"sk-serial\"><div class=\"sk-item\"><div class=\"sk-label-container\"><div class=\"sk-label sk-toggleable\"><input class=\"sk-toggleable__control sk-hidden--visually\" id=\"a968b746-5e04-4db8-a722-376865e67dec\" type=\"checkbox\" ><label class=\"sk-toggleable__label\" for=\"a968b746-5e04-4db8-a722-376865e67dec\">text_pipe: MelusinePipeline</label><div class=\"sk-toggleable__content\"><pre>MelusinePipeline(steps=[('normalizer',\n",
       "                         Normalizer(form='NFD', input_columns=['text'],\n",
       "                                    output_columns=['text'])),\n",
       "                        ('text_flagger',\n",
       "                         DeterministicTextFlagger(input_columns=('text',),\n",
       "                                                  output_columns=('text',),\n",
       "                                                  text_flags={'\\\\d{10}': 'flag_phone'})),\n",
       "                        ('tokenizer',\n",
       "                         RegexTokenizer(input_columns=('text',),\n",
       "                                        output_columns=('tokens',),\n",
       "                                        stopwords={'les', 'le'}))],\n",
       "                 verbose=True)</pre></div></div></div><div class=\"sk-serial\"><div class=\"sk-item\"><div class=\"sk-estimator sk-toggleable\"><input class=\"sk-toggleable__control sk-hidden--visually\" id=\"296f32e5-ee13-4fb2-b085-3e0a24b18cf8\" type=\"checkbox\" ><label class=\"sk-toggleable__label\" for=\"296f32e5-ee13-4fb2-b085-3e0a24b18cf8\">Normalizer</label><div class=\"sk-toggleable__content\"><pre>Normalizer(form='NFD', input_columns=['text'], output_columns=['text'])</pre></div></div></div><div class=\"sk-item\"><div class=\"sk-estimator sk-toggleable\"><input class=\"sk-toggleable__control sk-hidden--visually\" id=\"47dd1c0e-20c0-4d30-b015-6defa5c4af58\" type=\"checkbox\" ><label class=\"sk-toggleable__label\" for=\"47dd1c0e-20c0-4d30-b015-6defa5c4af58\">DeterministicTextFlagger</label><div class=\"sk-toggleable__content\"><pre>DeterministicTextFlagger(input_columns=('text',), output_columns=('text',),\n",
       "                         text_flags={'\\\\d{10}': 'flag_phone'})</pre></div></div></div><div class=\"sk-item\"><div class=\"sk-estimator sk-toggleable\"><input class=\"sk-toggleable__control sk-hidden--visually\" id=\"503e1e9d-38c7-4fe3-be58-4b6526ba5f6b\" type=\"checkbox\" ><label class=\"sk-toggleable__label\" for=\"503e1e9d-38c7-4fe3-be58-4b6526ba5f6b\">RegexTokenizer</label><div class=\"sk-toggleable__content\"><pre>RegexTokenizer(input_columns=('text',), output_columns=('tokens',),\n",
       "               stopwords={'les', 'le'})</pre></div></div></div></div></div><div class=\"sk-item\"><div class=\"sk-label-container\"><div class=\"sk-label sk-toggleable\"><input class=\"sk-toggleable__control sk-hidden--visually\" id=\"52f90f49-a586-4ca2-bd6c-3ae05319ea94\" type=\"checkbox\" ><label class=\"sk-toggleable__label\" for=\"52f90f49-a586-4ca2-bd6c-3ae05319ea94\">token_pipe: MelusinePipeline</label><div class=\"sk-toggleable__content\"><pre>MelusinePipeline(steps=[('lemmatizer',\n",
       "                         DummyLemmatizer(input_columns=('tokens',),\n",
       "                                         output_columns=('tokens',))),\n",
       "                        ('gensim_phraser',\n",
       "                         Phraser(input_columns=['tokens'],\n",
       "                                 output_columns=['tokens']))],\n",
       "                 verbose=True)</pre></div></div></div><div class=\"sk-serial\"><div class=\"sk-item\"><div class=\"sk-estimator sk-toggleable\"><input class=\"sk-toggleable__control sk-hidden--visually\" id=\"cedab799-b0a0-449c-b09a-434129c8771b\" type=\"checkbox\" ><label class=\"sk-toggleable__label\" for=\"cedab799-b0a0-449c-b09a-434129c8771b\">DummyLemmatizer</label><div class=\"sk-toggleable__content\"><pre>DummyLemmatizer(input_columns=('tokens',), output_columns=('tokens',))</pre></div></div></div><div class=\"sk-item\"><div class=\"sk-estimator sk-toggleable\"><input class=\"sk-toggleable__control sk-hidden--visually\" id=\"56bedf30-9a43-4fab-b6ce-399b629c6512\" type=\"checkbox\" ><label class=\"sk-toggleable__label\" for=\"56bedf30-9a43-4fab-b6ce-399b629c6512\">Phraser</label><div class=\"sk-toggleable__content\"><pre>Phraser(input_columns=['tokens'], output_columns=['tokens'])</pre></div></div></div></div></div></div></div><div class=\"sk-item\"><div class=\"sk-label-container\"><div class=\"sk-label sk-toggleable\"><input class=\"sk-toggleable__control sk-hidden--visually\" id=\"bf36c94d-da34-41e9-abd2-2ffcd9ec8ef4\" type=\"checkbox\" ><label class=\"sk-toggleable__label\" for=\"bf36c94d-da34-41e9-abd2-2ffcd9ec8ef4\">p3: MelusinePipeline</label><div class=\"sk-toggleable__content\"><pre>MelusinePipeline(steps=[('token_flagger',\n",
       "                         FlashtextTokenFlagger(input_columns=('tokens',),\n",
       "                                               output_columns=('tokens',),\n",
       "                                               token_flags={'flag_name': ['joe',\n",
       "                                                                          'bob']}))],\n",
       "                 verbose=True)</pre></div></div></div><div class=\"sk-serial\"><div class=\"sk-item\"><div class=\"sk-estimator sk-toggleable\"><input class=\"sk-toggleable__control sk-hidden--visually\" id=\"41183da9-45c4-4f95-9a6c-f5b41f7f9ecb\" type=\"checkbox\" ><label class=\"sk-toggleable__label\" for=\"41183da9-45c4-4f95-9a6c-f5b41f7f9ecb\">FlashtextTokenFlagger</label><div class=\"sk-toggleable__content\"><pre>FlashtextTokenFlagger(input_columns=('tokens',), output_columns=('tokens',),\n",
       "                      token_flags={'flag_name': ['joe', 'bob']})</pre></div></div></div></div></div></div></div></div></div>"
      ],
      "text/plain": [
       "MelusinePipeline(steps=[('p12',\n",
       "                         MelusinePipeline(steps=[('text_pipe',\n",
       "                                                  MelusinePipeline(steps=[('normalizer',\n",
       "                                                                           Normalizer(form='NFD',\n",
       "                                                                                      input_columns=['text'],\n",
       "                                                                                      output_columns=['text'])),\n",
       "                                                                          ('text_flagger',\n",
       "                                                                           DeterministicTextFlagger(input_columns=('text',),\n",
       "                                                                                                    output_columns=('text',),\n",
       "                                                                                                    text_flags={'\\\\d{10}': 'flag_phone'})),\n",
       "                                                                          ('tokenizer',\n",
       "                                                                           RegexTokenizer(input_columns=('t...\n",
       "                                                                           DummyLemmatizer(input_columns=('tokens',),\n",
       "                                                                                           output_columns=('tokens',))),\n",
       "                                                                          ('gensim_phraser',\n",
       "                                                                           Phraser(input_columns=['tokens'],\n",
       "                                                                                   output_columns=['tokens']))],\n",
       "                                                                   verbose=True))])),\n",
       "                        ('p3',\n",
       "                         MelusinePipeline(steps=[('token_flagger',\n",
       "                                                  FlashtextTokenFlagger(input_columns=('tokens',),\n",
       "                                                                        output_columns=('tokens',),\n",
       "                                                                        token_flags={'flag_name': ['joe',\n",
       "                                                                                                   'bob']}))],\n",
       "                                          verbose=True))])"
      ]
     },
     "execution_count": 25,
     "metadata": {},
     "output_type": "execute_result"
    }
   ],
   "source": [
    "p123"
   ]
  },
  {
   "cell_type": "code",
   "execution_count": 50,
   "id": "6fd74854-05aa-4a4a-9cf5-e14e7ca18116",
   "metadata": {},
   "outputs": [],
   "source": [
    "p123.save(\"pipeline_compo\")"
   ]
  },
  {
   "cell_type": "code",
   "execution_count": 27,
   "id": "b68c2250-1bb9-4f15-ba20-aac23e460e1b",
   "metadata": {},
   "outputs": [
    {
     "data": {
      "text/html": [
       "<style>#sk-0881d326-2426-4a60-ad2d-2ea9cfd9ce13 {color: black;background-color: white;}#sk-0881d326-2426-4a60-ad2d-2ea9cfd9ce13 pre{padding: 0;}#sk-0881d326-2426-4a60-ad2d-2ea9cfd9ce13 div.sk-toggleable {background-color: white;}#sk-0881d326-2426-4a60-ad2d-2ea9cfd9ce13 label.sk-toggleable__label {cursor: pointer;display: block;width: 100%;margin-bottom: 0;padding: 0.3em;box-sizing: border-box;text-align: center;}#sk-0881d326-2426-4a60-ad2d-2ea9cfd9ce13 div.sk-toggleable__content {max-height: 0;max-width: 0;overflow: hidden;text-align: left;background-color: #f0f8ff;}#sk-0881d326-2426-4a60-ad2d-2ea9cfd9ce13 div.sk-toggleable__content pre {margin: 0.2em;color: black;border-radius: 0.25em;background-color: #f0f8ff;}#sk-0881d326-2426-4a60-ad2d-2ea9cfd9ce13 input.sk-toggleable__control:checked~div.sk-toggleable__content {max-height: 200px;max-width: 100%;overflow: auto;}#sk-0881d326-2426-4a60-ad2d-2ea9cfd9ce13 div.sk-estimator input.sk-toggleable__control:checked~label.sk-toggleable__label {background-color: #d4ebff;}#sk-0881d326-2426-4a60-ad2d-2ea9cfd9ce13 div.sk-label input.sk-toggleable__control:checked~label.sk-toggleable__label {background-color: #d4ebff;}#sk-0881d326-2426-4a60-ad2d-2ea9cfd9ce13 input.sk-hidden--visually {border: 0;clip: rect(1px 1px 1px 1px);clip: rect(1px, 1px, 1px, 1px);height: 1px;margin: -1px;overflow: hidden;padding: 0;position: absolute;width: 1px;}#sk-0881d326-2426-4a60-ad2d-2ea9cfd9ce13 div.sk-estimator {font-family: monospace;background-color: #f0f8ff;border: 1px dotted black;border-radius: 0.25em;box-sizing: border-box;margin-bottom: 0.5em;}#sk-0881d326-2426-4a60-ad2d-2ea9cfd9ce13 div.sk-estimator:hover {background-color: #d4ebff;}#sk-0881d326-2426-4a60-ad2d-2ea9cfd9ce13 div.sk-parallel-item::after {content: \"\";width: 100%;border-bottom: 1px solid gray;flex-grow: 1;}#sk-0881d326-2426-4a60-ad2d-2ea9cfd9ce13 div.sk-label:hover label.sk-toggleable__label {background-color: #d4ebff;}#sk-0881d326-2426-4a60-ad2d-2ea9cfd9ce13 div.sk-serial::before {content: \"\";position: absolute;border-left: 1px solid gray;box-sizing: border-box;top: 2em;bottom: 0;left: 50%;}#sk-0881d326-2426-4a60-ad2d-2ea9cfd9ce13 div.sk-serial {display: flex;flex-direction: column;align-items: center;background-color: white;padding-right: 0.2em;padding-left: 0.2em;}#sk-0881d326-2426-4a60-ad2d-2ea9cfd9ce13 div.sk-item {z-index: 1;}#sk-0881d326-2426-4a60-ad2d-2ea9cfd9ce13 div.sk-parallel {display: flex;align-items: stretch;justify-content: center;background-color: white;}#sk-0881d326-2426-4a60-ad2d-2ea9cfd9ce13 div.sk-parallel::before {content: \"\";position: absolute;border-left: 1px solid gray;box-sizing: border-box;top: 2em;bottom: 0;left: 50%;}#sk-0881d326-2426-4a60-ad2d-2ea9cfd9ce13 div.sk-parallel-item {display: flex;flex-direction: column;position: relative;background-color: white;}#sk-0881d326-2426-4a60-ad2d-2ea9cfd9ce13 div.sk-parallel-item:first-child::after {align-self: flex-end;width: 50%;}#sk-0881d326-2426-4a60-ad2d-2ea9cfd9ce13 div.sk-parallel-item:last-child::after {align-self: flex-start;width: 50%;}#sk-0881d326-2426-4a60-ad2d-2ea9cfd9ce13 div.sk-parallel-item:only-child::after {width: 0;}#sk-0881d326-2426-4a60-ad2d-2ea9cfd9ce13 div.sk-dashed-wrapped {border: 1px dashed gray;margin: 0 0.4em 0.5em 0.4em;box-sizing: border-box;padding-bottom: 0.4em;background-color: white;position: relative;}#sk-0881d326-2426-4a60-ad2d-2ea9cfd9ce13 div.sk-label label {font-family: monospace;font-weight: bold;background-color: white;display: inline-block;line-height: 1.2em;}#sk-0881d326-2426-4a60-ad2d-2ea9cfd9ce13 div.sk-label-container {position: relative;z-index: 2;text-align: center;}#sk-0881d326-2426-4a60-ad2d-2ea9cfd9ce13 div.sk-container {display: inline-block;position: relative;}</style><div id=\"sk-0881d326-2426-4a60-ad2d-2ea9cfd9ce13\" class\"sk-top-container\"><div class=\"sk-container\"><div class=\"sk-item sk-dashed-wrapped\"><div class=\"sk-label-container\"><div class=\"sk-label sk-toggleable\"><input class=\"sk-toggleable__control sk-hidden--visually\" id=\"f7df18ec-b177-4d46-87b2-e33eee15c150\" type=\"checkbox\" ><label class=\"sk-toggleable__label\" for=\"f7df18ec-b177-4d46-87b2-e33eee15c150\">MelusinePipeline</label><div class=\"sk-toggleable__content\"><pre>MelusinePipeline(steps=[('p12',\n",
       "                         MelusinePipeline(steps=[('text_pipe',\n",
       "                                                  MelusinePipeline(steps=[('normalizer',\n",
       "                                                                           Normalizer(input_columns=['text'],\n",
       "                                                                                      output_columns=['text'])),\n",
       "                                                                          ('text_flagger',\n",
       "                                                                           DeterministicTextFlagger(input_columns=['text'],\n",
       "                                                                                                    output_columns=['text'],\n",
       "                                                                                                    text_flags={'\\\\d{10}': 'flag_phone'})),\n",
       "                                                                          ('tokenizer',\n",
       "                                                                           RegexTokenizer(input_columns=['text'],\n",
       "                                                                                          output_...\n",
       "                                                                           DummyLemmatizer(input_columns=('tokens',),\n",
       "                                                                                           output_columns=('tokens',))),\n",
       "                                                                          ('gensim_phraser',\n",
       "                                                                           Phraser(input_columns=['tokens'],\n",
       "                                                                                   output_columns=['tokens']))],\n",
       "                                                                   verbose=True))])),\n",
       "                        ('p3',\n",
       "                         MelusinePipeline(steps=[('token_flagger',\n",
       "                                                  FlashtextTokenFlagger(flashtext_separators=['-',\n",
       "                                                                                              '_',\n",
       "                                                                                              '/'],\n",
       "                                                                        input_columns=['tokens'],\n",
       "                                                                        output_columns=['tokens'],\n",
       "                                                                        token_flags={'flag_name': ['joe',\n",
       "                                                                                                   'bob']}))],\n",
       "                                          verbose=True))])</pre></div></div></div><div class=\"sk-serial\"><div class=\"sk-item\"><div class=\"sk-label-container\"><div class=\"sk-label sk-toggleable\"><input class=\"sk-toggleable__control sk-hidden--visually\" id=\"0df8f2d8-721d-4a60-8237-bc61a88d984b\" type=\"checkbox\" ><label class=\"sk-toggleable__label\" for=\"0df8f2d8-721d-4a60-8237-bc61a88d984b\">p12: MelusinePipeline</label><div class=\"sk-toggleable__content\"><pre>MelusinePipeline(steps=[('text_pipe',\n",
       "                         MelusinePipeline(steps=[('normalizer',\n",
       "                                                  Normalizer(input_columns=['text'],\n",
       "                                                             output_columns=['text'])),\n",
       "                                                 ('text_flagger',\n",
       "                                                  DeterministicTextFlagger(input_columns=['text'],\n",
       "                                                                           output_columns=['text'],\n",
       "                                                                           text_flags={'\\\\d{10}': 'flag_phone'})),\n",
       "                                                 ('tokenizer',\n",
       "                                                  RegexTokenizer(input_columns=['text'],\n",
       "                                                                 output_columns=['tokens'],\n",
       "                                                                 stopwords={'le',\n",
       "                                                                            'les'}))],\n",
       "                                          verbose=True)),\n",
       "                        ('token_pipe',\n",
       "                         MelusinePipeline(steps=[('lemmatizer',\n",
       "                                                  DummyLemmatizer(input_columns=('tokens',),\n",
       "                                                                  output_columns=('tokens',))),\n",
       "                                                 ('gensim_phraser',\n",
       "                                                  Phraser(input_columns=['tokens'],\n",
       "                                                          output_columns=['tokens']))],\n",
       "                                          verbose=True))])</pre></div></div></div><div class=\"sk-serial\"><div class=\"sk-item\"><div class=\"sk-label-container\"><div class=\"sk-label sk-toggleable\"><input class=\"sk-toggleable__control sk-hidden--visually\" id=\"8d6a2551-b2e8-46b0-880d-86e8517b2a6d\" type=\"checkbox\" ><label class=\"sk-toggleable__label\" for=\"8d6a2551-b2e8-46b0-880d-86e8517b2a6d\">text_pipe: MelusinePipeline</label><div class=\"sk-toggleable__content\"><pre>MelusinePipeline(steps=[('normalizer',\n",
       "                         Normalizer(input_columns=['text'],\n",
       "                                    output_columns=['text'])),\n",
       "                        ('text_flagger',\n",
       "                         DeterministicTextFlagger(input_columns=['text'],\n",
       "                                                  output_columns=['text'],\n",
       "                                                  text_flags={'\\\\d{10}': 'flag_phone'})),\n",
       "                        ('tokenizer',\n",
       "                         RegexTokenizer(input_columns=['text'],\n",
       "                                        output_columns=['tokens'],\n",
       "                                        stopwords={'le', 'les'}))],\n",
       "                 verbose=True)</pre></div></div></div><div class=\"sk-serial\"><div class=\"sk-item\"><div class=\"sk-estimator sk-toggleable\"><input class=\"sk-toggleable__control sk-hidden--visually\" id=\"6e1f7bf4-8511-40cd-a0a8-76fae73ade56\" type=\"checkbox\" ><label class=\"sk-toggleable__label\" for=\"6e1f7bf4-8511-40cd-a0a8-76fae73ade56\">Normalizer</label><div class=\"sk-toggleable__content\"><pre>Normalizer(input_columns=['text'], output_columns=['text'])</pre></div></div></div><div class=\"sk-item\"><div class=\"sk-estimator sk-toggleable\"><input class=\"sk-toggleable__control sk-hidden--visually\" id=\"c19f0fa0-77f0-4bc1-be88-eae19523954e\" type=\"checkbox\" ><label class=\"sk-toggleable__label\" for=\"c19f0fa0-77f0-4bc1-be88-eae19523954e\">DeterministicTextFlagger</label><div class=\"sk-toggleable__content\"><pre>DeterministicTextFlagger(input_columns=['text'], output_columns=['text'],\n",
       "                         text_flags={'\\\\d{10}': 'flag_phone'})</pre></div></div></div><div class=\"sk-item\"><div class=\"sk-estimator sk-toggleable\"><input class=\"sk-toggleable__control sk-hidden--visually\" id=\"7c849210-f298-494f-9961-0951aaaf8bdd\" type=\"checkbox\" ><label class=\"sk-toggleable__label\" for=\"7c849210-f298-494f-9961-0951aaaf8bdd\">RegexTokenizer</label><div class=\"sk-toggleable__content\"><pre>RegexTokenizer(input_columns=['text'], output_columns=['tokens'],\n",
       "               stopwords={'le', 'les'})</pre></div></div></div></div></div><div class=\"sk-item\"><div class=\"sk-label-container\"><div class=\"sk-label sk-toggleable\"><input class=\"sk-toggleable__control sk-hidden--visually\" id=\"c0932c21-277c-4af7-b273-e8a55706db36\" type=\"checkbox\" ><label class=\"sk-toggleable__label\" for=\"c0932c21-277c-4af7-b273-e8a55706db36\">token_pipe: MelusinePipeline</label><div class=\"sk-toggleable__content\"><pre>MelusinePipeline(steps=[('lemmatizer',\n",
       "                         DummyLemmatizer(input_columns=('tokens',),\n",
       "                                         output_columns=('tokens',))),\n",
       "                        ('gensim_phraser',\n",
       "                         Phraser(input_columns=['tokens'],\n",
       "                                 output_columns=['tokens']))],\n",
       "                 verbose=True)</pre></div></div></div><div class=\"sk-serial\"><div class=\"sk-item\"><div class=\"sk-estimator sk-toggleable\"><input class=\"sk-toggleable__control sk-hidden--visually\" id=\"22af71be-ae5b-4375-a478-2a47b75af348\" type=\"checkbox\" ><label class=\"sk-toggleable__label\" for=\"22af71be-ae5b-4375-a478-2a47b75af348\">DummyLemmatizer</label><div class=\"sk-toggleable__content\"><pre>DummyLemmatizer(input_columns=('tokens',), output_columns=('tokens',))</pre></div></div></div><div class=\"sk-item\"><div class=\"sk-estimator sk-toggleable\"><input class=\"sk-toggleable__control sk-hidden--visually\" id=\"fb50b4f0-d7b9-4eed-909e-1ef75dabff88\" type=\"checkbox\" ><label class=\"sk-toggleable__label\" for=\"fb50b4f0-d7b9-4eed-909e-1ef75dabff88\">Phraser</label><div class=\"sk-toggleable__content\"><pre>Phraser(input_columns=['tokens'], output_columns=['tokens'])</pre></div></div></div></div></div></div></div><div class=\"sk-item\"><div class=\"sk-label-container\"><div class=\"sk-label sk-toggleable\"><input class=\"sk-toggleable__control sk-hidden--visually\" id=\"39f627b4-9fdd-46f6-a1c7-2c4cbdf45c0a\" type=\"checkbox\" ><label class=\"sk-toggleable__label\" for=\"39f627b4-9fdd-46f6-a1c7-2c4cbdf45c0a\">p3: MelusinePipeline</label><div class=\"sk-toggleable__content\"><pre>MelusinePipeline(steps=[('token_flagger',\n",
       "                         FlashtextTokenFlagger(flashtext_separators=['-', '_',\n",
       "                                                                     '/'],\n",
       "                                               input_columns=['tokens'],\n",
       "                                               output_columns=['tokens'],\n",
       "                                               token_flags={'flag_name': ['joe',\n",
       "                                                                          'bob']}))],\n",
       "                 verbose=True)</pre></div></div></div><div class=\"sk-serial\"><div class=\"sk-item\"><div class=\"sk-estimator sk-toggleable\"><input class=\"sk-toggleable__control sk-hidden--visually\" id=\"39e34b65-f581-4696-a4ba-cac686f3ecac\" type=\"checkbox\" ><label class=\"sk-toggleable__label\" for=\"39e34b65-f581-4696-a4ba-cac686f3ecac\">FlashtextTokenFlagger</label><div class=\"sk-toggleable__content\"><pre>FlashtextTokenFlagger(flashtext_separators=['-', '_', '/'],\n",
       "                      input_columns=['tokens'], output_columns=['tokens'],\n",
       "                      token_flags={'flag_name': ['joe', 'bob']})</pre></div></div></div></div></div></div></div></div></div>"
      ],
      "text/plain": [
       "MelusinePipeline(steps=[('p12',\n",
       "                         MelusinePipeline(steps=[('text_pipe',\n",
       "                                                  MelusinePipeline(steps=[('normalizer',\n",
       "                                                                           Normalizer(input_columns=['text'],\n",
       "                                                                                      output_columns=['text'])),\n",
       "                                                                          ('text_flagger',\n",
       "                                                                           DeterministicTextFlagger(input_columns=['text'],\n",
       "                                                                                                    output_columns=['text'],\n",
       "                                                                                                    text_flags={'\\\\d{10}': 'flag_phone'})),\n",
       "                                                                          ('tokenizer',\n",
       "                                                                           RegexTokenizer(input_columns=['text'],\n",
       "                                                                                          output_...\n",
       "                                                                           DummyLemmatizer(input_columns=('tokens',),\n",
       "                                                                                           output_columns=('tokens',))),\n",
       "                                                                          ('gensim_phraser',\n",
       "                                                                           Phraser(input_columns=['tokens'],\n",
       "                                                                                   output_columns=['tokens']))],\n",
       "                                                                   verbose=True))])),\n",
       "                        ('p3',\n",
       "                         MelusinePipeline(steps=[('token_flagger',\n",
       "                                                  FlashtextTokenFlagger(flashtext_separators=['-',\n",
       "                                                                                              '_',\n",
       "                                                                                              '/'],\n",
       "                                                                        input_columns=['tokens'],\n",
       "                                                                        output_columns=['tokens'],\n",
       "                                                                        token_flags={'flag_name': ['joe',\n",
       "                                                                                                   'bob']}))],\n",
       "                                          verbose=True))])"
      ]
     },
     "execution_count": 27,
     "metadata": {},
     "output_type": "execute_result"
    }
   ],
   "source": [
    "p123_reloaded = MelusinePipeline.load(\"pipeline_compo\")\n",
    "p123_reloaded"
   ]
  },
  {
   "cell_type": "code",
   "execution_count": 28,
   "id": "33a60926-4d0a-41a6-b4fb-7014e61f2b63",
   "metadata": {},
   "outputs": [
    {
     "name": "stdout",
     "output_type": "stream",
     "text": [
      "False\n"
     ]
    },
    {
     "data": {
      "text/plain": [
       "['bonjour_je',\n",
       " 'sui',\n",
       " 'client',\n",
       " 'chez',\n",
       " 'vou',\n",
       " 'pouvez',\n",
       " 'vou',\n",
       " 'm',\n",
       " 'etablir',\n",
       " 'un_devi',\n",
       " 'pour',\n",
       " 'mon',\n",
       " 'fil',\n",
       " 'qui',\n",
       " 'souhaite',\n",
       " 'louer',\n",
       " 'lappartement',\n",
       " 'suivant',\n",
       " '25',\n",
       " 'rue',\n",
       " 'du',\n",
       " 'rueimaginaire',\n",
       " '77000',\n",
       " 'merci',\n",
       " 'envoye_de',\n",
       " 'mon_iphone']"
      ]
     },
     "execution_count": 28,
     "metadata": {},
     "output_type": "execute_result"
    }
   ],
   "source": [
    "df = load_email_data(type=\"full\")\n",
    "df[\"text\"] = df[\"body\"]\n",
    "df = p123.transform(df)\n",
    "print(\"stupid\" in df.columns)\n",
    "df.iloc[0][\"tokens\"]"
   ]
  },
  {
   "cell_type": "markdown",
   "id": "aa5e89bb-e236-40da-b022-87e01e7d7157",
   "metadata": {},
   "source": [
    "# Change Pipeline Execution Backend"
   ]
  },
  {
   "cell_type": "code",
   "execution_count": 29,
   "id": "ee488c6e-50a6-43cc-89fe-97762f980a4e",
   "metadata": {},
   "outputs": [],
   "source": [
    "from melusine.backend.active_backend import switch_backend, backend"
   ]
  },
  {
   "cell_type": "code",
   "execution_count": 30,
   "id": "0c847dc3-d69e-4f56-89a6-58a5ad8f3009",
   "metadata": {},
   "outputs": [
    {
     "data": {
      "text/plain": [
       "<melusine.backend.pandas_backend.PandasBackend at 0x7f9223781690>"
      ]
     },
     "execution_count": 30,
     "metadata": {},
     "output_type": "execute_result"
    }
   ],
   "source": [
    "backend._backend"
   ]
  },
  {
   "cell_type": "code",
   "execution_count": 31,
   "id": "26523e57-3434-457b-b31a-6ab952bbbbee",
   "metadata": {},
   "outputs": [
    {
     "name": "stdout",
     "output_type": "stream",
     "text": [
      "Using dict backend for Data transformations\n"
     ]
    }
   ],
   "source": [
    "switch_backend(\"dict\")"
   ]
  },
  {
   "cell_type": "code",
   "execution_count": 32,
   "id": "297e4d08-b414-4d6a-b8d6-0c6f2e1046a2",
   "metadata": {},
   "outputs": [
    {
     "data": {
      "text/plain": [
       "<melusine.backend.dict_backend.DictBackend at 0x7f91f02728d0>"
      ]
     },
     "execution_count": 32,
     "metadata": {},
     "output_type": "execute_result"
    }
   ],
   "source": [
    "backend._backend"
   ]
  },
  {
   "cell_type": "code",
   "execution_count": 33,
   "id": "18e44caa-97a1-4cfd-bb4b-552b4e12d41f",
   "metadata": {},
   "outputs": [],
   "source": [
    "ddd = df.iloc[0].to_dict()"
   ]
  },
  {
   "cell_type": "code",
   "execution_count": 34,
   "id": "5e827f0c-520c-4a9e-88f3-2d40f88c697b",
   "metadata": {},
   "outputs": [
    {
     "data": {
      "text/plain": [
       "dict"
      ]
     },
     "execution_count": 34,
     "metadata": {},
     "output_type": "execute_result"
    }
   ],
   "source": [
    "type(m_pipe.transform(ddd))"
   ]
  },
  {
   "cell_type": "code",
   "execution_count": 35,
   "id": "be1ecb7f-bb76-4f5c-832c-af18523f07d0",
   "metadata": {},
   "outputs": [
    {
     "name": "stdout",
     "output_type": "stream",
     "text": [
      "Using pandas backend for Data transformations\n"
     ]
    }
   ],
   "source": [
    "switch_backend(\"pandas\")"
   ]
  },
  {
   "cell_type": "markdown",
   "id": "79c177db-dc26-4b04-9d80-a8fffd2b6717",
   "metadata": {},
   "source": [
    "# Help users understand the Framework"
   ]
  },
  {
   "cell_type": "code",
   "execution_count": 36,
   "id": "44b2bf88-3e39-4926-86d7-46b95645d358",
   "metadata": {},
   "outputs": [],
   "source": [
    "from melusine.core.melusine_transformer import MelusineTransformer"
   ]
  },
  {
   "cell_type": "code",
   "execution_count": 37,
   "id": "36286dd8-e90e-42c6-ba5f-0c153efeac2c",
   "metadata": {},
   "outputs": [],
   "source": [
    "class NoFilename(MelusineTransformer):\n",
    "    FILENAME = \"wesh\"\n",
    "\n",
    "    def __init__(self, input_columns=(\"text\",), output_columns=(\"text\",)):\n",
    "        super().__init__(input_columns, output_columns)\n",
    "        \n",
    "    def load(self):\n",
    "        pass\n",
    "    \n",
    "    def save(self):\n",
    "        pass    \n",
    "        \n",
    "nofilename = NoFilename()"
   ]
  },
  {
   "cell_type": "code",
   "execution_count": 38,
   "id": "79f30472-662c-496f-9391-d0a9bfe19059",
   "metadata": {},
   "outputs": [],
   "source": [
    "class NoFunc(MelusineTransformer):\n",
    "    FILENAME = \"nofunc\"\n",
    "    def __init__(self, input_columns=(\"text\",), output_columns=(\"text\",)):\n",
    "        super().__init__(input_columns, output_columns)\n",
    "        \n",
    "    def load(self):\n",
    "        pass\n",
    "\n",
    "    def save(self):\n",
    "        pass    \n",
    "        \n",
    "nofunc = NoFunc()"
   ]
  },
  {
   "cell_type": "code",
   "execution_count": 39,
   "id": "5e14941e-e1e9-4610-8264-ab8fad621fbc",
   "metadata": {},
   "outputs": [
    {
     "name": "stdout",
     "output_type": "stream",
     "text": [
      "Instance of <class '__main__.NoFunc'> does not have a func attribute\n",
      "You should either specify a func attribute or define your own transform method\n"
     ]
    }
   ],
   "source": [
    "print(nofunc.transform(ddd))"
   ]
  },
  {
   "cell_type": "markdown",
   "id": "f86e79e3-1ed2-46ac-8f48-a7cc105557aa",
   "metadata": {},
   "source": [
    "# Regex definition"
   ]
  },
  {
   "cell_type": "code",
   "execution_count": 40,
   "id": "aecebfc7-4784-48a9-b803-b1b9789d0711",
   "metadata": {},
   "outputs": [],
   "source": [
    "# === Info importante ===\n",
    "\n",
    "# Les sauts de lignes sont remplacés par le pattern \" ; \" à la réception de la requête\n",
    "# C'est clairement une transformation indésirable aujourd'hui \n",
    "# mais elle est encrée dans les codes et il faudrait prendre quelques jours pour modifier ça et étudier les impacts !\n",
    "\n",
    "\n",
    "# === Start pattern ===\n",
    "# On cherche un début de ligne ou un \";\"\n",
    "start_pattern = r\"\"\"(?:^|;)\"\"\"\n",
    "\n",
    "# === Symboles de début de ligne ===\n",
    "# Les emails avec des multiples retours à la ligne génèrent des paterns de \" ; ; ; ; ; ; \"\n",
    "# Certains messages transférés / réponses ont des symboles en début de lignes (> et/ou |)\n",
    "# Ex:\n",
    "# Merci\n",
    "# > De foo@maif.fr A bar@gmail.com\n",
    "# > Voici le document\n",
    "# On ignore tous ces symboles\n",
    "ignore_characters = \"\"\"(?:[>| ;]*)\"\"\"\n",
    "\n",
    "# === Keywords de transition ===\n",
    "# Certains mot-clés présents dans les réponses et emails transférés sont utilisés pour la segmentation\n",
    "# Ces mot clés sont suivis du symbole \":\"\n",
    "# Ex:\n",
    "# De : XX A : XX Sujet : Blah Blah\n",
    "meta_transition_words = \"\"\"(?:\\\\b(?:[Ee]nvoy[ée](?: par)?|[Dd]e|[Oo]bjet|[Cc]c|Date|[AÀàa]|[Dd]estinataire|[Ss]ent|[Tt]o|[Ss]ub?jec?t|[Ff]rom|[Cc]opie [àa])\\\\b\\\\s{,4}:)\"\"\"\n",
    "\n",
    "# === Méta-données ===\n",
    "# Les mots-clés sont suivi de champs de textes libre qu'il faut identifier\n",
    "# On accepte un retour à la ligne à la suite du mot clé (\"\\s{,4};\\s{,4}\")\n",
    "# On limite le champs de texte libre à 150 charactères (car un .* est très couteux en temps de calcul)\n",
    "# Le champ de texte libre s'arrête lorsqu'on détecte un \";\" (retour à la ligne)\n",
    "meta_content_pattern = r\"\"\"(?:\\\\s{,4};\\\\s{,4}[^;]{,100}[;|]\\\\s{,4})\"\"\"\n",
    "\n",
    "\n",
    "# === Meta data pattern ===\n",
    "meta_pattern = fr\"(?:{ignore_characters}{meta_transition_words}{meta_content_pattern})\"\n",
    "\n",
    "# === Full pattern ===\n",
    "# On cherche un start pattern suivi de répétitions de meta_pattern\n",
    "regex = fr\"\"\"({start_pattern}{meta_pattern}+)\"\"\""
   ]
  },
  {
   "cell_type": "code",
   "execution_count": 41,
   "id": "d3d8748b-122f-44fc-aa79-2703fc7cba36",
   "metadata": {},
   "outputs": [
    {
     "name": "stdout",
     "output_type": "stream",
     "text": [
      "((?:^|;)(?:(?:[>| ;]*)(?:\\b(?:[Ee]nvoy[ée](?: par)?|[Dd]e|[Oo]bjet|[Cc]c|Date|[AÀàa]|[Dd]estinataire|[Ss]ent|[Tt]o|[Ss]ub?jec?t|[Ff]rom|[Cc]opie [àa])\\b\\s{,4}:)(?:\\\\s{,4};\\\\s{,4}[^;]{,100}[;|]\\\\s{,4}))+)\n"
     ]
    }
   ],
   "source": [
    "print(regex)"
   ]
  },
  {
   "cell_type": "code",
   "execution_count": 42,
   "id": "a3f07f31-3299-4a0f-8ae8-d4fd8521470b",
   "metadata": {},
   "outputs": [
    {
     "name": "stdout",
     "output_type": "stream",
     "text": [
      "(?:(?:^|;)(?:(?:[>| ;]*(?:Envoy[ée]|De|Objet|Cc|Envoy[ée] par|Date|A|À|Destinataire|Sent|To|Subject|Sujet|From|Copie [àa])\\s{,4}:\\s{,4};?\\s{,4}[^;]{,100}[;|]\\s{,4}))+)\n"
     ]
    }
   ],
   "source": [
    "print(\"\"\"(?:(?:^|;)(?:(?:[>| ;]*(?:Envoy[ée]|De|Objet|Cc|Envoy[ée] par|Date|A|À|Destinataire|Sent|To|Subject|Sujet|From|Copie [àa])\\s{,4}:\\s{,4};?\\s{,4}[^;]{,100}[;|]\\s{,4}))+)\"\"\")"
   ]
  },
  {
   "cell_type": "code",
   "execution_count": 43,
   "id": "dab3d282-1717-4159-bafc-4404f392b000",
   "metadata": {},
   "outputs": [
    {
     "name": "stdout",
     "output_type": "stream",
     "text": [
      "| |\n",
      "| |\n",
      "| |-------- Message transféré --------\n",
      "| |\n",
      "| |Sujet :\n",
      "| | [INTERNET] Dossier F210306856A -\n",
      "| | Date :| | Mon, 13 Sep 2021 13:45:39 +0200 | | De :| | gestionsinistre@maif.fr | | Pour :| | anomalies-vol-siv@interieur.gouv.fr | | | |Bonjour, |\n"
     ]
    }
   ],
   "source": [
    "print(\"\"\"| |\\n| |\\n| |-------- Message transféré --------\\n| |\\n| |Sujet :\\n| | [INTERNET] Dossier F210306856A -\\n| | Date :| | Mon, 13 Sep 2021 13:45:39 +0200 | | De :| | gestionsinistre@maif.fr | | Pour :| | anomalies-vol-siv@interieur.gouv.fr | | | |Bonjour, |\"\"\")"
   ]
  },
  {
   "cell_type": "code",
   "execution_count": null,
   "id": "8b812b3c-61fc-40a8-9556-02f97af552fc",
   "metadata": {},
   "outputs": [],
   "source": []
  },
  {
   "cell_type": "code",
   "execution_count": 44,
   "id": "4666e23f-e392-47f9-b406-af7b0e9cee3b",
   "metadata": {},
   "outputs": [],
   "source": [
    "import re\n",
    "\n",
    "class RegexEngine:\n",
    "    def __init__(self, regex_catalog):\n",
    "        self.regex_catalog = regex_catalog\n",
    "\n",
    "    @staticmethod\n",
    "    def match_text(text, regex):\n",
    "        return bool(re.search(regex, text))\n",
    "        \n",
    "    def detect(self, df, detection_key, input_column, output_column):\n",
    "        \n",
    "        r_list = self.regex_catalog[detection_key]\n",
    "        regex = \"|\".join(r_list)\n",
    "        \n",
    "        f = lambda x: self.match_text(x, regex=regex)\n",
    "        \n",
    "        df = backend.apply_transform(\n",
    "            data=df,\n",
    "            input_columns=(input_column,),\n",
    "            output_columns=(output_column,),\n",
    "            func=f,\n",
    "        )\n",
    "        \n",
    "        return df\n"
   ]
  },
  {
   "cell_type": "code",
   "execution_count": 45,
   "id": "3d3d3299-852c-4068-8767-7b23342b4820",
   "metadata": {},
   "outputs": [],
   "source": [
    "catalog = {\n",
    "    \"insatisfaction\": [\n",
    "        r\"pas content\",\n",
    "        r\"furieux\"\n",
    "    ],\n",
    "    \"remerciement\": [\n",
    "        r\"merci\",\n",
    "        r\"thanks\"\n",
    "    ],    \n",
    "}"
   ]
  },
  {
   "cell_type": "code",
   "execution_count": 46,
   "id": "a84ee7f4-3e29-4249-9b68-94db2f92f5c5",
   "metadata": {},
   "outputs": [],
   "source": [
    "import pandas as pd\n",
    "df = pd.DataFrame({\"text\": [\"je suis furieux today\", \"wesh\"]})"
   ]
  },
  {
   "cell_type": "code",
   "execution_count": 47,
   "id": "02bac9f2-057b-4d85-aef0-668d442ed79e",
   "metadata": {},
   "outputs": [],
   "source": [
    "r = RegexEngine(catalog)"
   ]
  },
  {
   "cell_type": "code",
   "execution_count": 48,
   "id": "d712900e-53d8-48de-9e9f-12a3639bffcf",
   "metadata": {},
   "outputs": [
    {
     "data": {
      "text/html": [
       "<div>\n",
       "<style scoped>\n",
       "    .dataframe tbody tr th:only-of-type {\n",
       "        vertical-align: middle;\n",
       "    }\n",
       "\n",
       "    .dataframe tbody tr th {\n",
       "        vertical-align: top;\n",
       "    }\n",
       "\n",
       "    .dataframe thead th {\n",
       "        text-align: right;\n",
       "    }\n",
       "</style>\n",
       "<table border=\"1\" class=\"dataframe\">\n",
       "  <thead>\n",
       "    <tr style=\"text-align: right;\">\n",
       "      <th></th>\n",
       "      <th>text</th>\n",
       "      <th>output</th>\n",
       "    </tr>\n",
       "  </thead>\n",
       "  <tbody>\n",
       "    <tr>\n",
       "      <th>0</th>\n",
       "      <td>je suis furieux today</td>\n",
       "      <td>True</td>\n",
       "    </tr>\n",
       "    <tr>\n",
       "      <th>1</th>\n",
       "      <td>wesh</td>\n",
       "      <td>False</td>\n",
       "    </tr>\n",
       "  </tbody>\n",
       "</table>\n",
       "</div>"
      ],
      "text/plain": [
       "                    text  output\n",
       "0  je suis furieux today    True\n",
       "1                   wesh   False"
      ]
     },
     "execution_count": 48,
     "metadata": {},
     "output_type": "execute_result"
    }
   ],
   "source": [
    "r.detect(df, \"insatisfaction\", \"text\", \"output\")"
   ]
  },
  {
   "cell_type": "code",
   "execution_count": 49,
   "id": "23639bd7-6867-4856-84bc-d984600d1077",
   "metadata": {},
   "outputs": [
    {
     "ename": "NameError",
     "evalue": "name 'use' is not defined",
     "output_type": "error",
     "traceback": [
      "\u001b[0;31m---------------------------------------------------------------------------\u001b[0m",
      "\u001b[0;31mNameError\u001b[0m                                 Traceback (most recent call last)",
      "\u001b[0;32m/var/folders/l2/ghhmknnj7k91297jdz44_dqm0000gn/T/ipykernel_1288/1320458317.py\u001b[0m in \u001b[0;36m<module>\u001b[0;34m\u001b[0m\n\u001b[0;32m----> 1\u001b[0;31m \u001b[0muse\u001b[0m\u001b[0;34m(\u001b[0m\u001b[0;34m\"dict\"\u001b[0m\u001b[0;34m)\u001b[0m\u001b[0;34m\u001b[0m\u001b[0;34m\u001b[0m\u001b[0m\n\u001b[0m",
      "\u001b[0;31mNameError\u001b[0m: name 'use' is not defined"
     ]
    }
   ],
   "source": [
    "use(\"dict\")"
   ]
  },
  {
   "cell_type": "code",
   "execution_count": null,
   "id": "621a8117-d0e8-4aab-a2c6-915f7941234d",
   "metadata": {},
   "outputs": [],
   "source": [
    "r.detect(df.iloc[0].to_dict(), \"insatisfaction\", \"text\", \"output\")"
   ]
  },
  {
   "cell_type": "code",
   "execution_count": null,
   "id": "da2eb676-8159-4d17-8e7d-b247bccc2a4f",
   "metadata": {},
   "outputs": [],
   "source": []
  },
  {
   "cell_type": "code",
   "execution_count": null,
   "id": "2c6dc42c-cdfb-4265-a4c6-57ad2ec969e9",
   "metadata": {},
   "outputs": [],
   "source": [
    "from abc import ABC, abstractmethod"
   ]
  },
  {
   "cell_type": "code",
   "execution_count": null,
   "id": "45d7cedf-b59e-437a-9cb9-322d79f3223a",
   "metadata": {},
   "outputs": [],
   "source": [
    "class Base(ABC):\n",
    "    \n",
    "    def __init__(self):\n",
    "        self.__name__ = type(self).__name__\n",
    "        \n",
    "    @staticmethod\n",
    "    @property\n",
    "    @abstractmethod\n",
    "    def a():\n",
    "        return \"YO\""
   ]
  },
  {
   "cell_type": "code",
   "execution_count": null,
   "id": "265630c2-3a4f-4c0d-a13f-1a232a6bf77f",
   "metadata": {},
   "outputs": [],
   "source": [
    "class Child(Base):\n",
    "    _a = 3\n",
    "    \n",
    "    @staticmethod\n",
    "    @property\n",
    "    def a():\n",
    "        return \"Wesh\"\n",
    "    \n",
    "    @classmethod\n",
    "    def print_cls(cls):\n",
    "        return cls.a\n",
    "    \n",
    "    def print_cls2(self):\n",
    "        return self.a    "
   ]
  },
  {
   "cell_type": "code",
   "execution_count": null,
   "id": "c73d4162-7232-4c5e-b8a2-01ce42068884",
   "metadata": {},
   "outputs": [],
   "source": [
    "c = Child()"
   ]
  },
  {
   "cell_type": "code",
   "execution_count": null,
   "id": "87f211e2-8db5-44aa-a44d-6b6cd1fccc35",
   "metadata": {},
   "outputs": [],
   "source": [
    "c.a()"
   ]
  },
  {
   "cell_type": "code",
   "execution_count": null,
   "id": "afba3a9e-cc1c-42c6-8b9f-3ece5f30acd3",
   "metadata": {},
   "outputs": [],
   "source": [
    "Child.print_cls()"
   ]
  },
  {
   "cell_type": "code",
   "execution_count": null,
   "id": "e2d42d37-645e-40fd-81e9-505d70a35472",
   "metadata": {},
   "outputs": [],
   "source": [
    "c.print_cls()"
   ]
  },
  {
   "cell_type": "code",
   "execution_count": null,
   "id": "aae39b63-95e6-4859-887c-f411ef707cdb",
   "metadata": {},
   "outputs": [],
   "source": [
    "Child.__name__"
   ]
  },
  {
   "cell_type": "code",
   "execution_count": null,
   "id": "a49a6c23-f512-464b-980f-140a2395c1a7",
   "metadata": {},
   "outputs": [],
   "source": [
    "c.__name__"
   ]
  },
  {
   "cell_type": "code",
   "execution_count": null,
   "id": "3909b399-42ad-4998-8827-d4bbef0917c2",
   "metadata": {},
   "outputs": [],
   "source": []
  }
 ],
 "metadata": {
  "kernelspec": {
   "display_name": "melusine_perso",
   "language": "python",
   "name": "melusine_perso"
  },
  "language_info": {
   "codemirror_mode": {
    "name": "ipython",
    "version": 3
   },
   "file_extension": ".py",
   "mimetype": "text/x-python",
   "name": "python",
   "nbconvert_exporter": "python",
   "pygments_lexer": "ipython3",
   "version": "3.7.11"
  }
 },
 "nbformat": 4,
 "nbformat_minor": 5
}
