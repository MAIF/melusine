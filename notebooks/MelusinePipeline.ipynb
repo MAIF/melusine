{
 "cells": [
  {
   "cell_type": "markdown",
   "id": "fe70aac9-72e4-432a-ad61-c966c9c848d5",
   "metadata": {},
   "source": [
    "# Text Processor object"
   ]
  },
  {
   "cell_type": "code",
   "execution_count": 1,
   "id": "3b715845-12aa-4a49-a708-7bbd2951f418",
   "metadata": {},
   "outputs": [],
   "source": [
    "from melusine.nlp_tools.normalizer import Normalizer\n",
    "from melusine.nlp_tools.tokenizer import RegexTokenizer\n",
    "from melusine.nlp_tools.phraser import Phraser\n",
    "from melusine.nlp_tools.text_processor import TextProcessor, create_pipeline\n",
    "from melusine.nlp_tools.text_flagger import DeterministicTextFlagger\n",
    "from melusine.nlp_tools.token_flagger import FlashtextTokenFlagger\n",
    "from melusine.nlp_tools.lemmatizer import DummyLemmatizer\n",
    "from melusine.nlp_tools.pipeline import MelusinePipeline\n",
    "\n",
    "from melusine import load_email_data"
   ]
  },
  {
   "cell_type": "code",
   "execution_count": 2,
   "id": "b5b05518-81e0-4286-ae86-d27fd0966c3f",
   "metadata": {},
   "outputs": [],
   "source": [
    "n = Normalizer(form=\"NFKD\", lowercase=True)\n",
    "t = RegexTokenizer(tokenizer_regex=r\"\\w+(?:[\\?\\-\\\"_]\\w+)*\", stopwords=[\"le\", \"les\"])\n",
    "textf = DeterministicTextFlagger(text_flags = {r\"\\d{10}\": \"flag_phone\"})\n",
    "tokenf = FlashtextTokenFlagger(token_flags = {\"flag_name\": [\"joe\", \"bob\"]})\n",
    "d = DummyLemmatizer()\n",
    "\n",
    "\n",
    "pp = TextProcessor(\n",
    "        tokenizer=t,\n",
    "        normalizer=n,\n",
    "        text_flagger=textf,\n",
    "        token_flagger=tokenf,\n",
    "        lemmatizer=d,\n",
    ")"
   ]
  },
  {
   "cell_type": "code",
   "execution_count": 3,
   "id": "4aa06c7a-6aa9-434b-9eb2-15d055cc570f",
   "metadata": {},
   "outputs": [
    {
     "data": {
      "text/plain": [
       "['appelle',\n",
       " 'flag_name',\n",
       " 'sont',\n",
       " 'numero',\n",
       " 'est',\n",
       " 'flag_phone',\n",
       " 'il',\n",
       " 'a',\n",
       " 'billet']"
      ]
     },
     "execution_count": 3,
     "metadata": {},
     "output_type": "execute_result"
    }
   ],
   "source": [
    "pp.process(\"Appelle bob, sont numéro est le 0611111111 ! Il a les billets\")"
   ]
  },
  {
   "cell_type": "code",
   "execution_count": 4,
   "id": "9c26b6ac-ffec-4f2b-9eb0-8267a8131bfa",
   "metadata": {},
   "outputs": [],
   "source": [
    "# pp.save(\"my_text_processor\")"
   ]
  },
  {
   "cell_type": "code",
   "execution_count": 5,
   "id": "da2eaea9-a355-4955-87f7-fb68a6caaefe",
   "metadata": {},
   "outputs": [],
   "source": [
    "# ppp = TextProcessor.load(\"my_text_processor\")"
   ]
  },
  {
   "cell_type": "code",
   "execution_count": 6,
   "id": "7eb9a618-4cec-44a9-9ece-7114a291f973",
   "metadata": {},
   "outputs": [],
   "source": [
    "# ppp.process(\"les écureuils sont présents !!!\")"
   ]
  },
  {
   "cell_type": "markdown",
   "id": "4bbeb771-7441-4ab7-ac47-7e779cd0b981",
   "metadata": {},
   "source": [
    "# Melusine Pipeline"
   ]
  },
  {
   "cell_type": "markdown",
   "id": "3f085ed6-e656-47d9-b660-4d0007c468f5",
   "metadata": {},
   "source": [
    "## Add a custom SKlearn transformer to the pipeline"
   ]
  },
  {
   "cell_type": "code",
   "execution_count": 5,
   "id": "eb7cda76-6c14-4c5c-8aa9-ee4700fbaedd",
   "metadata": {},
   "outputs": [],
   "source": [
    "from sklearn.base import BaseEstimator, TransformerMixin\n",
    "\n",
    "class Stupid(BaseEstimator, TransformerMixin):\n",
    "    def fit(self, df, y=None):\n",
    "        return self\n",
    "\n",
    "    def transform(self, df):\n",
    "        df[\"stupid\"] = True\n",
    "        return df    "
   ]
  },
  {
   "cell_type": "code",
   "execution_count": null,
   "id": "90a890e0-173c-4d35-ab5f-7717676a9d9f",
   "metadata": {},
   "outputs": [],
   "source": []
  },
  {
   "cell_type": "code",
   "execution_count": 6,
   "id": "4be8ac54-08be-4f33-acf7-085e54a4c1ac",
   "metadata": {},
   "outputs": [],
   "source": [
    "textf2 = DeterministicTextFlagger(text_flags = {r\"je\": \"JE\"})\n",
    "stupid = Stupid()\n",
    "gensim_phraser = Phraser(threshold=2, min_count=2)\n",
    "\n",
    "m_pipe = MelusinePipeline([\n",
    "        (\"normalizer\", n),\n",
    "        (\"text_flagger\", textf),\n",
    "        (\"text_flagger2\", textf2),\n",
    "        (\"tokenizer\", t),\n",
    "        (\"lemmatizer\", d),\n",
    "        (\"stupid\", stupid),\n",
    "        (\"gensim_phraser\", gensim_phraser),\n",
    "        (\"token_flagger\", tokenf),\n",
    "]\n",
    ")"
   ]
  },
  {
   "cell_type": "code",
   "execution_count": 10,
   "id": "5db8f95b-0a57-4d60-93d6-d961bc07aae5",
   "metadata": {},
   "outputs": [
    {
     "name": "stdout",
     "output_type": "stream",
     "text": [
      "True\n"
     ]
    },
    {
     "data": {
      "text/plain": [
       "['bonjour_JE',\n",
       " 'sui',\n",
       " 'client',\n",
       " 'chez',\n",
       " 'vou',\n",
       " 'pouvez',\n",
       " 'vou',\n",
       " 'm',\n",
       " 'etablir',\n",
       " 'un_devi',\n",
       " 'pour',\n",
       " 'mon',\n",
       " 'fil',\n",
       " 'qui',\n",
       " 'souhaite',\n",
       " 'louer',\n",
       " 'lappartement',\n",
       " 'suivant',\n",
       " '25',\n",
       " 'rue',\n",
       " 'du',\n",
       " 'rueimaginaire',\n",
       " '77000',\n",
       " 'merci',\n",
       " 'envoye_de',\n",
       " 'mon_iphone']"
      ]
     },
     "execution_count": 10,
     "metadata": {},
     "output_type": "execute_result"
    }
   ],
   "source": [
    "df = load_email_data(type=\"full\")\n",
    "df[\"text\"] = df[\"body\"]\n",
    "df = m_pipe.fit_transform(df)\n",
    "print(\"stupid\" in df.columns)\n",
    "df.iloc[0][\"tokens\"]"
   ]
  },
  {
   "cell_type": "code",
   "execution_count": 7,
   "id": "256d6e28-aa89-4d9f-9de7-fd60b9f3b4de",
   "metadata": {},
   "outputs": [],
   "source": [
    "m_pipe.save(\"my_pipeline\")"
   ]
  },
  {
   "cell_type": "code",
   "execution_count": 12,
   "id": "ca4edd1d-d28a-4fd0-827e-e01dd092d152",
   "metadata": {},
   "outputs": [
    {
     "name": "stdout",
     "output_type": "stream",
     "text": [
      "{'memory': None, 'verbose': None}\n"
     ]
    }
   ],
   "source": [
    "m_pipe_reloaded = MelusinePipeline.load(\"my_pipeline\")"
   ]
  },
  {
   "cell_type": "code",
   "execution_count": 13,
   "id": "ac87bd50-1b5b-4acf-a77a-b04f010875cb",
   "metadata": {},
   "outputs": [
    {
     "data": {
      "text/plain": [
       "MelusinePipeline(steps=[('normalizer', Normalizer()),\n",
       "                        ('text_flagger',\n",
       "                         DeterministicTextFlagger(text_flags={'\\\\d{10}': 'flag_phone'})),\n",
       "                        ('text_flagger2',\n",
       "                         DeterministicTextFlagger(text_flags={'je': 'JE'})),\n",
       "                        ('tokenizer', RegexTokenizer(stopwords={'le', 'les'})),\n",
       "                        ('lemmatizer', DummyLemmatizer()), ('stupid', Stupid()),\n",
       "                        ('gensim_phraser', Phraser()),\n",
       "                        ('token_flagger',\n",
       "                         FlashtextTokenFlagger(flashtext_separators=['-', '_',\n",
       "                                                                     '/'],\n",
       "                                               token_flags={'flag_name': ['joe',\n",
       "                                                                          'bob']}))])"
      ]
     },
     "execution_count": 13,
     "metadata": {},
     "output_type": "execute_result"
    }
   ],
   "source": [
    "m_pipe_reloaded"
   ]
  },
  {
   "cell_type": "code",
   "execution_count": 14,
   "id": "4da8929f-2ebf-405a-95f0-d8a176ea21ff",
   "metadata": {},
   "outputs": [
    {
     "name": "stdout",
     "output_type": "stream",
     "text": [
      "True\n"
     ]
    },
    {
     "data": {
      "text/plain": [
       "['bonjour_JE',\n",
       " 'sui',\n",
       " 'client',\n",
       " 'chez',\n",
       " 'vou',\n",
       " 'pouvez',\n",
       " 'vou',\n",
       " 'm',\n",
       " 'etablir',\n",
       " 'un_devi',\n",
       " 'pour',\n",
       " 'mon',\n",
       " 'fil',\n",
       " 'qui',\n",
       " 'souhaite',\n",
       " 'louer',\n",
       " 'lappartement',\n",
       " 'suivant',\n",
       " '25',\n",
       " 'rue',\n",
       " 'du',\n",
       " 'rueimaginaire',\n",
       " '77000',\n",
       " 'merci',\n",
       " 'envoye_de',\n",
       " 'mon_iphone']"
      ]
     },
     "execution_count": 14,
     "metadata": {},
     "output_type": "execute_result"
    }
   ],
   "source": [
    "df = load_email_data(type=\"full\")\n",
    "df[\"text\"] = df[\"body\"]\n",
    "df = m_pipe_reloaded.transform(df)\n",
    "print(\"stupid\" in df.columns)\n",
    "df.iloc[0][\"tokens\"]"
   ]
  },
  {
   "cell_type": "code",
   "execution_count": 19,
   "id": "7c106b1a-d866-4fc7-98c2-7b5849580068",
   "metadata": {},
   "outputs": [
    {
     "data": {
      "text/html": [
       "<style>#sk-df0c23e4-045e-4fa1-a529-d294e07a13b5 {color: black;background-color: white;}#sk-df0c23e4-045e-4fa1-a529-d294e07a13b5 pre{padding: 0;}#sk-df0c23e4-045e-4fa1-a529-d294e07a13b5 div.sk-toggleable {background-color: white;}#sk-df0c23e4-045e-4fa1-a529-d294e07a13b5 label.sk-toggleable__label {cursor: pointer;display: block;width: 100%;margin-bottom: 0;padding: 0.2em 0.3em;box-sizing: border-box;text-align: center;}#sk-df0c23e4-045e-4fa1-a529-d294e07a13b5 div.sk-toggleable__content {max-height: 0;max-width: 0;overflow: hidden;text-align: left;background-color: #f0f8ff;}#sk-df0c23e4-045e-4fa1-a529-d294e07a13b5 div.sk-toggleable__content pre {margin: 0.2em;color: black;border-radius: 0.25em;background-color: #f0f8ff;}#sk-df0c23e4-045e-4fa1-a529-d294e07a13b5 input.sk-toggleable__control:checked~div.sk-toggleable__content {max-height: 200px;max-width: 100%;overflow: auto;}#sk-df0c23e4-045e-4fa1-a529-d294e07a13b5 div.sk-estimator input.sk-toggleable__control:checked~label.sk-toggleable__label {background-color: #d4ebff;}#sk-df0c23e4-045e-4fa1-a529-d294e07a13b5 div.sk-label input.sk-toggleable__control:checked~label.sk-toggleable__label {background-color: #d4ebff;}#sk-df0c23e4-045e-4fa1-a529-d294e07a13b5 input.sk-hidden--visually {border: 0;clip: rect(1px 1px 1px 1px);clip: rect(1px, 1px, 1px, 1px);height: 1px;margin: -1px;overflow: hidden;padding: 0;position: absolute;width: 1px;}#sk-df0c23e4-045e-4fa1-a529-d294e07a13b5 div.sk-estimator {font-family: monospace;background-color: #f0f8ff;margin: 0.25em 0.25em;border: 1px dotted black;border-radius: 0.25em;box-sizing: border-box;}#sk-df0c23e4-045e-4fa1-a529-d294e07a13b5 div.sk-estimator:hover {background-color: #d4ebff;}#sk-df0c23e4-045e-4fa1-a529-d294e07a13b5 div.sk-parallel-item::after {content: \"\";width: 100%;border-bottom: 1px solid gray;flex-grow: 1;}#sk-df0c23e4-045e-4fa1-a529-d294e07a13b5 div.sk-label:hover label.sk-toggleable__label {background-color: #d4ebff;}#sk-df0c23e4-045e-4fa1-a529-d294e07a13b5 div.sk-serial::before {content: \"\";position: absolute;border-left: 1px solid gray;box-sizing: border-box;top: 2em;bottom: 0;left: 50%;}#sk-df0c23e4-045e-4fa1-a529-d294e07a13b5 div.sk-serial {display: flex;flex-direction: column;align-items: center;background-color: white;}#sk-df0c23e4-045e-4fa1-a529-d294e07a13b5 div.sk-item {z-index: 1;}#sk-df0c23e4-045e-4fa1-a529-d294e07a13b5 div.sk-parallel {display: flex;align-items: stretch;justify-content: center;background-color: white;}#sk-df0c23e4-045e-4fa1-a529-d294e07a13b5 div.sk-parallel-item {display: flex;flex-direction: column;position: relative;background-color: white;}#sk-df0c23e4-045e-4fa1-a529-d294e07a13b5 div.sk-parallel-item:first-child::after {align-self: flex-end;width: 50%;}#sk-df0c23e4-045e-4fa1-a529-d294e07a13b5 div.sk-parallel-item:last-child::after {align-self: flex-start;width: 50%;}#sk-df0c23e4-045e-4fa1-a529-d294e07a13b5 div.sk-parallel-item:only-child::after {width: 0;}#sk-df0c23e4-045e-4fa1-a529-d294e07a13b5 div.sk-dashed-wrapped {border: 1px dashed gray;margin: 0.2em;box-sizing: border-box;padding-bottom: 0.1em;background-color: white;position: relative;}#sk-df0c23e4-045e-4fa1-a529-d294e07a13b5 div.sk-label label {font-family: monospace;font-weight: bold;background-color: white;display: inline-block;line-height: 1.2em;}#sk-df0c23e4-045e-4fa1-a529-d294e07a13b5 div.sk-label-container {position: relative;z-index: 2;text-align: center;}#sk-df0c23e4-045e-4fa1-a529-d294e07a13b5 div.sk-container {display: inline-block;position: relative;}</style><div id=\"sk-df0c23e4-045e-4fa1-a529-d294e07a13b5\" class\"sk-top-container\"><div class=\"sk-container\"><div class=\"sk-item sk-dashed-wrapped\"><div class=\"sk-label-container\"><div class=\"sk-label sk-toggleable\"><input class=\"sk-toggleable__control sk-hidden--visually\" id=\"e208c8d7-3236-4efc-8b06-85e8721146e6\" type=\"checkbox\" ><label class=\"sk-toggleable__label\" for=\"e208c8d7-3236-4efc-8b06-85e8721146e6\">MelusinePipeline</label><div class=\"sk-toggleable__content\"><pre>MelusinePipeline(steps=[('normalizer', Normalizer()),\n",
       "                        ('text_flagger',\n",
       "                         DeterministicTextFlagger(text_flags={'\\\\d{10}': 'flag_phone'})),\n",
       "                        ('text_flagger2',\n",
       "                         DeterministicTextFlagger(text_flags={'je': 'JE'})),\n",
       "                        ('tokenizer', RegexTokenizer(stopwords={'le', 'les'})),\n",
       "                        ('lemmatizer', DummyLemmatizer()), ('stupid', Stupid()),\n",
       "                        ('gensim_phraser', Phraser()),\n",
       "                        ('token_flagger',\n",
       "                         FlashtextTokenFlagger(flashtext_separators=['-', '_',\n",
       "                                                                     '/'],\n",
       "                                               token_flags={'flag_name': ['joe',\n",
       "                                                                          'bob']}))])</pre></div></div></div><div class=\"sk-serial\"><div class=\"sk-item\"><div class=\"sk-estimator sk-toggleable\"><input class=\"sk-toggleable__control sk-hidden--visually\" id=\"98a7d0a5-2d56-486c-81b0-ca6574127961\" type=\"checkbox\" ><label class=\"sk-toggleable__label\" for=\"98a7d0a5-2d56-486c-81b0-ca6574127961\">Normalizer</label><div class=\"sk-toggleable__content\"><pre>Normalizer()</pre></div></div></div><div class=\"sk-item\"><div class=\"sk-estimator sk-toggleable\"><input class=\"sk-toggleable__control sk-hidden--visually\" id=\"4fd93412-9640-4865-9c31-227eca3ac882\" type=\"checkbox\" ><label class=\"sk-toggleable__label\" for=\"4fd93412-9640-4865-9c31-227eca3ac882\">DeterministicTextFlagger</label><div class=\"sk-toggleable__content\"><pre>DeterministicTextFlagger(text_flags={'\\\\d{10}': 'flag_phone'})</pre></div></div></div><div class=\"sk-item\"><div class=\"sk-estimator sk-toggleable\"><input class=\"sk-toggleable__control sk-hidden--visually\" id=\"15ee3dcb-edcf-4da2-af76-d065a56dd222\" type=\"checkbox\" ><label class=\"sk-toggleable__label\" for=\"15ee3dcb-edcf-4da2-af76-d065a56dd222\">DeterministicTextFlagger</label><div class=\"sk-toggleable__content\"><pre>DeterministicTextFlagger(text_flags={'je': 'JE'})</pre></div></div></div><div class=\"sk-item\"><div class=\"sk-estimator sk-toggleable\"><input class=\"sk-toggleable__control sk-hidden--visually\" id=\"dc277b38-b92b-4212-b467-6ececa562971\" type=\"checkbox\" ><label class=\"sk-toggleable__label\" for=\"dc277b38-b92b-4212-b467-6ececa562971\">RegexTokenizer</label><div class=\"sk-toggleable__content\"><pre>RegexTokenizer(stopwords={'le', 'les'})</pre></div></div></div><div class=\"sk-item\"><div class=\"sk-estimator sk-toggleable\"><input class=\"sk-toggleable__control sk-hidden--visually\" id=\"cd62cbe3-5606-4d2e-bb09-694e27ec8e75\" type=\"checkbox\" ><label class=\"sk-toggleable__label\" for=\"cd62cbe3-5606-4d2e-bb09-694e27ec8e75\">DummyLemmatizer</label><div class=\"sk-toggleable__content\"><pre>DummyLemmatizer()</pre></div></div></div><div class=\"sk-item\"><div class=\"sk-estimator sk-toggleable\"><input class=\"sk-toggleable__control sk-hidden--visually\" id=\"98feb3b6-c588-4325-b5f9-f1f52490708f\" type=\"checkbox\" ><label class=\"sk-toggleable__label\" for=\"98feb3b6-c588-4325-b5f9-f1f52490708f\">Stupid</label><div class=\"sk-toggleable__content\"><pre>Stupid()</pre></div></div></div><div class=\"sk-item\"><div class=\"sk-estimator sk-toggleable\"><input class=\"sk-toggleable__control sk-hidden--visually\" id=\"016f07a5-3848-4609-bf5c-b58ee777f674\" type=\"checkbox\" ><label class=\"sk-toggleable__label\" for=\"016f07a5-3848-4609-bf5c-b58ee777f674\">Phraser</label><div class=\"sk-toggleable__content\"><pre>Phraser()</pre></div></div></div><div class=\"sk-item\"><div class=\"sk-estimator sk-toggleable\"><input class=\"sk-toggleable__control sk-hidden--visually\" id=\"46ac4fa6-1c1a-4077-a538-2940d4b07a71\" type=\"checkbox\" ><label class=\"sk-toggleable__label\" for=\"46ac4fa6-1c1a-4077-a538-2940d4b07a71\">FlashtextTokenFlagger</label><div class=\"sk-toggleable__content\"><pre>FlashtextTokenFlagger(flashtext_separators=['-', '_', '/'],\n",
       "                      token_flags={'flag_name': ['joe', 'bob']})</pre></div></div></div></div></div></div></div>"
      ],
      "text/plain": [
       "MelusinePipeline(steps=[('normalizer', Normalizer()),\n",
       "                        ('text_flagger',\n",
       "                         DeterministicTextFlagger(text_flags={'\\\\d{10}': 'flag_phone'})),\n",
       "                        ('text_flagger2',\n",
       "                         DeterministicTextFlagger(text_flags={'je': 'JE'})),\n",
       "                        ('tokenizer', RegexTokenizer(stopwords={'le', 'les'})),\n",
       "                        ('lemmatizer', DummyLemmatizer()), ('stupid', Stupid()),\n",
       "                        ('gensim_phraser', Phraser()),\n",
       "                        ('token_flagger',\n",
       "                         FlashtextTokenFlagger(flashtext_separators=['-', '_',\n",
       "                                                                     '/'],\n",
       "                                               token_flags={'flag_name': ['joe',\n",
       "                                                                          'bob']}))])"
      ]
     },
     "execution_count": 19,
     "metadata": {},
     "output_type": "execute_result"
    }
   ],
   "source": [
    "from sklearn import set_config\n",
    "\n",
    "set_config(display='diagram')\n",
    "m_pipe_reloaded"
   ]
  },
  {
   "cell_type": "markdown",
   "id": "5cab8eaf-9fab-44f9-a17f-b722f85c45de",
   "metadata": {},
   "source": [
    "# Simplified Pipeline creation"
   ]
  },
  {
   "cell_type": "code",
   "execution_count": 14,
   "id": "8767d5ee-70dc-4605-ae66-49ba47a41a7e",
   "metadata": {},
   "outputs": [],
   "source": [
    "easy_pipe = create_pipeline(\n",
    "        form = \"NFKD\",\n",
    "        lowercase = True,\n",
    "        tokenizer_regex = r\"\\w+(?:[\\?\\-\\\"_]\\w+)*\",\n",
    "        stopwords = [\"le\", \"les\"],\n",
    "        text_flags = {r\"\\d{10}\": \"flag_phone\"},\n",
    "        token_flags = {\"flag_name\": [\"joe\", \"bob\"]},  \n",
    ")"
   ]
  },
  {
   "cell_type": "code",
   "execution_count": 15,
   "id": "be9c5759-2afb-48f2-93c9-037eb2103a25",
   "metadata": {},
   "outputs": [
    {
     "data": {
      "text/plain": [
       "MelusinePipeline(steps=[('normalizer', Normalizer()),\n",
       "                        ('text_flagger',\n",
       "                         DeterministicTextFlagger(text_flags={'\\\\d{10}': 'flag_phone'})),\n",
       "                        ('tokenizer', RegexTokenizer(stopwords={'le', 'les'})),\n",
       "                        ('token_flagger',\n",
       "                         FlashtextTokenFlagger(token_flags={'flag_name': ['joe',\n",
       "                                                                          'bob']}))])"
      ]
     },
     "execution_count": 15,
     "metadata": {},
     "output_type": "execute_result"
    }
   ],
   "source": [
    "easy_pipe"
   ]
  },
  {
   "cell_type": "code",
   "execution_count": 16,
   "id": "02702c6c-c2fc-4b3b-b047-2de555f13ad1",
   "metadata": {},
   "outputs": [
    {
     "data": {
      "text/plain": [
       "['bonjour',\n",
       " 'je',\n",
       " 'suis',\n",
       " 'client',\n",
       " 'chez',\n",
       " 'vous',\n",
       " 'pouvez',\n",
       " 'vous',\n",
       " 'm',\n",
       " 'etablir',\n",
       " 'un',\n",
       " 'devis',\n",
       " 'pour',\n",
       " 'mon',\n",
       " 'fils',\n",
       " 'qui',\n",
       " 'souhaite',\n",
       " 'louer',\n",
       " 'lappartement',\n",
       " 'suivant',\n",
       " '25',\n",
       " 'rue',\n",
       " 'du',\n",
       " 'rueimaginaire',\n",
       " '77000',\n",
       " 'merci',\n",
       " 'envoye',\n",
       " 'de',\n",
       " 'mon',\n",
       " 'iphone']"
      ]
     },
     "execution_count": 16,
     "metadata": {},
     "output_type": "execute_result"
    }
   ],
   "source": [
    "df = load_email_data(type=\"full\")\n",
    "df[\"text\"] = df[\"body\"]\n",
    "df = easy_pipe.transform(df)\n",
    "df.iloc[0][\"tokens\"]"
   ]
  },
  {
   "cell_type": "code",
   "execution_count": 17,
   "id": "b8102cab-8e79-40af-8b6a-dcaac2d63c2d",
   "metadata": {},
   "outputs": [],
   "source": [
    "easy_pipe.save(\"my_easy_pipeline\")"
   ]
  },
  {
   "cell_type": "code",
   "execution_count": 18,
   "id": "d36c493b-de38-4327-96b9-cb44a5f88f81",
   "metadata": {},
   "outputs": [
    {
     "name": "stdout",
     "output_type": "stream",
     "text": [
      "{'memory': False, 'verbose': False}\n"
     ]
    }
   ],
   "source": [
    "easy_pipe_reloaded = MelusinePipeline.load(\"my_easy_pipeline\")"
   ]
  },
  {
   "cell_type": "code",
   "execution_count": 9,
   "id": "e90ebca0-55fc-4bd8-92a3-370140bb662c",
   "metadata": {},
   "outputs": [
    {
     "ename": "NameError",
     "evalue": "name 'easy_pipe_reloaded' is not defined",
     "output_type": "error",
     "traceback": [
      "\u001b[0;31m---------------------------------------------------------------------------\u001b[0m",
      "\u001b[0;31mNameError\u001b[0m                                 Traceback (most recent call last)",
      "\u001b[0;32m/var/folders/qj/k2frnywn4mq2ssgfk1b99yl00000gn/T/ipykernel_30438/1410619653.py\u001b[0m in \u001b[0;36m<module>\u001b[0;34m\u001b[0m\n\u001b[1;32m      1\u001b[0m \u001b[0mdf\u001b[0m \u001b[0;34m=\u001b[0m \u001b[0mload_email_data\u001b[0m\u001b[0;34m(\u001b[0m\u001b[0mtype\u001b[0m\u001b[0;34m=\u001b[0m\u001b[0;34m\"full\"\u001b[0m\u001b[0;34m)\u001b[0m\u001b[0;34m\u001b[0m\u001b[0;34m\u001b[0m\u001b[0m\n\u001b[1;32m      2\u001b[0m \u001b[0mdf\u001b[0m\u001b[0;34m[\u001b[0m\u001b[0;34m\"text\"\u001b[0m\u001b[0;34m]\u001b[0m \u001b[0;34m=\u001b[0m \u001b[0mdf\u001b[0m\u001b[0;34m[\u001b[0m\u001b[0;34m\"body\"\u001b[0m\u001b[0;34m]\u001b[0m\u001b[0;34m\u001b[0m\u001b[0;34m\u001b[0m\u001b[0m\n\u001b[0;32m----> 3\u001b[0;31m \u001b[0mdf\u001b[0m \u001b[0;34m=\u001b[0m \u001b[0measy_pipe_reloaded\u001b[0m\u001b[0;34m.\u001b[0m\u001b[0mtransform\u001b[0m\u001b[0;34m(\u001b[0m\u001b[0mdf\u001b[0m\u001b[0;34m)\u001b[0m\u001b[0;34m\u001b[0m\u001b[0;34m\u001b[0m\u001b[0m\n\u001b[0m\u001b[1;32m      4\u001b[0m \u001b[0mdf\u001b[0m\u001b[0;34m.\u001b[0m\u001b[0miloc\u001b[0m\u001b[0;34m[\u001b[0m\u001b[0;36m0\u001b[0m\u001b[0;34m]\u001b[0m\u001b[0;34m[\u001b[0m\u001b[0;34m\"tokens\"\u001b[0m\u001b[0;34m]\u001b[0m\u001b[0;34m\u001b[0m\u001b[0;34m\u001b[0m\u001b[0m\n",
      "\u001b[0;31mNameError\u001b[0m: name 'easy_pipe_reloaded' is not defined"
     ]
    }
   ],
   "source": [
    "df = load_email_data(type=\"full\")\n",
    "df[\"text\"] = df[\"body\"]\n",
    "df = easy_pipe_reloaded.transform(df)\n",
    "df.iloc[0][\"tokens\"]"
   ]
  },
  {
   "cell_type": "code",
   "execution_count": 21,
   "id": "348cfae4-a57b-4cef-af09-78aab980e95e",
   "metadata": {},
   "outputs": [
    {
     "data": {
      "text/plain": [
       "'3'"
      ]
     },
     "execution_count": 21,
     "metadata": {},
     "output_type": "execute_result"
    }
   ],
   "source": [
    "x = 1\n",
    "f\"{3:0{len(str(x))}d}\""
   ]
  },
  {
   "cell_type": "code",
   "execution_count": null,
   "id": "a8cbf9b5-e8d6-49b5-a378-18025034c23a",
   "metadata": {},
   "outputs": [],
   "source": []
  },
  {
   "cell_type": "code",
   "execution_count": 11,
   "id": "16c1d453-903a-41ea-a796-a2423f968848",
   "metadata": {},
   "outputs": [],
   "source": [
    "def lowercase(text):\n",
    "    return text.lower()"
   ]
  },
  {
   "cell_type": "code",
   "execution_count": 13,
   "id": "99f8124f-0b12-4da9-a017-cbee75a84122",
   "metadata": {},
   "outputs": [
    {
     "name": "stdout",
     "output_type": "stream",
     "text": [
      "264 µs ± 20.4 µs per loop (mean ± std. dev. of 7 runs, 1000 loops each)\n"
     ]
    }
   ],
   "source": [
    "%%timeit\n",
    "df[\"body\"].apply(lowercase)"
   ]
  },
  {
   "cell_type": "code",
   "execution_count": 14,
   "id": "1dc6f4b8-9a2b-4972-8ad0-1ec69e2a8ccc",
   "metadata": {},
   "outputs": [
    {
     "name": "stdout",
     "output_type": "stream",
     "text": [
      "234 µs ± 11.5 µs per loop (mean ± std. dev. of 7 runs, 1000 loops each)\n"
     ]
    }
   ],
   "source": [
    "%%timeit\n",
    "df[\"body\"].str.lower()"
   ]
  },
  {
   "cell_type": "code",
   "execution_count": null,
   "id": "10b53261-d414-4926-8249-277293ac89e7",
   "metadata": {},
   "outputs": [],
   "source": []
  },
  {
   "cell_type": "code",
   "execution_count": null,
   "id": "cbb836f8-c17a-48fc-8bb0-426f375fb26e",
   "metadata": {},
   "outputs": [],
   "source": []
  },
  {
   "cell_type": "code",
   "execution_count": null,
   "id": "b523188d-378b-43f5-b1a1-564987f49449",
   "metadata": {},
   "outputs": [],
   "source": []
  },
  {
   "cell_type": "code",
   "execution_count": null,
   "id": "29c9eadc-f3a6-4df4-84f4-73c7eb115a47",
   "metadata": {},
   "outputs": [],
   "source": [
    "from triton_api import predict_triton\n",
    "\n",
    "def MelusineModel(BaseMelusineClass):\n",
    "    \n",
    "    def server_inference(X):\n",
    "        predict_triton(X)\n",
    "        \n",
    "    def predict\n",
    "        "
   ]
  }
 ],
 "metadata": {
  "kernelspec": {
   "display_name": "melusine_perso38",
   "language": "python",
   "name": "melusine_perso38"
  },
  "language_info": {
   "codemirror_mode": {
    "name": "ipython",
    "version": 3
   },
   "file_extension": ".py",
   "mimetype": "text/x-python",
   "name": "python",
   "nbconvert_exporter": "python",
   "pygments_lexer": "ipython3",
   "version": "3.8.11"
  }
 },
 "nbformat": 4,
 "nbformat_minor": 5
}
